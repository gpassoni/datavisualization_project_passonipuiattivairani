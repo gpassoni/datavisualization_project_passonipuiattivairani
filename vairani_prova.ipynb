{
 "cells": [
  {
   "cell_type": "code",
   "execution_count": 1,
   "metadata": {},
   "outputs": [],
   "source": [
    "import numpy as np\n",
    "import pandas as pd\n",
    "import missingno\n",
    "import matplotlib.pyplot as plt\n",
    "import io\n",
    "from sklearn.preprocessing import KBinsDiscretizer\n",
    "import requests\n",
    "import urllib.parse\n",
    "import pandas as pd\n",
    "import seaborn as sns\n",
    "import numpy as np\n",
    "import missingno\n",
    "import matplotlib.pyplot as plt\n",
    "import matplotlib.pyplot as plt\n",
    "import pandas as pd\n",
    "import plotly.express as px\n",
    "from plotly.subplots import make_subplots\n",
    "from sklearn.linear_model import LinearRegression\n",
    "from sklearn import preprocessing\n",
    "from scipy.spatial import distance\n",
    "from sklearn.impute import KNNImputer\n",
    "from sklearn.preprocessing import OrdinalEncoder\n",
    "from sklearn.linear_model import LogisticRegression\n",
    "import scipy.stats\n",
    "from scipy import stats\n",
    "from sklearn.feature_selection import RFE\n",
    "from sklearn.ensemble import AdaBoostRegressor\n",
    "from sklearn.ensemble import RandomForestRegressor\n",
    "from numpy import array\n",
    "import copy\n",
    "from sklearn.preprocessing import PolynomialFeatures\n",
    "from sklearn.metrics import mean_squared_error\n",
    "from sklearn.model_selection import train_test_split\n",
    "from sklearn.linear_model import Ridge\n",
    "from sklearn.model_selection import cross_val_score\n",
    "from sklearn.linear_model import Lasso "
   ]
  },
  {
   "cell_type": "code",
   "execution_count": 2,
   "metadata": {},
   "outputs": [
    {
     "data": {
      "text/html": [
       "<div>\n",
       "<style scoped>\n",
       "    .dataframe tbody tr th:only-of-type {\n",
       "        vertical-align: middle;\n",
       "    }\n",
       "\n",
       "    .dataframe tbody tr th {\n",
       "        vertical-align: top;\n",
       "    }\n",
       "\n",
       "    .dataframe thead th {\n",
       "        text-align: right;\n",
       "    }\n",
       "</style>\n",
       "<table border=\"1\" class=\"dataframe\">\n",
       "  <thead>\n",
       "    <tr style=\"text-align: right;\">\n",
       "      <th></th>\n",
       "      <th>iso3</th>\n",
       "      <th>country</th>\n",
       "      <th>hdicode</th>\n",
       "      <th>region</th>\n",
       "      <th>hdi_rank_2021</th>\n",
       "      <th>hdi_1990</th>\n",
       "      <th>hdi_1991</th>\n",
       "      <th>hdi_1992</th>\n",
       "      <th>hdi_1993</th>\n",
       "      <th>hdi_1994</th>\n",
       "      <th>...</th>\n",
       "      <th>mf_2012</th>\n",
       "      <th>mf_2013</th>\n",
       "      <th>mf_2014</th>\n",
       "      <th>mf_2015</th>\n",
       "      <th>mf_2016</th>\n",
       "      <th>mf_2017</th>\n",
       "      <th>mf_2018</th>\n",
       "      <th>mf_2019</th>\n",
       "      <th>mf_2020</th>\n",
       "      <th>mf_2021</th>\n",
       "    </tr>\n",
       "  </thead>\n",
       "  <tbody>\n",
       "    <tr>\n",
       "      <th>0</th>\n",
       "      <td>AFG</td>\n",
       "      <td>Afghanistan</td>\n",
       "      <td>Low</td>\n",
       "      <td>SA</td>\n",
       "      <td>180.0</td>\n",
       "      <td>0.273</td>\n",
       "      <td>0.279</td>\n",
       "      <td>0.287</td>\n",
       "      <td>0.297</td>\n",
       "      <td>0.292</td>\n",
       "      <td>...</td>\n",
       "      <td>1.860000</td>\n",
       "      <td>1.880000</td>\n",
       "      <td>1.660000</td>\n",
       "      <td>1.620000</td>\n",
       "      <td>1.660000</td>\n",
       "      <td>1.410000</td>\n",
       "      <td>1.320000</td>\n",
       "      <td>1.380000</td>\n",
       "      <td>1.380000</td>\n",
       "      <td>1.380000</td>\n",
       "    </tr>\n",
       "    <tr>\n",
       "      <th>1</th>\n",
       "      <td>AGO</td>\n",
       "      <td>Angola</td>\n",
       "      <td>Medium</td>\n",
       "      <td>SSA</td>\n",
       "      <td>148.0</td>\n",
       "      <td>NaN</td>\n",
       "      <td>NaN</td>\n",
       "      <td>NaN</td>\n",
       "      <td>NaN</td>\n",
       "      <td>NaN</td>\n",
       "      <td>...</td>\n",
       "      <td>4.090000</td>\n",
       "      <td>4.530000</td>\n",
       "      <td>3.970000</td>\n",
       "      <td>3.590000</td>\n",
       "      <td>2.790000</td>\n",
       "      <td>2.640000</td>\n",
       "      <td>2.280000</td>\n",
       "      <td>2.180000</td>\n",
       "      <td>2.180000</td>\n",
       "      <td>2.180000</td>\n",
       "    </tr>\n",
       "    <tr>\n",
       "      <th>2</th>\n",
       "      <td>ALB</td>\n",
       "      <td>Albania</td>\n",
       "      <td>High</td>\n",
       "      <td>ECA</td>\n",
       "      <td>67.0</td>\n",
       "      <td>0.647</td>\n",
       "      <td>0.629</td>\n",
       "      <td>0.614</td>\n",
       "      <td>0.617</td>\n",
       "      <td>0.624</td>\n",
       "      <td>...</td>\n",
       "      <td>12.440000</td>\n",
       "      <td>11.490000</td>\n",
       "      <td>13.140000</td>\n",
       "      <td>12.610000</td>\n",
       "      <td>14.390000</td>\n",
       "      <td>14.460000</td>\n",
       "      <td>12.850000</td>\n",
       "      <td>12.960000</td>\n",
       "      <td>12.960000</td>\n",
       "      <td>12.960000</td>\n",
       "    </tr>\n",
       "    <tr>\n",
       "      <th>3</th>\n",
       "      <td>AND</td>\n",
       "      <td>Andorra</td>\n",
       "      <td>Very High</td>\n",
       "      <td>NaN</td>\n",
       "      <td>40.0</td>\n",
       "      <td>NaN</td>\n",
       "      <td>NaN</td>\n",
       "      <td>NaN</td>\n",
       "      <td>NaN</td>\n",
       "      <td>NaN</td>\n",
       "      <td>...</td>\n",
       "      <td>NaN</td>\n",
       "      <td>NaN</td>\n",
       "      <td>NaN</td>\n",
       "      <td>NaN</td>\n",
       "      <td>NaN</td>\n",
       "      <td>NaN</td>\n",
       "      <td>NaN</td>\n",
       "      <td>NaN</td>\n",
       "      <td>NaN</td>\n",
       "      <td>NaN</td>\n",
       "    </tr>\n",
       "    <tr>\n",
       "      <th>4</th>\n",
       "      <td>ARE</td>\n",
       "      <td>United Arab Emirates</td>\n",
       "      <td>Very High</td>\n",
       "      <td>AS</td>\n",
       "      <td>26.0</td>\n",
       "      <td>0.728</td>\n",
       "      <td>0.739</td>\n",
       "      <td>0.742</td>\n",
       "      <td>0.748</td>\n",
       "      <td>0.755</td>\n",
       "      <td>...</td>\n",
       "      <td>49.560000</td>\n",
       "      <td>49.680000</td>\n",
       "      <td>55.490000</td>\n",
       "      <td>59.760000</td>\n",
       "      <td>64.950000</td>\n",
       "      <td>75.610000</td>\n",
       "      <td>65.970000</td>\n",
       "      <td>68.950000</td>\n",
       "      <td>68.950000</td>\n",
       "      <td>68.950000</td>\n",
       "    </tr>\n",
       "    <tr>\n",
       "      <th>...</th>\n",
       "      <td>...</td>\n",
       "      <td>...</td>\n",
       "      <td>...</td>\n",
       "      <td>...</td>\n",
       "      <td>...</td>\n",
       "      <td>...</td>\n",
       "      <td>...</td>\n",
       "      <td>...</td>\n",
       "      <td>...</td>\n",
       "      <td>...</td>\n",
       "      <td>...</td>\n",
       "      <td>...</td>\n",
       "      <td>...</td>\n",
       "      <td>...</td>\n",
       "      <td>...</td>\n",
       "      <td>...</td>\n",
       "      <td>...</td>\n",
       "      <td>...</td>\n",
       "      <td>...</td>\n",
       "      <td>...</td>\n",
       "      <td>...</td>\n",
       "    </tr>\n",
       "    <tr>\n",
       "      <th>201</th>\n",
       "      <td>ZZG.ECA</td>\n",
       "      <td>Europe and Central Asia</td>\n",
       "      <td>NaN</td>\n",
       "      <td>NaN</td>\n",
       "      <td>NaN</td>\n",
       "      <td>0.664</td>\n",
       "      <td>0.661</td>\n",
       "      <td>0.654</td>\n",
       "      <td>0.652</td>\n",
       "      <td>0.647</td>\n",
       "      <td>...</td>\n",
       "      <td>13.107171</td>\n",
       "      <td>14.172082</td>\n",
       "      <td>14.189127</td>\n",
       "      <td>14.523162</td>\n",
       "      <td>13.791770</td>\n",
       "      <td>13.618078</td>\n",
       "      <td>13.914030</td>\n",
       "      <td>14.087293</td>\n",
       "      <td>14.091826</td>\n",
       "      <td>14.096719</td>\n",
       "    </tr>\n",
       "    <tr>\n",
       "      <th>202</th>\n",
       "      <td>ZZH.LAC</td>\n",
       "      <td>Latin America and the Caribbean</td>\n",
       "      <td>NaN</td>\n",
       "      <td>NaN</td>\n",
       "      <td>NaN</td>\n",
       "      <td>0.633</td>\n",
       "      <td>0.638</td>\n",
       "      <td>0.643</td>\n",
       "      <td>0.648</td>\n",
       "      <td>0.654</td>\n",
       "      <td>...</td>\n",
       "      <td>14.114108</td>\n",
       "      <td>14.493145</td>\n",
       "      <td>14.080904</td>\n",
       "      <td>14.146026</td>\n",
       "      <td>13.325144</td>\n",
       "      <td>13.604555</td>\n",
       "      <td>13.151315</td>\n",
       "      <td>13.296195</td>\n",
       "      <td>13.290914</td>\n",
       "      <td>13.284745</td>\n",
       "    </tr>\n",
       "    <tr>\n",
       "      <th>203</th>\n",
       "      <td>ZZI.SA</td>\n",
       "      <td>South Asia</td>\n",
       "      <td>NaN</td>\n",
       "      <td>NaN</td>\n",
       "      <td>NaN</td>\n",
       "      <td>0.442</td>\n",
       "      <td>0.447</td>\n",
       "      <td>0.453</td>\n",
       "      <td>0.457</td>\n",
       "      <td>0.462</td>\n",
       "      <td>...</td>\n",
       "      <td>4.699407</td>\n",
       "      <td>4.584935</td>\n",
       "      <td>4.486500</td>\n",
       "      <td>4.610546</td>\n",
       "      <td>4.624886</td>\n",
       "      <td>4.740263</td>\n",
       "      <td>5.000024</td>\n",
       "      <td>5.110230</td>\n",
       "      <td>5.106447</td>\n",
       "      <td>5.102134</td>\n",
       "    </tr>\n",
       "    <tr>\n",
       "      <th>204</th>\n",
       "      <td>ZZJ.SSA</td>\n",
       "      <td>Sub-Saharan Africa</td>\n",
       "      <td>NaN</td>\n",
       "      <td>NaN</td>\n",
       "      <td>NaN</td>\n",
       "      <td>0.407</td>\n",
       "      <td>0.410</td>\n",
       "      <td>0.410</td>\n",
       "      <td>0.411</td>\n",
       "      <td>0.413</td>\n",
       "      <td>...</td>\n",
       "      <td>3.437760</td>\n",
       "      <td>3.530479</td>\n",
       "      <td>3.491150</td>\n",
       "      <td>3.494860</td>\n",
       "      <td>3.415511</td>\n",
       "      <td>3.256156</td>\n",
       "      <td>3.145930</td>\n",
       "      <td>3.151076</td>\n",
       "      <td>3.146092</td>\n",
       "      <td>3.140740</td>\n",
       "    </tr>\n",
       "    <tr>\n",
       "      <th>205</th>\n",
       "      <td>ZZK.WORLD</td>\n",
       "      <td>World</td>\n",
       "      <td>NaN</td>\n",
       "      <td>NaN</td>\n",
       "      <td>NaN</td>\n",
       "      <td>0.601</td>\n",
       "      <td>0.604</td>\n",
       "      <td>0.607</td>\n",
       "      <td>0.610</td>\n",
       "      <td>0.614</td>\n",
       "      <td>...</td>\n",
       "      <td>12.186601</td>\n",
       "      <td>12.474065</td>\n",
       "      <td>12.520563</td>\n",
       "      <td>12.372667</td>\n",
       "      <td>12.277707</td>\n",
       "      <td>12.277878</td>\n",
       "      <td>12.220286</td>\n",
       "      <td>12.375236</td>\n",
       "      <td>12.325166</td>\n",
       "      <td>12.271920</td>\n",
       "    </tr>\n",
       "  </tbody>\n",
       "</table>\n",
       "<p>206 rows × 1008 columns</p>\n",
       "</div>"
      ],
      "text/plain": [
       "          iso3                          country    hdicode region  \\\n",
       "0          AFG                      Afghanistan        Low     SA   \n",
       "1          AGO                           Angola     Medium    SSA   \n",
       "2          ALB                          Albania       High    ECA   \n",
       "3          AND                          Andorra  Very High    NaN   \n",
       "4          ARE             United Arab Emirates  Very High     AS   \n",
       "..         ...                              ...        ...    ...   \n",
       "201    ZZG.ECA          Europe and Central Asia        NaN    NaN   \n",
       "202    ZZH.LAC  Latin America and the Caribbean        NaN    NaN   \n",
       "203     ZZI.SA                       South Asia        NaN    NaN   \n",
       "204    ZZJ.SSA               Sub-Saharan Africa        NaN    NaN   \n",
       "205  ZZK.WORLD                            World        NaN    NaN   \n",
       "\n",
       "     hdi_rank_2021  hdi_1990  hdi_1991  hdi_1992  hdi_1993  hdi_1994  ...  \\\n",
       "0            180.0     0.273     0.279     0.287     0.297     0.292  ...   \n",
       "1            148.0       NaN       NaN       NaN       NaN       NaN  ...   \n",
       "2             67.0     0.647     0.629     0.614     0.617     0.624  ...   \n",
       "3             40.0       NaN       NaN       NaN       NaN       NaN  ...   \n",
       "4             26.0     0.728     0.739     0.742     0.748     0.755  ...   \n",
       "..             ...       ...       ...       ...       ...       ...  ...   \n",
       "201            NaN     0.664     0.661     0.654     0.652     0.647  ...   \n",
       "202            NaN     0.633     0.638     0.643     0.648     0.654  ...   \n",
       "203            NaN     0.442     0.447     0.453     0.457     0.462  ...   \n",
       "204            NaN     0.407     0.410     0.410     0.411     0.413  ...   \n",
       "205            NaN     0.601     0.604     0.607     0.610     0.614  ...   \n",
       "\n",
       "       mf_2012    mf_2013    mf_2014    mf_2015    mf_2016    mf_2017  \\\n",
       "0     1.860000   1.880000   1.660000   1.620000   1.660000   1.410000   \n",
       "1     4.090000   4.530000   3.970000   3.590000   2.790000   2.640000   \n",
       "2    12.440000  11.490000  13.140000  12.610000  14.390000  14.460000   \n",
       "3          NaN        NaN        NaN        NaN        NaN        NaN   \n",
       "4    49.560000  49.680000  55.490000  59.760000  64.950000  75.610000   \n",
       "..         ...        ...        ...        ...        ...        ...   \n",
       "201  13.107171  14.172082  14.189127  14.523162  13.791770  13.618078   \n",
       "202  14.114108  14.493145  14.080904  14.146026  13.325144  13.604555   \n",
       "203   4.699407   4.584935   4.486500   4.610546   4.624886   4.740263   \n",
       "204   3.437760   3.530479   3.491150   3.494860   3.415511   3.256156   \n",
       "205  12.186601  12.474065  12.520563  12.372667  12.277707  12.277878   \n",
       "\n",
       "       mf_2018    mf_2019    mf_2020    mf_2021  \n",
       "0     1.320000   1.380000   1.380000   1.380000  \n",
       "1     2.280000   2.180000   2.180000   2.180000  \n",
       "2    12.850000  12.960000  12.960000  12.960000  \n",
       "3          NaN        NaN        NaN        NaN  \n",
       "4    65.970000  68.950000  68.950000  68.950000  \n",
       "..         ...        ...        ...        ...  \n",
       "201  13.914030  14.087293  14.091826  14.096719  \n",
       "202  13.151315  13.296195  13.290914  13.284745  \n",
       "203   5.000024   5.110230   5.106447   5.102134  \n",
       "204   3.145930   3.151076   3.146092   3.140740  \n",
       "205  12.220286  12.375236  12.325166  12.271920  \n",
       "\n",
       "[206 rows x 1008 columns]"
      ]
     },
     "execution_count": 2,
     "metadata": {},
     "output_type": "execute_result"
    }
   ],
   "source": [
    "df = pd.read_csv(\"./statics/HDR21-22_Composite_indices_complete_time_series.csv\")\n",
    "df"
   ]
  },
  {
   "cell_type": "code",
   "execution_count": 3,
   "metadata": {},
   "outputs": [],
   "source": [
    "ord_enc = OrdinalEncoder()\n",
    "df[\"hdicode\"] = ord_enc.fit_transform(df[[\"hdicode\"]])"
   ]
  },
  {
   "cell_type": "code",
   "execution_count": 4,
   "metadata": {},
   "outputs": [
    {
     "data": {
      "text/html": [
       "<div>\n",
       "<style scoped>\n",
       "    .dataframe tbody tr th:only-of-type {\n",
       "        vertical-align: middle;\n",
       "    }\n",
       "\n",
       "    .dataframe tbody tr th {\n",
       "        vertical-align: top;\n",
       "    }\n",
       "\n",
       "    .dataframe thead th {\n",
       "        text-align: right;\n",
       "    }\n",
       "</style>\n",
       "<table border=\"1\" class=\"dataframe\">\n",
       "  <thead>\n",
       "    <tr style=\"text-align: right;\">\n",
       "      <th></th>\n",
       "      <th>hdicode</th>\n",
       "      <th>hdi_rank_2021</th>\n",
       "      <th>hdi_1990</th>\n",
       "      <th>hdi_1991</th>\n",
       "      <th>hdi_1992</th>\n",
       "      <th>hdi_1993</th>\n",
       "      <th>hdi_1994</th>\n",
       "      <th>hdi_1995</th>\n",
       "      <th>hdi_1996</th>\n",
       "      <th>hdi_1997</th>\n",
       "      <th>...</th>\n",
       "      <th>mf_2012</th>\n",
       "      <th>mf_2013</th>\n",
       "      <th>mf_2014</th>\n",
       "      <th>mf_2015</th>\n",
       "      <th>mf_2016</th>\n",
       "      <th>mf_2017</th>\n",
       "      <th>mf_2018</th>\n",
       "      <th>mf_2019</th>\n",
       "      <th>mf_2020</th>\n",
       "      <th>mf_2021</th>\n",
       "    </tr>\n",
       "  </thead>\n",
       "  <tbody>\n",
       "    <tr>\n",
       "      <th>0</th>\n",
       "      <td>1.0</td>\n",
       "      <td>180.0</td>\n",
       "      <td>0.273</td>\n",
       "      <td>0.279</td>\n",
       "      <td>0.287</td>\n",
       "      <td>0.297</td>\n",
       "      <td>0.292</td>\n",
       "      <td>0.310</td>\n",
       "      <td>0.319</td>\n",
       "      <td>0.323</td>\n",
       "      <td>...</td>\n",
       "      <td>1.860000</td>\n",
       "      <td>1.880000</td>\n",
       "      <td>1.660000</td>\n",
       "      <td>1.620000</td>\n",
       "      <td>1.660000</td>\n",
       "      <td>1.410000</td>\n",
       "      <td>1.320000</td>\n",
       "      <td>1.380000</td>\n",
       "      <td>1.380000</td>\n",
       "      <td>1.380000</td>\n",
       "    </tr>\n",
       "    <tr>\n",
       "      <th>1</th>\n",
       "      <td>2.0</td>\n",
       "      <td>148.0</td>\n",
       "      <td>NaN</td>\n",
       "      <td>NaN</td>\n",
       "      <td>NaN</td>\n",
       "      <td>NaN</td>\n",
       "      <td>NaN</td>\n",
       "      <td>NaN</td>\n",
       "      <td>NaN</td>\n",
       "      <td>NaN</td>\n",
       "      <td>...</td>\n",
       "      <td>4.090000</td>\n",
       "      <td>4.530000</td>\n",
       "      <td>3.970000</td>\n",
       "      <td>3.590000</td>\n",
       "      <td>2.790000</td>\n",
       "      <td>2.640000</td>\n",
       "      <td>2.280000</td>\n",
       "      <td>2.180000</td>\n",
       "      <td>2.180000</td>\n",
       "      <td>2.180000</td>\n",
       "    </tr>\n",
       "    <tr>\n",
       "      <th>2</th>\n",
       "      <td>0.0</td>\n",
       "      <td>67.0</td>\n",
       "      <td>0.647</td>\n",
       "      <td>0.629</td>\n",
       "      <td>0.614</td>\n",
       "      <td>0.617</td>\n",
       "      <td>0.624</td>\n",
       "      <td>0.634</td>\n",
       "      <td>0.645</td>\n",
       "      <td>0.642</td>\n",
       "      <td>...</td>\n",
       "      <td>12.440000</td>\n",
       "      <td>11.490000</td>\n",
       "      <td>13.140000</td>\n",
       "      <td>12.610000</td>\n",
       "      <td>14.390000</td>\n",
       "      <td>14.460000</td>\n",
       "      <td>12.850000</td>\n",
       "      <td>12.960000</td>\n",
       "      <td>12.960000</td>\n",
       "      <td>12.960000</td>\n",
       "    </tr>\n",
       "    <tr>\n",
       "      <th>3</th>\n",
       "      <td>3.0</td>\n",
       "      <td>40.0</td>\n",
       "      <td>NaN</td>\n",
       "      <td>NaN</td>\n",
       "      <td>NaN</td>\n",
       "      <td>NaN</td>\n",
       "      <td>NaN</td>\n",
       "      <td>NaN</td>\n",
       "      <td>NaN</td>\n",
       "      <td>NaN</td>\n",
       "      <td>...</td>\n",
       "      <td>NaN</td>\n",
       "      <td>NaN</td>\n",
       "      <td>NaN</td>\n",
       "      <td>NaN</td>\n",
       "      <td>NaN</td>\n",
       "      <td>NaN</td>\n",
       "      <td>NaN</td>\n",
       "      <td>NaN</td>\n",
       "      <td>NaN</td>\n",
       "      <td>NaN</td>\n",
       "    </tr>\n",
       "    <tr>\n",
       "      <th>4</th>\n",
       "      <td>3.0</td>\n",
       "      <td>26.0</td>\n",
       "      <td>0.728</td>\n",
       "      <td>0.739</td>\n",
       "      <td>0.742</td>\n",
       "      <td>0.748</td>\n",
       "      <td>0.755</td>\n",
       "      <td>0.762</td>\n",
       "      <td>0.767</td>\n",
       "      <td>0.773</td>\n",
       "      <td>...</td>\n",
       "      <td>49.560000</td>\n",
       "      <td>49.680000</td>\n",
       "      <td>55.490000</td>\n",
       "      <td>59.760000</td>\n",
       "      <td>64.950000</td>\n",
       "      <td>75.610000</td>\n",
       "      <td>65.970000</td>\n",
       "      <td>68.950000</td>\n",
       "      <td>68.950000</td>\n",
       "      <td>68.950000</td>\n",
       "    </tr>\n",
       "    <tr>\n",
       "      <th>...</th>\n",
       "      <td>...</td>\n",
       "      <td>...</td>\n",
       "      <td>...</td>\n",
       "      <td>...</td>\n",
       "      <td>...</td>\n",
       "      <td>...</td>\n",
       "      <td>...</td>\n",
       "      <td>...</td>\n",
       "      <td>...</td>\n",
       "      <td>...</td>\n",
       "      <td>...</td>\n",
       "      <td>...</td>\n",
       "      <td>...</td>\n",
       "      <td>...</td>\n",
       "      <td>...</td>\n",
       "      <td>...</td>\n",
       "      <td>...</td>\n",
       "      <td>...</td>\n",
       "      <td>...</td>\n",
       "      <td>...</td>\n",
       "      <td>...</td>\n",
       "    </tr>\n",
       "    <tr>\n",
       "      <th>201</th>\n",
       "      <td>NaN</td>\n",
       "      <td>NaN</td>\n",
       "      <td>0.664</td>\n",
       "      <td>0.661</td>\n",
       "      <td>0.654</td>\n",
       "      <td>0.652</td>\n",
       "      <td>0.647</td>\n",
       "      <td>0.652</td>\n",
       "      <td>0.656</td>\n",
       "      <td>0.662</td>\n",
       "      <td>...</td>\n",
       "      <td>13.107171</td>\n",
       "      <td>14.172082</td>\n",
       "      <td>14.189127</td>\n",
       "      <td>14.523162</td>\n",
       "      <td>13.791770</td>\n",
       "      <td>13.618078</td>\n",
       "      <td>13.914030</td>\n",
       "      <td>14.087293</td>\n",
       "      <td>14.091826</td>\n",
       "      <td>14.096719</td>\n",
       "    </tr>\n",
       "    <tr>\n",
       "      <th>202</th>\n",
       "      <td>NaN</td>\n",
       "      <td>NaN</td>\n",
       "      <td>0.633</td>\n",
       "      <td>0.638</td>\n",
       "      <td>0.643</td>\n",
       "      <td>0.648</td>\n",
       "      <td>0.654</td>\n",
       "      <td>0.658</td>\n",
       "      <td>0.665</td>\n",
       "      <td>0.672</td>\n",
       "      <td>...</td>\n",
       "      <td>14.114108</td>\n",
       "      <td>14.493145</td>\n",
       "      <td>14.080904</td>\n",
       "      <td>14.146026</td>\n",
       "      <td>13.325144</td>\n",
       "      <td>13.604555</td>\n",
       "      <td>13.151315</td>\n",
       "      <td>13.296195</td>\n",
       "      <td>13.290914</td>\n",
       "      <td>13.284745</td>\n",
       "    </tr>\n",
       "    <tr>\n",
       "      <th>203</th>\n",
       "      <td>NaN</td>\n",
       "      <td>NaN</td>\n",
       "      <td>0.442</td>\n",
       "      <td>0.447</td>\n",
       "      <td>0.453</td>\n",
       "      <td>0.457</td>\n",
       "      <td>0.462</td>\n",
       "      <td>0.467</td>\n",
       "      <td>0.474</td>\n",
       "      <td>0.480</td>\n",
       "      <td>...</td>\n",
       "      <td>4.699407</td>\n",
       "      <td>4.584935</td>\n",
       "      <td>4.486500</td>\n",
       "      <td>4.610546</td>\n",
       "      <td>4.624886</td>\n",
       "      <td>4.740263</td>\n",
       "      <td>5.000024</td>\n",
       "      <td>5.110230</td>\n",
       "      <td>5.106447</td>\n",
       "      <td>5.102134</td>\n",
       "    </tr>\n",
       "    <tr>\n",
       "      <th>204</th>\n",
       "      <td>NaN</td>\n",
       "      <td>NaN</td>\n",
       "      <td>0.407</td>\n",
       "      <td>0.410</td>\n",
       "      <td>0.410</td>\n",
       "      <td>0.411</td>\n",
       "      <td>0.413</td>\n",
       "      <td>0.420</td>\n",
       "      <td>0.423</td>\n",
       "      <td>0.427</td>\n",
       "      <td>...</td>\n",
       "      <td>3.437760</td>\n",
       "      <td>3.530479</td>\n",
       "      <td>3.491150</td>\n",
       "      <td>3.494860</td>\n",
       "      <td>3.415511</td>\n",
       "      <td>3.256156</td>\n",
       "      <td>3.145930</td>\n",
       "      <td>3.151076</td>\n",
       "      <td>3.146092</td>\n",
       "      <td>3.140740</td>\n",
       "    </tr>\n",
       "    <tr>\n",
       "      <th>205</th>\n",
       "      <td>NaN</td>\n",
       "      <td>NaN</td>\n",
       "      <td>0.601</td>\n",
       "      <td>0.604</td>\n",
       "      <td>0.607</td>\n",
       "      <td>0.610</td>\n",
       "      <td>0.614</td>\n",
       "      <td>0.619</td>\n",
       "      <td>0.624</td>\n",
       "      <td>0.629</td>\n",
       "      <td>...</td>\n",
       "      <td>12.186601</td>\n",
       "      <td>12.474065</td>\n",
       "      <td>12.520563</td>\n",
       "      <td>12.372667</td>\n",
       "      <td>12.277707</td>\n",
       "      <td>12.277878</td>\n",
       "      <td>12.220286</td>\n",
       "      <td>12.375236</td>\n",
       "      <td>12.325166</td>\n",
       "      <td>12.271920</td>\n",
       "    </tr>\n",
       "  </tbody>\n",
       "</table>\n",
       "<p>206 rows × 1005 columns</p>\n",
       "</div>"
      ],
      "text/plain": [
       "     hdicode  hdi_rank_2021  hdi_1990  hdi_1991  hdi_1992  hdi_1993  hdi_1994  \\\n",
       "0        1.0          180.0     0.273     0.279     0.287     0.297     0.292   \n",
       "1        2.0          148.0       NaN       NaN       NaN       NaN       NaN   \n",
       "2        0.0           67.0     0.647     0.629     0.614     0.617     0.624   \n",
       "3        3.0           40.0       NaN       NaN       NaN       NaN       NaN   \n",
       "4        3.0           26.0     0.728     0.739     0.742     0.748     0.755   \n",
       "..       ...            ...       ...       ...       ...       ...       ...   \n",
       "201      NaN            NaN     0.664     0.661     0.654     0.652     0.647   \n",
       "202      NaN            NaN     0.633     0.638     0.643     0.648     0.654   \n",
       "203      NaN            NaN     0.442     0.447     0.453     0.457     0.462   \n",
       "204      NaN            NaN     0.407     0.410     0.410     0.411     0.413   \n",
       "205      NaN            NaN     0.601     0.604     0.607     0.610     0.614   \n",
       "\n",
       "     hdi_1995  hdi_1996  hdi_1997  ...    mf_2012    mf_2013    mf_2014  \\\n",
       "0       0.310     0.319     0.323  ...   1.860000   1.880000   1.660000   \n",
       "1         NaN       NaN       NaN  ...   4.090000   4.530000   3.970000   \n",
       "2       0.634     0.645     0.642  ...  12.440000  11.490000  13.140000   \n",
       "3         NaN       NaN       NaN  ...        NaN        NaN        NaN   \n",
       "4       0.762     0.767     0.773  ...  49.560000  49.680000  55.490000   \n",
       "..        ...       ...       ...  ...        ...        ...        ...   \n",
       "201     0.652     0.656     0.662  ...  13.107171  14.172082  14.189127   \n",
       "202     0.658     0.665     0.672  ...  14.114108  14.493145  14.080904   \n",
       "203     0.467     0.474     0.480  ...   4.699407   4.584935   4.486500   \n",
       "204     0.420     0.423     0.427  ...   3.437760   3.530479   3.491150   \n",
       "205     0.619     0.624     0.629  ...  12.186601  12.474065  12.520563   \n",
       "\n",
       "       mf_2015    mf_2016    mf_2017    mf_2018    mf_2019    mf_2020  \\\n",
       "0     1.620000   1.660000   1.410000   1.320000   1.380000   1.380000   \n",
       "1     3.590000   2.790000   2.640000   2.280000   2.180000   2.180000   \n",
       "2    12.610000  14.390000  14.460000  12.850000  12.960000  12.960000   \n",
       "3          NaN        NaN        NaN        NaN        NaN        NaN   \n",
       "4    59.760000  64.950000  75.610000  65.970000  68.950000  68.950000   \n",
       "..         ...        ...        ...        ...        ...        ...   \n",
       "201  14.523162  13.791770  13.618078  13.914030  14.087293  14.091826   \n",
       "202  14.146026  13.325144  13.604555  13.151315  13.296195  13.290914   \n",
       "203   4.610546   4.624886   4.740263   5.000024   5.110230   5.106447   \n",
       "204   3.494860   3.415511   3.256156   3.145930   3.151076   3.146092   \n",
       "205  12.372667  12.277707  12.277878  12.220286  12.375236  12.325166   \n",
       "\n",
       "       mf_2021  \n",
       "0     1.380000  \n",
       "1     2.180000  \n",
       "2    12.960000  \n",
       "3          NaN  \n",
       "4    68.950000  \n",
       "..         ...  \n",
       "201  14.096719  \n",
       "202  13.284745  \n",
       "203   5.102134  \n",
       "204   3.140740  \n",
       "205  12.271920  \n",
       "\n",
       "[206 rows x 1005 columns]"
      ]
     },
     "execution_count": 4,
     "metadata": {},
     "output_type": "execute_result"
    }
   ],
   "source": [
    "country = df['country']\n",
    "iso = df[\"iso3\"]\n",
    "\n",
    "df.drop([\"iso3\", \"country\", \"region\"], axis=1, inplace = True)\n",
    "df"
   ]
  },
  {
   "cell_type": "code",
   "execution_count": 5,
   "metadata": {},
   "outputs": [],
   "source": [
    "from sklearn.impute import KNNImputer\n",
    "\n",
    "knn_imp = KNNImputer(n_neighbors=20)\n",
    "# fit and transform the imputer on the dataset \n",
    "df_imputed_knn= pd.DataFrame(knn_imp.fit_transform(df),columns=df.columns)"
   ]
  },
  {
   "cell_type": "code",
   "execution_count": 6,
   "metadata": {},
   "outputs": [
    {
     "data": {
      "text/html": [
       "<div>\n",
       "<style scoped>\n",
       "    .dataframe tbody tr th:only-of-type {\n",
       "        vertical-align: middle;\n",
       "    }\n",
       "\n",
       "    .dataframe tbody tr th {\n",
       "        vertical-align: top;\n",
       "    }\n",
       "\n",
       "    .dataframe thead th {\n",
       "        text-align: right;\n",
       "    }\n",
       "</style>\n",
       "<table border=\"1\" class=\"dataframe\">\n",
       "  <thead>\n",
       "    <tr style=\"text-align: right;\">\n",
       "      <th></th>\n",
       "      <th>hdicode</th>\n",
       "      <th>hdi_rank_2021</th>\n",
       "      <th>hdi_1990</th>\n",
       "      <th>hdi_1991</th>\n",
       "      <th>hdi_1992</th>\n",
       "      <th>hdi_1993</th>\n",
       "      <th>hdi_1994</th>\n",
       "      <th>hdi_1995</th>\n",
       "      <th>hdi_1996</th>\n",
       "      <th>hdi_1997</th>\n",
       "      <th>...</th>\n",
       "      <th>mf_2014</th>\n",
       "      <th>mf_2015</th>\n",
       "      <th>mf_2016</th>\n",
       "      <th>mf_2017</th>\n",
       "      <th>mf_2018</th>\n",
       "      <th>mf_2019</th>\n",
       "      <th>mf_2020</th>\n",
       "      <th>mf_2021</th>\n",
       "      <th>country</th>\n",
       "      <th>iso3</th>\n",
       "    </tr>\n",
       "  </thead>\n",
       "  <tbody>\n",
       "    <tr>\n",
       "      <th>0</th>\n",
       "      <td>Low</td>\n",
       "      <td>180.00</td>\n",
       "      <td>0.27300</td>\n",
       "      <td>0.27900</td>\n",
       "      <td>0.28700</td>\n",
       "      <td>0.29700</td>\n",
       "      <td>0.2920</td>\n",
       "      <td>0.31000</td>\n",
       "      <td>0.31900</td>\n",
       "      <td>0.3230</td>\n",
       "      <td>...</td>\n",
       "      <td>1.660000</td>\n",
       "      <td>1.620000</td>\n",
       "      <td>1.660000</td>\n",
       "      <td>1.410000</td>\n",
       "      <td>1.320000</td>\n",
       "      <td>1.380000</td>\n",
       "      <td>1.380000</td>\n",
       "      <td>1.380000</td>\n",
       "      <td>Afghanistan</td>\n",
       "      <td>AFG</td>\n",
       "    </tr>\n",
       "    <tr>\n",
       "      <th>1</th>\n",
       "      <td>Medium</td>\n",
       "      <td>148.00</td>\n",
       "      <td>0.51685</td>\n",
       "      <td>0.52020</td>\n",
       "      <td>0.52175</td>\n",
       "      <td>0.52455</td>\n",
       "      <td>0.5299</td>\n",
       "      <td>0.54200</td>\n",
       "      <td>0.54795</td>\n",
       "      <td>0.5513</td>\n",
       "      <td>...</td>\n",
       "      <td>3.970000</td>\n",
       "      <td>3.590000</td>\n",
       "      <td>2.790000</td>\n",
       "      <td>2.640000</td>\n",
       "      <td>2.280000</td>\n",
       "      <td>2.180000</td>\n",
       "      <td>2.180000</td>\n",
       "      <td>2.180000</td>\n",
       "      <td>Angola</td>\n",
       "      <td>AGO</td>\n",
       "    </tr>\n",
       "    <tr>\n",
       "      <th>2</th>\n",
       "      <td>High</td>\n",
       "      <td>67.00</td>\n",
       "      <td>0.64700</td>\n",
       "      <td>0.62900</td>\n",
       "      <td>0.61400</td>\n",
       "      <td>0.61700</td>\n",
       "      <td>0.6240</td>\n",
       "      <td>0.63400</td>\n",
       "      <td>0.64500</td>\n",
       "      <td>0.6420</td>\n",
       "      <td>...</td>\n",
       "      <td>13.140000</td>\n",
       "      <td>12.610000</td>\n",
       "      <td>14.390000</td>\n",
       "      <td>14.460000</td>\n",
       "      <td>12.850000</td>\n",
       "      <td>12.960000</td>\n",
       "      <td>12.960000</td>\n",
       "      <td>12.960000</td>\n",
       "      <td>Albania</td>\n",
       "      <td>ALB</td>\n",
       "    </tr>\n",
       "    <tr>\n",
       "      <th>3</th>\n",
       "      <td>Very High</td>\n",
       "      <td>40.00</td>\n",
       "      <td>0.80920</td>\n",
       "      <td>0.81415</td>\n",
       "      <td>0.82010</td>\n",
       "      <td>0.82630</td>\n",
       "      <td>0.8348</td>\n",
       "      <td>0.83875</td>\n",
       "      <td>0.84425</td>\n",
       "      <td>0.8499</td>\n",
       "      <td>...</td>\n",
       "      <td>29.524000</td>\n",
       "      <td>29.033000</td>\n",
       "      <td>29.550500</td>\n",
       "      <td>30.422000</td>\n",
       "      <td>28.991500</td>\n",
       "      <td>28.891500</td>\n",
       "      <td>28.891500</td>\n",
       "      <td>28.891500</td>\n",
       "      <td>Andorra</td>\n",
       "      <td>AND</td>\n",
       "    </tr>\n",
       "    <tr>\n",
       "      <th>4</th>\n",
       "      <td>Very High</td>\n",
       "      <td>26.00</td>\n",
       "      <td>0.72800</td>\n",
       "      <td>0.73900</td>\n",
       "      <td>0.74200</td>\n",
       "      <td>0.74800</td>\n",
       "      <td>0.7550</td>\n",
       "      <td>0.76200</td>\n",
       "      <td>0.76700</td>\n",
       "      <td>0.7730</td>\n",
       "      <td>...</td>\n",
       "      <td>55.490000</td>\n",
       "      <td>59.760000</td>\n",
       "      <td>64.950000</td>\n",
       "      <td>75.610000</td>\n",
       "      <td>65.970000</td>\n",
       "      <td>68.950000</td>\n",
       "      <td>68.950000</td>\n",
       "      <td>68.950000</td>\n",
       "      <td>United Arab Emirates</td>\n",
       "      <td>ARE</td>\n",
       "    </tr>\n",
       "    <tr>\n",
       "      <th>...</th>\n",
       "      <td>...</td>\n",
       "      <td>...</td>\n",
       "      <td>...</td>\n",
       "      <td>...</td>\n",
       "      <td>...</td>\n",
       "      <td>...</td>\n",
       "      <td>...</td>\n",
       "      <td>...</td>\n",
       "      <td>...</td>\n",
       "      <td>...</td>\n",
       "      <td>...</td>\n",
       "      <td>...</td>\n",
       "      <td>...</td>\n",
       "      <td>...</td>\n",
       "      <td>...</td>\n",
       "      <td>...</td>\n",
       "      <td>...</td>\n",
       "      <td>...</td>\n",
       "      <td>...</td>\n",
       "      <td>...</td>\n",
       "      <td>...</td>\n",
       "    </tr>\n",
       "    <tr>\n",
       "      <th>201</th>\n",
       "      <td>High</td>\n",
       "      <td>80.95</td>\n",
       "      <td>0.66400</td>\n",
       "      <td>0.66100</td>\n",
       "      <td>0.65400</td>\n",
       "      <td>0.65200</td>\n",
       "      <td>0.6470</td>\n",
       "      <td>0.65200</td>\n",
       "      <td>0.65600</td>\n",
       "      <td>0.6620</td>\n",
       "      <td>...</td>\n",
       "      <td>14.189127</td>\n",
       "      <td>14.523162</td>\n",
       "      <td>13.791770</td>\n",
       "      <td>13.618078</td>\n",
       "      <td>13.914030</td>\n",
       "      <td>14.087293</td>\n",
       "      <td>14.091826</td>\n",
       "      <td>14.096719</td>\n",
       "      <td>Europe and Central Asia</td>\n",
       "      <td>ZZG.ECA</td>\n",
       "    </tr>\n",
       "    <tr>\n",
       "      <th>202</th>\n",
       "      <td>High</td>\n",
       "      <td>84.90</td>\n",
       "      <td>0.63300</td>\n",
       "      <td>0.63800</td>\n",
       "      <td>0.64300</td>\n",
       "      <td>0.64800</td>\n",
       "      <td>0.6540</td>\n",
       "      <td>0.65800</td>\n",
       "      <td>0.66500</td>\n",
       "      <td>0.6720</td>\n",
       "      <td>...</td>\n",
       "      <td>14.080904</td>\n",
       "      <td>14.146026</td>\n",
       "      <td>13.325144</td>\n",
       "      <td>13.604555</td>\n",
       "      <td>13.151315</td>\n",
       "      <td>13.296195</td>\n",
       "      <td>13.290914</td>\n",
       "      <td>13.284745</td>\n",
       "      <td>Latin America and the Caribbean</td>\n",
       "      <td>ZZH.LAC</td>\n",
       "    </tr>\n",
       "    <tr>\n",
       "      <th>203</th>\n",
       "      <td>Low</td>\n",
       "      <td>135.75</td>\n",
       "      <td>0.44200</td>\n",
       "      <td>0.44700</td>\n",
       "      <td>0.45300</td>\n",
       "      <td>0.45700</td>\n",
       "      <td>0.4620</td>\n",
       "      <td>0.46700</td>\n",
       "      <td>0.47400</td>\n",
       "      <td>0.4800</td>\n",
       "      <td>...</td>\n",
       "      <td>4.486500</td>\n",
       "      <td>4.610546</td>\n",
       "      <td>4.624886</td>\n",
       "      <td>4.740263</td>\n",
       "      <td>5.000024</td>\n",
       "      <td>5.110230</td>\n",
       "      <td>5.106447</td>\n",
       "      <td>5.102134</td>\n",
       "      <td>South Asia</td>\n",
       "      <td>ZZI.SA</td>\n",
       "    </tr>\n",
       "    <tr>\n",
       "      <th>204</th>\n",
       "      <td>Low</td>\n",
       "      <td>149.95</td>\n",
       "      <td>0.40700</td>\n",
       "      <td>0.41000</td>\n",
       "      <td>0.41000</td>\n",
       "      <td>0.41100</td>\n",
       "      <td>0.4130</td>\n",
       "      <td>0.42000</td>\n",
       "      <td>0.42300</td>\n",
       "      <td>0.4270</td>\n",
       "      <td>...</td>\n",
       "      <td>3.491150</td>\n",
       "      <td>3.494860</td>\n",
       "      <td>3.415511</td>\n",
       "      <td>3.256156</td>\n",
       "      <td>3.145930</td>\n",
       "      <td>3.151076</td>\n",
       "      <td>3.146092</td>\n",
       "      <td>3.140740</td>\n",
       "      <td>Sub-Saharan Africa</td>\n",
       "      <td>ZZJ.SSA</td>\n",
       "    </tr>\n",
       "    <tr>\n",
       "      <th>205</th>\n",
       "      <td>High</td>\n",
       "      <td>82.15</td>\n",
       "      <td>0.60100</td>\n",
       "      <td>0.60400</td>\n",
       "      <td>0.60700</td>\n",
       "      <td>0.61000</td>\n",
       "      <td>0.6140</td>\n",
       "      <td>0.61900</td>\n",
       "      <td>0.62400</td>\n",
       "      <td>0.6290</td>\n",
       "      <td>...</td>\n",
       "      <td>12.520563</td>\n",
       "      <td>12.372667</td>\n",
       "      <td>12.277707</td>\n",
       "      <td>12.277878</td>\n",
       "      <td>12.220286</td>\n",
       "      <td>12.375236</td>\n",
       "      <td>12.325166</td>\n",
       "      <td>12.271920</td>\n",
       "      <td>World</td>\n",
       "      <td>ZZK.WORLD</td>\n",
       "    </tr>\n",
       "  </tbody>\n",
       "</table>\n",
       "<p>206 rows × 1007 columns</p>\n",
       "</div>"
      ],
      "text/plain": [
       "       hdicode  hdi_rank_2021  hdi_1990  hdi_1991  hdi_1992  hdi_1993  \\\n",
       "0          Low         180.00   0.27300   0.27900   0.28700   0.29700   \n",
       "1       Medium         148.00   0.51685   0.52020   0.52175   0.52455   \n",
       "2         High          67.00   0.64700   0.62900   0.61400   0.61700   \n",
       "3    Very High          40.00   0.80920   0.81415   0.82010   0.82630   \n",
       "4    Very High          26.00   0.72800   0.73900   0.74200   0.74800   \n",
       "..         ...            ...       ...       ...       ...       ...   \n",
       "201       High          80.95   0.66400   0.66100   0.65400   0.65200   \n",
       "202       High          84.90   0.63300   0.63800   0.64300   0.64800   \n",
       "203        Low         135.75   0.44200   0.44700   0.45300   0.45700   \n",
       "204        Low         149.95   0.40700   0.41000   0.41000   0.41100   \n",
       "205       High          82.15   0.60100   0.60400   0.60700   0.61000   \n",
       "\n",
       "     hdi_1994  hdi_1995  hdi_1996  hdi_1997  ...    mf_2014    mf_2015  \\\n",
       "0      0.2920   0.31000   0.31900    0.3230  ...   1.660000   1.620000   \n",
       "1      0.5299   0.54200   0.54795    0.5513  ...   3.970000   3.590000   \n",
       "2      0.6240   0.63400   0.64500    0.6420  ...  13.140000  12.610000   \n",
       "3      0.8348   0.83875   0.84425    0.8499  ...  29.524000  29.033000   \n",
       "4      0.7550   0.76200   0.76700    0.7730  ...  55.490000  59.760000   \n",
       "..        ...       ...       ...       ...  ...        ...        ...   \n",
       "201    0.6470   0.65200   0.65600    0.6620  ...  14.189127  14.523162   \n",
       "202    0.6540   0.65800   0.66500    0.6720  ...  14.080904  14.146026   \n",
       "203    0.4620   0.46700   0.47400    0.4800  ...   4.486500   4.610546   \n",
       "204    0.4130   0.42000   0.42300    0.4270  ...   3.491150   3.494860   \n",
       "205    0.6140   0.61900   0.62400    0.6290  ...  12.520563  12.372667   \n",
       "\n",
       "       mf_2016    mf_2017    mf_2018    mf_2019    mf_2020    mf_2021  \\\n",
       "0     1.660000   1.410000   1.320000   1.380000   1.380000   1.380000   \n",
       "1     2.790000   2.640000   2.280000   2.180000   2.180000   2.180000   \n",
       "2    14.390000  14.460000  12.850000  12.960000  12.960000  12.960000   \n",
       "3    29.550500  30.422000  28.991500  28.891500  28.891500  28.891500   \n",
       "4    64.950000  75.610000  65.970000  68.950000  68.950000  68.950000   \n",
       "..         ...        ...        ...        ...        ...        ...   \n",
       "201  13.791770  13.618078  13.914030  14.087293  14.091826  14.096719   \n",
       "202  13.325144  13.604555  13.151315  13.296195  13.290914  13.284745   \n",
       "203   4.624886   4.740263   5.000024   5.110230   5.106447   5.102134   \n",
       "204   3.415511   3.256156   3.145930   3.151076   3.146092   3.140740   \n",
       "205  12.277707  12.277878  12.220286  12.375236  12.325166  12.271920   \n",
       "\n",
       "                             country       iso3  \n",
       "0                        Afghanistan        AFG  \n",
       "1                             Angola        AGO  \n",
       "2                            Albania        ALB  \n",
       "3                            Andorra        AND  \n",
       "4               United Arab Emirates        ARE  \n",
       "..                               ...        ...  \n",
       "201          Europe and Central Asia    ZZG.ECA  \n",
       "202  Latin America and the Caribbean    ZZH.LAC  \n",
       "203                       South Asia     ZZI.SA  \n",
       "204               Sub-Saharan Africa    ZZJ.SSA  \n",
       "205                            World  ZZK.WORLD  \n",
       "\n",
       "[206 rows x 1007 columns]"
      ]
     },
     "execution_count": 6,
     "metadata": {},
     "output_type": "execute_result"
    }
   ],
   "source": [
    "df_imputed_knn['country'] = country\n",
    "df_imputed_knn['iso3'] = iso\n",
    "df_imputed_knn['hdicode'] = ord_enc.inverse_transform(df_imputed_knn[['hdicode']])\n",
    "df_imputed_knn\n"
   ]
  },
  {
   "cell_type": "code",
   "execution_count": 7,
   "metadata": {},
   "outputs": [],
   "source": [
    "url = 'https://nominatim.openstreetmap.org/search/' + urllib.parse.quote(\"Hong Kong, China (SAR)\") +'?format=json'\n",
    "response = requests.get(url).json()"
   ]
  },
  {
   "cell_type": "code",
   "execution_count": 8,
   "metadata": {},
   "outputs": [
    {
     "name": "stdout",
     "output_type": "stream",
     "text": [
      "33.7680065, 66.2385139, Afghanistan\n",
      "-11.8775768, 17.5691241, Angola\n",
      "41.000028, 19.9999619, Albania\n",
      "42.5407167, 1.5732033, Andorra\n",
      "24.0002488, 53.9994829, United Arab Emirates\n",
      "-34.9964963, -64.9672817, Argentina\n",
      "40.7696272, 44.6736646, Armenia\n",
      "17.2234721, -61.9554608, Antigua and Barbuda\n",
      "-24.7761086, 134.755, Australia\n",
      "47.59397, 14.12456, Austria\n",
      "40.3936294, 47.7872508, Azerbaijan\n",
      "-3.426449, 29.9324519, Burundi\n",
      "50.6402809, 4.6667145, Belgium\n",
      "9.5293472, 2.2584408, Benin\n",
      "12.0753083, -1.6880314, Burkina Faso\n",
      "24.4769288, 90.2934413, Bangladesh\n",
      "42.6073975, 25.4856617, Bulgaria\n",
      "26.1551249, 50.5344606, Bahrain\n",
      "24.7736546, -78.0000547, Bahamas\n",
      "44.3053476, 17.5961467, Bosnia and Herzegovina\n",
      "53.4250605, 27.6971358, Belarus\n",
      "16.8259793, -88.7600927, Belize\n",
      "-17.0568696, -64.9912286, Bolivia (Plurinational State of)\n",
      "-10.3333333, -53.2, Brazil\n",
      "13.1500331, -59.5250305, Barbados\n",
      "4.4137155, 114.5653908, Brunei Darussalam\n",
      "27.549511, 90.5119273, Bhutan\n",
      "-23.1681782, 24.5928742, Botswana\n",
      "7.0323598, 19.9981227, Central African Republic\n",
      "61.0666922, -107.991707, Canada\n",
      "46.7985624, 8.2319736, Switzerland\n",
      "-31.7613365, -71.3187697, Chile\n",
      "35.000074, 104.999927, China\n",
      "7.9897371, -5.5679458, Côte d'Ivoire\n",
      "4.6125522, 13.1535811, Cameroon\n",
      "-2.9814344, 23.8222636, Congo (Democratic Republic of the)\n",
      "-2.9814344, 23.8222636, Congo\n",
      "4.099917, -72.9088133, Colombia\n",
      "-12.2045176, 44.2832964, Comoros\n",
      "16.0000552, -24.0083947, Cabo Verde\n",
      "10.2735633, -84.0739102, Costa Rica\n",
      "23.0131338, -80.8328748, Cuba\n",
      "34.9823018, 33.1451285, Cyprus\n",
      "49.7439047, 15.3381061, Czechia\n",
      "51.1638175, 10.4478313, Germany\n",
      "11.8145966, 42.8453061, Djibouti\n",
      "19.0974031, -70.3028026, Dominica\n",
      "55.670249, 10.3333283, Denmark\n",
      "19.0974031, -70.3028026, Dominican Republic\n",
      "28.0000272, 2.9999825, Algeria\n",
      "-1.3397668, -79.3666965, Ecuador\n",
      "26.2540493, 29.2675469, Egypt\n",
      "15.9500319, 37.9999668, Eritrea\n",
      "39.3260685, -4.8379791, Spain\n",
      "58.7523778, 25.3319078, Estonia\n",
      "10.2116702, 38.6521203, Ethiopia\n",
      "63.2467777, 25.9209164, Finland\n",
      "-18.1239696, 179.0122737, Fiji\n",
      "46.603354, 1.8883335, France\n",
      "38.9073892, -77.0405464, Micronesia (Federated States of)\n",
      "-0.8999695, 11.6899699, Gabon\n",
      "54.7023545, -3.2765753, United Kingdom\n",
      "32.3293809, -83.1137366, Georgia\n",
      "8.0300284, -1.0800271, Ghana\n",
      "10.7226226, -10.7083587, Guinea\n",
      "13.470062, -15.4900464, Gambia\n",
      "12.100035, -14.9000214, Guinea-Bissau\n",
      "1.613172, 10.5170357, Equatorial Guinea\n",
      "38.9953683, 21.9877132, Greece\n",
      "12.1360374, -61.6904045, Grenada\n",
      "15.5855545, -90.345759, Guatemala\n",
      "4.8417097, -58.6416891, Guyana\n",
      "15.2572432, -86.0755145, Honduras\n",
      "45.5643442, 17.0118954, Croatia\n",
      "19.1399952, -72.3570972, Haiti\n",
      "47.1817585, 19.5060937, Hungary\n",
      "-2.4833826, 117.8902853, Indonesia\n",
      "22.3511148, 78.6677428, India\n",
      "52.865196, -7.9794599, Ireland\n",
      "32.6475314, 54.5643516, Iran (Islamic Republic of)\n",
      "33.0955793, 44.1749775, Iraq\n",
      "64.9841821, -18.1059013, Iceland\n",
      "30.8124247, 34.8594762, Israel\n",
      "42.6384261, 12.674297, Italy\n",
      "18.1850507, -77.3947693, Jamaica\n",
      "31.1667049, 36.941628, Jordan\n",
      "36.5748441, 139.2394179, Japan\n",
      "48.1012954, 66.7780818, Kazakhstan\n",
      "1.4419683, 38.4313975, Kenya\n",
      "41.5089324, 74.724091, Kyrgyzstan\n",
      "12.5433216, 104.8144914, Cambodia\n",
      "0.3448612, 173.6641773, Kiribati\n",
      "17.250512, -62.6725973, Saint Kitts and Nevis\n",
      "55.8215537, 49.132971, Korea (Republic of)\n",
      "29.2733964, 47.4979476, Kuwait\n",
      "20.0171109, 103.378253, Lao People's Democratic Republic\n",
      "33.8750629, 35.843409, Lebanon\n",
      "5.7499721, -9.3658524, Liberia\n",
      "26.8234472, 18.1236723, Libya\n",
      "13.8250489, -60.975036, Saint Lucia\n",
      "47.1416307, 9.5531527, Liechtenstein\n",
      "7.5554942, 80.7137847, Sri Lanka\n",
      "-29.6039267, 28.3350193, Lesotho\n",
      "55.3500003, 23.7499997, Lithuania\n",
      "49.8158683, 6.1296751, Luxembourg\n",
      "56.8406494, 24.7537645, Latvia\n",
      "31.1728205, -7.3362482, Morocco\n",
      "43.7323492, 7.4276832, Monaco\n",
      "46.6745434, 29.7521996, Moldova (Republic of)\n",
      "-18.9249604, 46.4416422, Madagascar\n",
      "3.7203503, 73.2244152, Maldives\n",
      "23.6585116, -102.0077097, Mexico\n",
      "8.9995549, 168.0002575, Marshall Islands\n",
      "41.6171214, 21.7168387, North Macedonia\n",
      "16.3700359, -2.2900239, Mali\n",
      "35.8885993, 14.4476911, Malta\n",
      "17.1750495, 95.9999652, Myanmar\n",
      "42.9868853, 19.5180992, Montenegro\n",
      "46.8250388, 103.8499736, Mongolia\n",
      "-19.302233, 34.9144977, Mozambique\n",
      "20.2540382, -9.2399263, Mauritania\n",
      "-20.2759451, 57.5703566, Mauritius\n",
      "-13.2687204, 33.9301963, Malawi\n",
      "4.5693754, 102.2656823, Malaysia\n",
      "-23.2335499, 17.3231107, Namibia\n",
      "17.7356214, 9.3238432, Niger\n",
      "9.6000359, 7.9999721, Nigeria\n",
      "12.6090157, -85.2936911, Nicaragua\n",
      "52.2434979, 5.6343227, Netherlands\n",
      "60.5000209, 9.0999715, Norway\n",
      "28.1083929, 84.0917139, Nepal\n",
      "-0.5252306, 166.9324426, Nauru\n",
      "-41.5000831, 172.8344077, New Zealand\n",
      "21.0000287, 57.0036901, Oman\n",
      "30.3308401, 71.247499, Pakistan\n",
      "8.559559, -81.1308434, Panama\n",
      "-6.8699697, -75.0458515, Peru\n",
      "12.7503486, 122.7312101, Philippines\n",
      "5.3783537, 132.9102573, Palau\n",
      "-5.6816069, 144.2489081, Papua New Guinea\n",
      "52.215933, 19.134422, Poland\n",
      "39.6621648, -8.1353519, Portugal\n",
      "-23.3165935, -58.1693445, Paraguay\n",
      "42.2088336, -79.4683738, Palestine, State of\n",
      "25.3336984, 51.2295295, Qatar\n",
      "45.9852129, 24.6859225, Romania\n",
      "64.6863136, 97.7453061, Russian Federation\n",
      "-1.9646631, 30.0644358, Rwanda\n",
      "25.6242618, 42.3528328, Saudi Arabia\n",
      "14.5844444, 29.4917691, Sudan\n",
      "14.4750607, -14.4529612, Senegal\n",
      "1.357107, 103.8194992, Singapore\n",
      "-8.7053941, 159.1070693851845, Solomon Islands\n",
      "8.6400349, -11.8400269, Sierra Leone\n",
      "13.8000382, -88.9140683, El Salvador\n",
      "43.9458623, 12.458306, San Marino\n",
      "8.3676771, 49.083416, Somalia\n",
      "44.1534121, 20.55144, Serbia\n",
      "7.8699431, 29.6667897, South Sudan\n",
      "0.9713095, 7.02255, Sao Tome and Principe\n",
      "4.1413025, -56.0771187, Suriname\n",
      "48.7411522, 19.4528646, Slovakia\n",
      "45.8133113, 14.4808369, Slovenia\n",
      "59.6749712, 14.5208584, Sweden\n",
      "-26.5624806, 31.3991317, Eswatini (Kingdom of)\n",
      "-4.6574977, 55.4540146, Seychelles\n",
      "34.6401861, 39.0494106, Syrian Arab Republic\n",
      "15.6134137, 19.0156172, Chad\n",
      "8.7800265, 1.0199765, Togo\n",
      "14.8971921, 100.83273, Thailand\n",
      "38.6281733, 70.8156541, Tajikistan\n",
      "39.3763807, 59.3924609, Turkmenistan\n",
      "-8.5151979, 125.8375756, Timor-Leste\n",
      "-19.9160819, -175.202642, Tonga\n",
      "10.7466905, -61.0840075, Trinidad and Tobago\n",
      "33.8439408, 9.400138, Tunisia\n",
      "38.9597594, 34.9249653, Turkey\n",
      "-8.6405212, 179.1582918181797, Tuvalu\n",
      "-6.5247123, 35.7878438, Tanzania (United Republic of)\n",
      "1.5333554, 32.2166578, Uganda\n",
      "49.4871968, 31.2718321, Ukraine\n",
      "-32.8755548, -56.0201525, Uruguay\n",
      "39.7837304, -100.445882, United States\n",
      "41.32373, 63.9528098, Uzbekistan\n",
      "12.90447, -61.2765569, Saint Vincent and the Grenadines\n",
      "8.0018709, -66.1109318, Venezuela (Bolivarian Republic of)\n",
      "15.9266657, 107.9650855, Viet Nam\n",
      "-16.5255069, 168.1069154, Vanuatu\n",
      "-13.7693895, -172.12005, Samoa\n",
      "16.3471243, 47.8915271, Yemen\n",
      "-28.8166236, 24.991639, South Africa\n",
      "-14.5189121, 27.5589884, Zambia\n",
      "-18.4554963, 29.7468414, Zimbabwe\n",
      "16.9127178, 96.0975129, Low human development\n",
      "46.2286278, 6.1346858, Europe and Central Asia\n",
      "10.661669, -61.5131277656963, Latin America and the Caribbean\n",
      "47.5968685, -122.32414745001807, South Asia\n",
      "-36.8535712, 174.7456809, World\n"
     ]
    }
   ],
   "source": [
    "longitude = []\n",
    "latitude = []\n",
    "for i in (df_imputed_knn[\"country\"]):\n",
    "      \n",
    "    url = 'https://nominatim.openstreetmap.org/search/' + urllib.parse.quote(i) +'?format=json'\n",
    "    response = requests.get(url).json()\n",
    "\n",
    "    if len(response) != 0:\n",
    "\n",
    "        print(f'{response[0][\"lat\"]}, {response[0][\"lon\"]}, {i}')\n",
    "        latitude.append(float(response[0][\"lat\"]))\n",
    "        longitude.append(float(response[0][\"lon\"]))\n",
    "\n",
    "    else:\n",
    "        latitude.append(np.nan)\n",
    "        longitude.append(np.nan)\n",
    "\n",
    "df_imputed_knn['longitude'] = longitude\n",
    "df_imputed_knn['latitude'] = latitude\n",
    "\n"
   ]
  },
  {
   "cell_type": "code",
   "execution_count": 9,
   "metadata": {},
   "outputs": [
    {
     "data": {
      "text/html": [
       "<div>\n",
       "<style scoped>\n",
       "    .dataframe tbody tr th:only-of-type {\n",
       "        vertical-align: middle;\n",
       "    }\n",
       "\n",
       "    .dataframe tbody tr th {\n",
       "        vertical-align: top;\n",
       "    }\n",
       "\n",
       "    .dataframe thead th {\n",
       "        text-align: right;\n",
       "    }\n",
       "</style>\n",
       "<table border=\"1\" class=\"dataframe\">\n",
       "  <thead>\n",
       "    <tr style=\"text-align: right;\">\n",
       "      <th></th>\n",
       "      <th>hdicode</th>\n",
       "      <th>hdi_rank_2021</th>\n",
       "      <th>hdi_1990</th>\n",
       "      <th>hdi_1991</th>\n",
       "      <th>hdi_1992</th>\n",
       "      <th>hdi_1993</th>\n",
       "      <th>hdi_1994</th>\n",
       "      <th>hdi_1995</th>\n",
       "      <th>hdi_1996</th>\n",
       "      <th>hdi_1997</th>\n",
       "      <th>...</th>\n",
       "      <th>mf_2016</th>\n",
       "      <th>mf_2017</th>\n",
       "      <th>mf_2018</th>\n",
       "      <th>mf_2019</th>\n",
       "      <th>mf_2020</th>\n",
       "      <th>mf_2021</th>\n",
       "      <th>country</th>\n",
       "      <th>iso3</th>\n",
       "      <th>longitude</th>\n",
       "      <th>latitude</th>\n",
       "    </tr>\n",
       "  </thead>\n",
       "  <tbody>\n",
       "    <tr>\n",
       "      <th>0</th>\n",
       "      <td>Low</td>\n",
       "      <td>180.00</td>\n",
       "      <td>0.27300</td>\n",
       "      <td>0.27900</td>\n",
       "      <td>0.28700</td>\n",
       "      <td>0.29700</td>\n",
       "      <td>0.2920</td>\n",
       "      <td>0.31000</td>\n",
       "      <td>0.31900</td>\n",
       "      <td>0.3230</td>\n",
       "      <td>...</td>\n",
       "      <td>1.660000</td>\n",
       "      <td>1.410000</td>\n",
       "      <td>1.320000</td>\n",
       "      <td>1.380000</td>\n",
       "      <td>1.380000</td>\n",
       "      <td>1.380000</td>\n",
       "      <td>Afghanistan</td>\n",
       "      <td>AFG</td>\n",
       "      <td>66.238514</td>\n",
       "      <td>33.768006</td>\n",
       "    </tr>\n",
       "    <tr>\n",
       "      <th>1</th>\n",
       "      <td>Medium</td>\n",
       "      <td>148.00</td>\n",
       "      <td>0.51685</td>\n",
       "      <td>0.52020</td>\n",
       "      <td>0.52175</td>\n",
       "      <td>0.52455</td>\n",
       "      <td>0.5299</td>\n",
       "      <td>0.54200</td>\n",
       "      <td>0.54795</td>\n",
       "      <td>0.5513</td>\n",
       "      <td>...</td>\n",
       "      <td>2.790000</td>\n",
       "      <td>2.640000</td>\n",
       "      <td>2.280000</td>\n",
       "      <td>2.180000</td>\n",
       "      <td>2.180000</td>\n",
       "      <td>2.180000</td>\n",
       "      <td>Angola</td>\n",
       "      <td>AGO</td>\n",
       "      <td>17.569124</td>\n",
       "      <td>-11.877577</td>\n",
       "    </tr>\n",
       "    <tr>\n",
       "      <th>2</th>\n",
       "      <td>High</td>\n",
       "      <td>67.00</td>\n",
       "      <td>0.64700</td>\n",
       "      <td>0.62900</td>\n",
       "      <td>0.61400</td>\n",
       "      <td>0.61700</td>\n",
       "      <td>0.6240</td>\n",
       "      <td>0.63400</td>\n",
       "      <td>0.64500</td>\n",
       "      <td>0.6420</td>\n",
       "      <td>...</td>\n",
       "      <td>14.390000</td>\n",
       "      <td>14.460000</td>\n",
       "      <td>12.850000</td>\n",
       "      <td>12.960000</td>\n",
       "      <td>12.960000</td>\n",
       "      <td>12.960000</td>\n",
       "      <td>Albania</td>\n",
       "      <td>ALB</td>\n",
       "      <td>19.999962</td>\n",
       "      <td>41.000028</td>\n",
       "    </tr>\n",
       "    <tr>\n",
       "      <th>3</th>\n",
       "      <td>Very High</td>\n",
       "      <td>40.00</td>\n",
       "      <td>0.80920</td>\n",
       "      <td>0.81415</td>\n",
       "      <td>0.82010</td>\n",
       "      <td>0.82630</td>\n",
       "      <td>0.8348</td>\n",
       "      <td>0.83875</td>\n",
       "      <td>0.84425</td>\n",
       "      <td>0.8499</td>\n",
       "      <td>...</td>\n",
       "      <td>29.550500</td>\n",
       "      <td>30.422000</td>\n",
       "      <td>28.991500</td>\n",
       "      <td>28.891500</td>\n",
       "      <td>28.891500</td>\n",
       "      <td>28.891500</td>\n",
       "      <td>Andorra</td>\n",
       "      <td>AND</td>\n",
       "      <td>1.573203</td>\n",
       "      <td>42.540717</td>\n",
       "    </tr>\n",
       "    <tr>\n",
       "      <th>4</th>\n",
       "      <td>Very High</td>\n",
       "      <td>26.00</td>\n",
       "      <td>0.72800</td>\n",
       "      <td>0.73900</td>\n",
       "      <td>0.74200</td>\n",
       "      <td>0.74800</td>\n",
       "      <td>0.7550</td>\n",
       "      <td>0.76200</td>\n",
       "      <td>0.76700</td>\n",
       "      <td>0.7730</td>\n",
       "      <td>...</td>\n",
       "      <td>64.950000</td>\n",
       "      <td>75.610000</td>\n",
       "      <td>65.970000</td>\n",
       "      <td>68.950000</td>\n",
       "      <td>68.950000</td>\n",
       "      <td>68.950000</td>\n",
       "      <td>United Arab Emirates</td>\n",
       "      <td>ARE</td>\n",
       "      <td>53.999483</td>\n",
       "      <td>24.000249</td>\n",
       "    </tr>\n",
       "    <tr>\n",
       "      <th>...</th>\n",
       "      <td>...</td>\n",
       "      <td>...</td>\n",
       "      <td>...</td>\n",
       "      <td>...</td>\n",
       "      <td>...</td>\n",
       "      <td>...</td>\n",
       "      <td>...</td>\n",
       "      <td>...</td>\n",
       "      <td>...</td>\n",
       "      <td>...</td>\n",
       "      <td>...</td>\n",
       "      <td>...</td>\n",
       "      <td>...</td>\n",
       "      <td>...</td>\n",
       "      <td>...</td>\n",
       "      <td>...</td>\n",
       "      <td>...</td>\n",
       "      <td>...</td>\n",
       "      <td>...</td>\n",
       "      <td>...</td>\n",
       "      <td>...</td>\n",
       "    </tr>\n",
       "    <tr>\n",
       "      <th>201</th>\n",
       "      <td>High</td>\n",
       "      <td>80.95</td>\n",
       "      <td>0.66400</td>\n",
       "      <td>0.66100</td>\n",
       "      <td>0.65400</td>\n",
       "      <td>0.65200</td>\n",
       "      <td>0.6470</td>\n",
       "      <td>0.65200</td>\n",
       "      <td>0.65600</td>\n",
       "      <td>0.6620</td>\n",
       "      <td>...</td>\n",
       "      <td>13.791770</td>\n",
       "      <td>13.618078</td>\n",
       "      <td>13.914030</td>\n",
       "      <td>14.087293</td>\n",
       "      <td>14.091826</td>\n",
       "      <td>14.096719</td>\n",
       "      <td>Europe and Central Asia</td>\n",
       "      <td>ZZG.ECA</td>\n",
       "      <td>6.134686</td>\n",
       "      <td>46.228628</td>\n",
       "    </tr>\n",
       "    <tr>\n",
       "      <th>202</th>\n",
       "      <td>High</td>\n",
       "      <td>84.90</td>\n",
       "      <td>0.63300</td>\n",
       "      <td>0.63800</td>\n",
       "      <td>0.64300</td>\n",
       "      <td>0.64800</td>\n",
       "      <td>0.6540</td>\n",
       "      <td>0.65800</td>\n",
       "      <td>0.66500</td>\n",
       "      <td>0.6720</td>\n",
       "      <td>...</td>\n",
       "      <td>13.325144</td>\n",
       "      <td>13.604555</td>\n",
       "      <td>13.151315</td>\n",
       "      <td>13.296195</td>\n",
       "      <td>13.290914</td>\n",
       "      <td>13.284745</td>\n",
       "      <td>Latin America and the Caribbean</td>\n",
       "      <td>ZZH.LAC</td>\n",
       "      <td>-61.513128</td>\n",
       "      <td>10.661669</td>\n",
       "    </tr>\n",
       "    <tr>\n",
       "      <th>203</th>\n",
       "      <td>Low</td>\n",
       "      <td>135.75</td>\n",
       "      <td>0.44200</td>\n",
       "      <td>0.44700</td>\n",
       "      <td>0.45300</td>\n",
       "      <td>0.45700</td>\n",
       "      <td>0.4620</td>\n",
       "      <td>0.46700</td>\n",
       "      <td>0.47400</td>\n",
       "      <td>0.4800</td>\n",
       "      <td>...</td>\n",
       "      <td>4.624886</td>\n",
       "      <td>4.740263</td>\n",
       "      <td>5.000024</td>\n",
       "      <td>5.110230</td>\n",
       "      <td>5.106447</td>\n",
       "      <td>5.102134</td>\n",
       "      <td>South Asia</td>\n",
       "      <td>ZZI.SA</td>\n",
       "      <td>-122.324147</td>\n",
       "      <td>47.596868</td>\n",
       "    </tr>\n",
       "    <tr>\n",
       "      <th>204</th>\n",
       "      <td>Low</td>\n",
       "      <td>149.95</td>\n",
       "      <td>0.40700</td>\n",
       "      <td>0.41000</td>\n",
       "      <td>0.41000</td>\n",
       "      <td>0.41100</td>\n",
       "      <td>0.4130</td>\n",
       "      <td>0.42000</td>\n",
       "      <td>0.42300</td>\n",
       "      <td>0.4270</td>\n",
       "      <td>...</td>\n",
       "      <td>3.415511</td>\n",
       "      <td>3.256156</td>\n",
       "      <td>3.145930</td>\n",
       "      <td>3.151076</td>\n",
       "      <td>3.146092</td>\n",
       "      <td>3.140740</td>\n",
       "      <td>Sub-Saharan Africa</td>\n",
       "      <td>ZZJ.SSA</td>\n",
       "      <td>NaN</td>\n",
       "      <td>NaN</td>\n",
       "    </tr>\n",
       "    <tr>\n",
       "      <th>205</th>\n",
       "      <td>High</td>\n",
       "      <td>82.15</td>\n",
       "      <td>0.60100</td>\n",
       "      <td>0.60400</td>\n",
       "      <td>0.60700</td>\n",
       "      <td>0.61000</td>\n",
       "      <td>0.6140</td>\n",
       "      <td>0.61900</td>\n",
       "      <td>0.62400</td>\n",
       "      <td>0.6290</td>\n",
       "      <td>...</td>\n",
       "      <td>12.277707</td>\n",
       "      <td>12.277878</td>\n",
       "      <td>12.220286</td>\n",
       "      <td>12.375236</td>\n",
       "      <td>12.325166</td>\n",
       "      <td>12.271920</td>\n",
       "      <td>World</td>\n",
       "      <td>ZZK.WORLD</td>\n",
       "      <td>174.745681</td>\n",
       "      <td>-36.853571</td>\n",
       "    </tr>\n",
       "  </tbody>\n",
       "</table>\n",
       "<p>206 rows × 1009 columns</p>\n",
       "</div>"
      ],
      "text/plain": [
       "       hdicode  hdi_rank_2021  hdi_1990  hdi_1991  hdi_1992  hdi_1993  \\\n",
       "0          Low         180.00   0.27300   0.27900   0.28700   0.29700   \n",
       "1       Medium         148.00   0.51685   0.52020   0.52175   0.52455   \n",
       "2         High          67.00   0.64700   0.62900   0.61400   0.61700   \n",
       "3    Very High          40.00   0.80920   0.81415   0.82010   0.82630   \n",
       "4    Very High          26.00   0.72800   0.73900   0.74200   0.74800   \n",
       "..         ...            ...       ...       ...       ...       ...   \n",
       "201       High          80.95   0.66400   0.66100   0.65400   0.65200   \n",
       "202       High          84.90   0.63300   0.63800   0.64300   0.64800   \n",
       "203        Low         135.75   0.44200   0.44700   0.45300   0.45700   \n",
       "204        Low         149.95   0.40700   0.41000   0.41000   0.41100   \n",
       "205       High          82.15   0.60100   0.60400   0.60700   0.61000   \n",
       "\n",
       "     hdi_1994  hdi_1995  hdi_1996  hdi_1997  ...    mf_2016    mf_2017  \\\n",
       "0      0.2920   0.31000   0.31900    0.3230  ...   1.660000   1.410000   \n",
       "1      0.5299   0.54200   0.54795    0.5513  ...   2.790000   2.640000   \n",
       "2      0.6240   0.63400   0.64500    0.6420  ...  14.390000  14.460000   \n",
       "3      0.8348   0.83875   0.84425    0.8499  ...  29.550500  30.422000   \n",
       "4      0.7550   0.76200   0.76700    0.7730  ...  64.950000  75.610000   \n",
       "..        ...       ...       ...       ...  ...        ...        ...   \n",
       "201    0.6470   0.65200   0.65600    0.6620  ...  13.791770  13.618078   \n",
       "202    0.6540   0.65800   0.66500    0.6720  ...  13.325144  13.604555   \n",
       "203    0.4620   0.46700   0.47400    0.4800  ...   4.624886   4.740263   \n",
       "204    0.4130   0.42000   0.42300    0.4270  ...   3.415511   3.256156   \n",
       "205    0.6140   0.61900   0.62400    0.6290  ...  12.277707  12.277878   \n",
       "\n",
       "       mf_2018    mf_2019    mf_2020    mf_2021  \\\n",
       "0     1.320000   1.380000   1.380000   1.380000   \n",
       "1     2.280000   2.180000   2.180000   2.180000   \n",
       "2    12.850000  12.960000  12.960000  12.960000   \n",
       "3    28.991500  28.891500  28.891500  28.891500   \n",
       "4    65.970000  68.950000  68.950000  68.950000   \n",
       "..         ...        ...        ...        ...   \n",
       "201  13.914030  14.087293  14.091826  14.096719   \n",
       "202  13.151315  13.296195  13.290914  13.284745   \n",
       "203   5.000024   5.110230   5.106447   5.102134   \n",
       "204   3.145930   3.151076   3.146092   3.140740   \n",
       "205  12.220286  12.375236  12.325166  12.271920   \n",
       "\n",
       "                             country       iso3   longitude   latitude  \n",
       "0                        Afghanistan        AFG   66.238514  33.768006  \n",
       "1                             Angola        AGO   17.569124 -11.877577  \n",
       "2                            Albania        ALB   19.999962  41.000028  \n",
       "3                            Andorra        AND    1.573203  42.540717  \n",
       "4               United Arab Emirates        ARE   53.999483  24.000249  \n",
       "..                               ...        ...         ...        ...  \n",
       "201          Europe and Central Asia    ZZG.ECA    6.134686  46.228628  \n",
       "202  Latin America and the Caribbean    ZZH.LAC  -61.513128  10.661669  \n",
       "203                       South Asia     ZZI.SA -122.324147  47.596868  \n",
       "204               Sub-Saharan Africa    ZZJ.SSA         NaN        NaN  \n",
       "205                            World  ZZK.WORLD  174.745681 -36.853571  \n",
       "\n",
       "[206 rows x 1009 columns]"
      ]
     },
     "execution_count": 9,
     "metadata": {},
     "output_type": "execute_result"
    }
   ],
   "source": [
    "df_imputed_knn"
   ]
  },
  {
   "cell_type": "code",
   "execution_count": 10,
   "metadata": {},
   "outputs": [
    {
     "data": {
      "application/vnd.plotly.v1+json": {
       "config": {
        "plotlyServerURL": "https://plot.ly"
       },
       "data": [
        {
         "hovertemplate": "<b>%{hovertext}</b><br><br>hdicode=Low<br>hdi_rank_2021=%{marker.size}<br>latitude=%{lat}<br>longitude=%{lon}<extra></extra>",
         "hovertext": [
          "Afghanistan",
          "Burundi",
          "Benin",
          "Burkina Faso",
          "Central African Republic",
          "Congo (Democratic Republic of the)",
          "Djibouti",
          "Eritrea",
          "Ethiopia",
          "Guinea",
          "Gambia",
          "Guinea-Bissau",
          "Haiti",
          "Liberia",
          "Lesotho",
          "Madagascar",
          "Mali",
          "Mozambique",
          "Malawi",
          "Niger",
          "Nigeria",
          "Pakistan",
          "Korea (Democratic People's Rep. of)",
          "Rwanda",
          "Sudan",
          "Senegal",
          "Sierra Leone",
          "Somalia",
          "South Sudan",
          "Chad",
          "Togo",
          "Tanzania (United Republic of)",
          "Uganda",
          "Yemen",
          "Medium human development",
          "Low human development",
          "South Asia",
          "Sub-Saharan Africa"
         ],
         "lat": [
          33.7680065,
          -3.426449,
          9.5293472,
          12.0753083,
          7.0323598,
          -2.9814344,
          11.8145966,
          15.9500319,
          10.2116702,
          10.7226226,
          13.470062,
          12.100035,
          19.1399952,
          5.7499721,
          -29.6039267,
          -18.9249604,
          16.3700359,
          -19.302233,
          -13.2687204,
          17.7356214,
          9.6000359,
          30.3308401,
          null,
          -1.9646631,
          14.5844444,
          14.4750607,
          8.6400349,
          8.3676771,
          7.8699431,
          15.6134137,
          8.7800265,
          -6.5247123,
          1.5333554,
          16.3471243,
          null,
          16.9127178,
          47.5968685,
          null
         ],
         "legendgroup": "Low",
         "lon": [
          66.2385139,
          29.9324519,
          2.2584408,
          -1.6880314,
          19.9981227,
          23.8222636,
          42.8453061,
          37.9999668,
          38.6521203,
          -10.7083587,
          -15.4900464,
          -14.9000214,
          -72.3570972,
          -9.3658524,
          28.3350193,
          46.4416422,
          -2.2900239,
          34.9144977,
          33.9301963,
          9.3238432,
          7.9999721,
          71.247499,
          null,
          30.0644358,
          29.4917691,
          -14.4529612,
          -11.8400269,
          49.083416,
          29.6667897,
          19.0156172,
          1.0199765,
          35.7878438,
          32.2166578,
          47.8915271,
          null,
          96.0975129,
          -122.32414745001807,
          null
         ],
         "marker": {
          "color": "#636efa",
          "size": [
           180,
           187,
           166,
           184,
           188,
           179,
           171,
           176,
           175,
           182,
           174,
           177,
           163,
           178,
           168,
           173,
           186,
           185,
           169,
           189,
           163,
           161,
           79.2,
           165,
           172,
           170,
           181,
           179.15,
           191,
           190,
           162,
           160,
           166,
           183,
           139.2,
           159,
           135.75,
           149.95
          ],
          "sizemode": "area",
          "sizeref": 0.8488888888888889
         },
         "mode": "markers",
         "name": "Low",
         "showlegend": true,
         "subplot": "mapbox",
         "type": "scattermapbox"
        },
        {
         "hovertemplate": "<b>%{hovertext}</b><br><br>hdicode=Medium<br>hdi_rank_2021=%{marker.size}<br>latitude=%{lat}<br>longitude=%{lon}<extra></extra>",
         "hovertext": [
          "Angola",
          "Bangladesh",
          "Belize",
          "Bolivia (Plurinational State of)",
          "Bhutan",
          "Botswana",
          "Côte d'Ivoire",
          "Cameroon",
          "Congo",
          "Comoros",
          "Cabo Verde",
          "Micronesia (Federated States of)",
          "Ghana",
          "Equatorial Guinea",
          "Guatemala",
          "Honduras",
          "India",
          "Iraq",
          "Kenya",
          "Kyrgyzstan",
          "Cambodia",
          "Kiribati",
          "Lao People's Democratic Republic",
          "Morocco",
          "Marshall Islands",
          "Myanmar",
          "Mauritania",
          "Namibia",
          "Nicaragua",
          "Nepal",
          "Philippines",
          "Papua New Guinea",
          "Solomon Islands",
          "El Salvador",
          "Sao Tome and Principe",
          "Eswatini (Kingdom of)",
          "Syrian Arab Republic",
          "Tajikistan",
          "Timor-Leste",
          "Tuvalu",
          "Venezuela (Bolivarian Republic of)",
          "Vanuatu",
          "Zambia",
          "Zimbabwe"
         ],
         "lat": [
          -11.8775768,
          24.4769288,
          16.8259793,
          -17.0568696,
          27.549511,
          -23.1681782,
          7.9897371,
          4.6125522,
          -2.9814344,
          -12.2045176,
          16.0000552,
          38.9073892,
          8.0300284,
          1.613172,
          15.5855545,
          15.2572432,
          22.3511148,
          33.0955793,
          1.4419683,
          41.5089324,
          12.5433216,
          0.3448612,
          20.0171109,
          31.1728205,
          8.9995549,
          17.1750495,
          20.2540382,
          -23.2335499,
          12.6090157,
          28.1083929,
          12.7503486,
          -5.6816069,
          -8.7053941,
          13.8000382,
          0.9713095,
          -26.5624806,
          34.6401861,
          38.6281733,
          -8.5151979,
          -8.6405212,
          8.0018709,
          -16.5255069,
          -14.5189121,
          -18.4554963
         ],
         "legendgroup": "Medium",
         "lon": [
          17.5691241,
          90.2934413,
          -88.7600927,
          -64.9912286,
          90.5119273,
          24.5928742,
          -5.5679458,
          13.1535811,
          23.8222636,
          44.2832964,
          -24.0083947,
          -77.0405464,
          -1.0800271,
          10.5170357,
          -90.345759,
          -86.0755145,
          78.6677428,
          44.1749775,
          38.4313975,
          74.724091,
          104.8144914,
          173.6641773,
          103.378253,
          -7.3362482,
          168.0002575,
          95.9999652,
          -9.2399263,
          17.3231107,
          -85.2936911,
          84.0917139,
          122.7312101,
          144.2489081,
          159.1070693851845,
          -88.9140683,
          7.02255,
          31.3991317,
          39.0494106,
          70.8156541,
          125.8375756,
          179.1582918181797,
          -66.1109318,
          168.1069154,
          27.5589884,
          29.7468414
         ],
         "marker": {
          "color": "#EF553B",
          "size": [
           148,
           129,
           123,
           118,
           127,
           117,
           159,
           151,
           153,
           156,
           128,
           134,
           133,
           145,
           135,
           137,
           132,
           121,
           152,
           118,
           146,
           136,
           140,
           123,
           131,
           149,
           158,
           139,
           126,
           143,
           116,
           156,
           155,
           125,
           138,
           144,
           150,
           122,
           140,
           130,
           120,
           140,
           154,
           146
          ],
          "sizemode": "area",
          "sizeref": 0.8488888888888889
         },
         "mode": "markers",
         "name": "Medium",
         "showlegend": true,
         "subplot": "mapbox",
         "type": "scattermapbox"
        },
        {
         "hovertemplate": "<b>%{hovertext}</b><br><br>hdicode=High<br>hdi_rank_2021=%{marker.size}<br>latitude=%{lat}<br>longitude=%{lon}<extra></extra>",
         "hovertext": [
          "Albania",
          "Armenia",
          "Antigua and Barbuda",
          "Azerbaijan",
          "Bulgaria",
          "Bosnia and Herzegovina",
          "Brazil",
          "Barbados",
          "China",
          "Colombia",
          "Cuba",
          "Dominica",
          "Dominican Republic",
          "Algeria",
          "Ecuador",
          "Egypt",
          "Fiji",
          "Gabon",
          "Grenada",
          "Guyana",
          "Indonesia",
          "Iran (Islamic Republic of)",
          "Jamaica",
          "Jordan",
          "Saint Kitts and Nevis",
          "Lebanon",
          "Libya",
          "Saint Lucia",
          "Sri Lanka",
          "Moldova (Republic of)",
          "Maldives",
          "Mexico",
          "North Macedonia",
          "Mongolia",
          "Nauru",
          "Peru",
          "Palau",
          "Paraguay",
          "Palestine, State of",
          "Suriname",
          "Seychelles",
          "Turkmenistan",
          "Tonga",
          "Tunisia",
          "Ukraine",
          "Uzbekistan",
          "Saint Vincent and the Grenadines",
          "Viet Nam",
          "Samoa",
          "South Africa",
          "High human development",
          "Arab States",
          "East Asia and the Pacific",
          "Europe and Central Asia",
          "Latin America and the Caribbean",
          "World"
         ],
         "lat": [
          41.000028,
          40.7696272,
          17.2234721,
          40.3936294,
          42.6073975,
          44.3053476,
          -10.3333333,
          13.1500331,
          35.000074,
          4.099917,
          23.0131338,
          19.0974031,
          19.0974031,
          28.0000272,
          -1.3397668,
          26.2540493,
          -18.1239696,
          -0.8999695,
          12.1360374,
          4.8417097,
          -2.4833826,
          32.6475314,
          18.1850507,
          31.1667049,
          17.250512,
          33.8750629,
          26.8234472,
          13.8250489,
          7.5554942,
          46.6745434,
          3.7203503,
          23.6585116,
          41.6171214,
          46.8250388,
          -0.5252306,
          -6.8699697,
          5.3783537,
          -23.3165935,
          42.2088336,
          4.1413025,
          -4.6574977,
          39.3763807,
          -19.9160819,
          33.8439408,
          49.4871968,
          41.32373,
          12.90447,
          15.9266657,
          -13.7693895,
          -28.8166236,
          null,
          null,
          null,
          46.2286278,
          10.661669,
          -36.8535712
         ],
         "legendgroup": "High",
         "lon": [
          19.9999619,
          44.6736646,
          -61.9554608,
          47.7872508,
          25.4856617,
          17.5961467,
          -53.2,
          -59.5250305,
          104.999927,
          -72.9088133,
          -80.8328748,
          -70.3028026,
          -70.3028026,
          2.9999825,
          -79.3666965,
          29.2675469,
          179.0122737,
          11.6899699,
          -61.6904045,
          -58.6416891,
          117.8902853,
          54.5643516,
          -77.3947693,
          36.941628,
          -62.6725973,
          35.843409,
          18.1236723,
          -60.975036,
          80.7137847,
          29.7521996,
          73.2244152,
          -102.0077097,
          21.7168387,
          103.8499736,
          166.9324426,
          -75.0458515,
          132.9102573,
          -58.1693445,
          -79.4683738,
          -56.0771187,
          55.4540146,
          59.3924609,
          -175.202642,
          9.400138,
          31.2718321,
          63.9528098,
          -61.2765569,
          107.9650855,
          -172.12005,
          24.991639,
          null,
          null,
          null,
          6.1346858,
          -61.5131277656963,
          174.7456809
         ],
         "marker": {
          "color": "#00cc96",
          "size": [
           67,
           85,
           71,
           91,
           68,
           74,
           87,
           70,
           79,
           88,
           83,
           102,
           80,
           91,
           95,
           97,
           99,
           112,
           68,
           108,
           114,
           76,
           110,
           102,
           75,
           112,
           104,
           106,
           73,
           80,
           90,
           86,
           78,
           96,
           91.1,
           84,
           80,
           105,
           106,
           99,
           72,
           91,
           91,
           97,
           77,
           101,
           89,
           115,
           111,
           109,
           90.55,
           88.25,
           98.35,
           80.95,
           84.9,
           82.15
          ],
          "sizemode": "area",
          "sizeref": 0.8488888888888889
         },
         "mode": "markers",
         "name": "High",
         "showlegend": true,
         "subplot": "mapbox",
         "type": "scattermapbox"
        },
        {
         "hovertemplate": "<b>%{hovertext}</b><br><br>hdicode=Very High<br>hdi_rank_2021=%{marker.size}<br>latitude=%{lat}<br>longitude=%{lon}<extra></extra>",
         "hovertext": [
          "Andorra",
          "United Arab Emirates",
          "Argentina",
          "Australia",
          "Austria",
          "Belgium",
          "Bahrain",
          "Bahamas",
          "Belarus",
          "Brunei Darussalam",
          "Canada",
          "Switzerland",
          "Chile",
          "Costa Rica",
          "Cyprus",
          "Czechia",
          "Germany",
          "Denmark",
          "Spain",
          "Estonia",
          "Finland",
          "France",
          "United Kingdom",
          "Georgia",
          "Greece",
          "Hong Kong, China (SAR)",
          "Croatia",
          "Hungary",
          "Ireland",
          "Iceland",
          "Israel",
          "Italy",
          "Japan",
          "Kazakhstan",
          "Korea (Republic of)",
          "Kuwait",
          "Liechtenstein",
          "Lithuania",
          "Luxembourg",
          "Latvia",
          "Monaco",
          "Malta",
          "Montenegro",
          "Mauritius",
          "Malaysia",
          "Netherlands",
          "Norway",
          "New Zealand",
          "Oman",
          "Panama",
          "Poland",
          "Portugal",
          "Qatar",
          "Romania",
          "Russian Federation",
          "Saudi Arabia",
          "Singapore",
          "San Marino",
          "Serbia",
          "Slovakia",
          "Slovenia",
          "Sweden",
          "Thailand",
          "Trinidad and Tobago",
          "Turkey",
          "Uruguay",
          "United States",
          "Very high human development"
         ],
         "lat": [
          42.5407167,
          24.0002488,
          -34.9964963,
          -24.7761086,
          47.59397,
          50.6402809,
          26.1551249,
          24.7736546,
          53.4250605,
          4.4137155,
          61.0666922,
          46.7985624,
          -31.7613365,
          10.2735633,
          34.9823018,
          49.7439047,
          51.1638175,
          55.670249,
          39.3260685,
          58.7523778,
          63.2467777,
          46.603354,
          54.7023545,
          32.3293809,
          38.9953683,
          null,
          45.5643442,
          47.1817585,
          52.865196,
          64.9841821,
          30.8124247,
          42.6384261,
          36.5748441,
          48.1012954,
          55.8215537,
          29.2733964,
          47.1416307,
          55.3500003,
          49.8158683,
          56.8406494,
          43.7323492,
          35.8885993,
          42.9868853,
          -20.2759451,
          4.5693754,
          52.2434979,
          60.5000209,
          -41.5000831,
          21.0000287,
          8.559559,
          52.215933,
          39.6621648,
          25.3336984,
          45.9852129,
          64.6863136,
          25.6242618,
          1.357107,
          43.9458623,
          44.1534121,
          48.7411522,
          45.8133113,
          59.6749712,
          14.8971921,
          10.7466905,
          38.9597594,
          -32.8755548,
          39.7837304,
          null
         ],
         "legendgroup": "Very High",
         "lon": [
          1.5732033,
          53.9994829,
          -64.9672817,
          134.755,
          14.12456,
          4.6667145,
          50.5344606,
          -78.0000547,
          27.6971358,
          114.5653908,
          -107.991707,
          8.2319736,
          -71.3187697,
          -84.0739102,
          33.1451285,
          15.3381061,
          10.4478313,
          10.3333283,
          -4.8379791,
          25.3319078,
          25.9209164,
          1.8883335,
          -3.2765753,
          -83.1137366,
          21.9877132,
          null,
          17.0118954,
          19.5060937,
          -7.9794599,
          -18.1059013,
          34.8594762,
          12.674297,
          139.2394179,
          66.7780818,
          49.132971,
          47.4979476,
          9.5531527,
          23.7499997,
          6.1296751,
          24.7537645,
          7.4276832,
          14.4476911,
          19.5180992,
          57.5703566,
          102.2656823,
          5.6343227,
          9.0999715,
          172.8344077,
          57.0036901,
          -81.1308434,
          19.134422,
          -8.1353519,
          51.2295295,
          24.6859225,
          97.7453061,
          42.3528328,
          103.8194992,
          12.458306,
          20.55144,
          19.4528646,
          14.4808369,
          14.5208584,
          100.83273,
          -61.0840075,
          34.9249653,
          -56.0201525,
          -100.445882,
          null
         ],
         "marker": {
          "color": "#ab63fa",
          "size": [
           40,
           26,
           47,
           5,
           25,
           13,
           35,
           55,
           60,
           51,
           15,
           1,
           42,
           58,
           29,
           32,
           9,
           6,
           27,
           31,
           11,
           28,
           18,
           63,
           33,
           4,
           40,
           46,
           8,
           3,
           22,
           30,
           19,
           56,
           19,
           50,
           16,
           35,
           17,
           39,
           21.45,
           23,
           49,
           63,
           62,
           10,
           2,
           13,
           54,
           61,
           34,
           38,
           42,
           53,
           52,
           35,
           12,
           44,
           63,
           45,
           23,
           7,
           66,
           57,
           48,
           58,
           21,
           22.5
          ],
          "sizemode": "area",
          "sizeref": 0.8488888888888889
         },
         "mode": "markers",
         "name": "Very High",
         "showlegend": true,
         "subplot": "mapbox",
         "type": "scattermapbox"
        }
       ],
       "layout": {
        "legend": {
         "itemsizing": "constant",
         "title": {
          "text": "hdicode"
         },
         "tracegroupgap": 0
        },
        "mapbox": {
         "accesstoken": "pk.eyJ1IjoiZ3Bhc3NhbnRpbm8yMiIsImEiOiJjbGIybTV1OWwwNXEyM3BvYTc0MXdqYm5sIn0.F0W3QHOO9o5dJysHnj0fpA",
         "center": {
          "lat": 19.145893333333333,
          "lon": 18.446781467614393
         },
         "domain": {
          "x": [
           0,
           1
          ],
          "y": [
           0,
           1
          ]
         },
         "zoom": 8
        },
        "margin": {
         "t": 60
        },
        "template": {
         "data": {
          "bar": [
           {
            "error_x": {
             "color": "#2a3f5f"
            },
            "error_y": {
             "color": "#2a3f5f"
            },
            "marker": {
             "line": {
              "color": "#E5ECF6",
              "width": 0.5
             },
             "pattern": {
              "fillmode": "overlay",
              "size": 10,
              "solidity": 0.2
             }
            },
            "type": "bar"
           }
          ],
          "barpolar": [
           {
            "marker": {
             "line": {
              "color": "#E5ECF6",
              "width": 0.5
             },
             "pattern": {
              "fillmode": "overlay",
              "size": 10,
              "solidity": 0.2
             }
            },
            "type": "barpolar"
           }
          ],
          "carpet": [
           {
            "aaxis": {
             "endlinecolor": "#2a3f5f",
             "gridcolor": "white",
             "linecolor": "white",
             "minorgridcolor": "white",
             "startlinecolor": "#2a3f5f"
            },
            "baxis": {
             "endlinecolor": "#2a3f5f",
             "gridcolor": "white",
             "linecolor": "white",
             "minorgridcolor": "white",
             "startlinecolor": "#2a3f5f"
            },
            "type": "carpet"
           }
          ],
          "choropleth": [
           {
            "colorbar": {
             "outlinewidth": 0,
             "ticks": ""
            },
            "type": "choropleth"
           }
          ],
          "contour": [
           {
            "colorbar": {
             "outlinewidth": 0,
             "ticks": ""
            },
            "colorscale": [
             [
              0,
              "#0d0887"
             ],
             [
              0.1111111111111111,
              "#46039f"
             ],
             [
              0.2222222222222222,
              "#7201a8"
             ],
             [
              0.3333333333333333,
              "#9c179e"
             ],
             [
              0.4444444444444444,
              "#bd3786"
             ],
             [
              0.5555555555555556,
              "#d8576b"
             ],
             [
              0.6666666666666666,
              "#ed7953"
             ],
             [
              0.7777777777777778,
              "#fb9f3a"
             ],
             [
              0.8888888888888888,
              "#fdca26"
             ],
             [
              1,
              "#f0f921"
             ]
            ],
            "type": "contour"
           }
          ],
          "contourcarpet": [
           {
            "colorbar": {
             "outlinewidth": 0,
             "ticks": ""
            },
            "type": "contourcarpet"
           }
          ],
          "heatmap": [
           {
            "colorbar": {
             "outlinewidth": 0,
             "ticks": ""
            },
            "colorscale": [
             [
              0,
              "#0d0887"
             ],
             [
              0.1111111111111111,
              "#46039f"
             ],
             [
              0.2222222222222222,
              "#7201a8"
             ],
             [
              0.3333333333333333,
              "#9c179e"
             ],
             [
              0.4444444444444444,
              "#bd3786"
             ],
             [
              0.5555555555555556,
              "#d8576b"
             ],
             [
              0.6666666666666666,
              "#ed7953"
             ],
             [
              0.7777777777777778,
              "#fb9f3a"
             ],
             [
              0.8888888888888888,
              "#fdca26"
             ],
             [
              1,
              "#f0f921"
             ]
            ],
            "type": "heatmap"
           }
          ],
          "heatmapgl": [
           {
            "colorbar": {
             "outlinewidth": 0,
             "ticks": ""
            },
            "colorscale": [
             [
              0,
              "#0d0887"
             ],
             [
              0.1111111111111111,
              "#46039f"
             ],
             [
              0.2222222222222222,
              "#7201a8"
             ],
             [
              0.3333333333333333,
              "#9c179e"
             ],
             [
              0.4444444444444444,
              "#bd3786"
             ],
             [
              0.5555555555555556,
              "#d8576b"
             ],
             [
              0.6666666666666666,
              "#ed7953"
             ],
             [
              0.7777777777777778,
              "#fb9f3a"
             ],
             [
              0.8888888888888888,
              "#fdca26"
             ],
             [
              1,
              "#f0f921"
             ]
            ],
            "type": "heatmapgl"
           }
          ],
          "histogram": [
           {
            "marker": {
             "pattern": {
              "fillmode": "overlay",
              "size": 10,
              "solidity": 0.2
             }
            },
            "type": "histogram"
           }
          ],
          "histogram2d": [
           {
            "colorbar": {
             "outlinewidth": 0,
             "ticks": ""
            },
            "colorscale": [
             [
              0,
              "#0d0887"
             ],
             [
              0.1111111111111111,
              "#46039f"
             ],
             [
              0.2222222222222222,
              "#7201a8"
             ],
             [
              0.3333333333333333,
              "#9c179e"
             ],
             [
              0.4444444444444444,
              "#bd3786"
             ],
             [
              0.5555555555555556,
              "#d8576b"
             ],
             [
              0.6666666666666666,
              "#ed7953"
             ],
             [
              0.7777777777777778,
              "#fb9f3a"
             ],
             [
              0.8888888888888888,
              "#fdca26"
             ],
             [
              1,
              "#f0f921"
             ]
            ],
            "type": "histogram2d"
           }
          ],
          "histogram2dcontour": [
           {
            "colorbar": {
             "outlinewidth": 0,
             "ticks": ""
            },
            "colorscale": [
             [
              0,
              "#0d0887"
             ],
             [
              0.1111111111111111,
              "#46039f"
             ],
             [
              0.2222222222222222,
              "#7201a8"
             ],
             [
              0.3333333333333333,
              "#9c179e"
             ],
             [
              0.4444444444444444,
              "#bd3786"
             ],
             [
              0.5555555555555556,
              "#d8576b"
             ],
             [
              0.6666666666666666,
              "#ed7953"
             ],
             [
              0.7777777777777778,
              "#fb9f3a"
             ],
             [
              0.8888888888888888,
              "#fdca26"
             ],
             [
              1,
              "#f0f921"
             ]
            ],
            "type": "histogram2dcontour"
           }
          ],
          "mesh3d": [
           {
            "colorbar": {
             "outlinewidth": 0,
             "ticks": ""
            },
            "type": "mesh3d"
           }
          ],
          "parcoords": [
           {
            "line": {
             "colorbar": {
              "outlinewidth": 0,
              "ticks": ""
             }
            },
            "type": "parcoords"
           }
          ],
          "pie": [
           {
            "automargin": true,
            "type": "pie"
           }
          ],
          "scatter": [
           {
            "marker": {
             "colorbar": {
              "outlinewidth": 0,
              "ticks": ""
             }
            },
            "type": "scatter"
           }
          ],
          "scatter3d": [
           {
            "line": {
             "colorbar": {
              "outlinewidth": 0,
              "ticks": ""
             }
            },
            "marker": {
             "colorbar": {
              "outlinewidth": 0,
              "ticks": ""
             }
            },
            "type": "scatter3d"
           }
          ],
          "scattercarpet": [
           {
            "marker": {
             "colorbar": {
              "outlinewidth": 0,
              "ticks": ""
             }
            },
            "type": "scattercarpet"
           }
          ],
          "scattergeo": [
           {
            "marker": {
             "colorbar": {
              "outlinewidth": 0,
              "ticks": ""
             }
            },
            "type": "scattergeo"
           }
          ],
          "scattergl": [
           {
            "marker": {
             "colorbar": {
              "outlinewidth": 0,
              "ticks": ""
             }
            },
            "type": "scattergl"
           }
          ],
          "scattermapbox": [
           {
            "marker": {
             "colorbar": {
              "outlinewidth": 0,
              "ticks": ""
             }
            },
            "type": "scattermapbox"
           }
          ],
          "scatterpolar": [
           {
            "marker": {
             "colorbar": {
              "outlinewidth": 0,
              "ticks": ""
             }
            },
            "type": "scatterpolar"
           }
          ],
          "scatterpolargl": [
           {
            "marker": {
             "colorbar": {
              "outlinewidth": 0,
              "ticks": ""
             }
            },
            "type": "scatterpolargl"
           }
          ],
          "scatterternary": [
           {
            "marker": {
             "colorbar": {
              "outlinewidth": 0,
              "ticks": ""
             }
            },
            "type": "scatterternary"
           }
          ],
          "surface": [
           {
            "colorbar": {
             "outlinewidth": 0,
             "ticks": ""
            },
            "colorscale": [
             [
              0,
              "#0d0887"
             ],
             [
              0.1111111111111111,
              "#46039f"
             ],
             [
              0.2222222222222222,
              "#7201a8"
             ],
             [
              0.3333333333333333,
              "#9c179e"
             ],
             [
              0.4444444444444444,
              "#bd3786"
             ],
             [
              0.5555555555555556,
              "#d8576b"
             ],
             [
              0.6666666666666666,
              "#ed7953"
             ],
             [
              0.7777777777777778,
              "#fb9f3a"
             ],
             [
              0.8888888888888888,
              "#fdca26"
             ],
             [
              1,
              "#f0f921"
             ]
            ],
            "type": "surface"
           }
          ],
          "table": [
           {
            "cells": {
             "fill": {
              "color": "#EBF0F8"
             },
             "line": {
              "color": "white"
             }
            },
            "header": {
             "fill": {
              "color": "#C8D4E3"
             },
             "line": {
              "color": "white"
             }
            },
            "type": "table"
           }
          ]
         },
         "layout": {
          "annotationdefaults": {
           "arrowcolor": "#2a3f5f",
           "arrowhead": 0,
           "arrowwidth": 1
          },
          "autotypenumbers": "strict",
          "coloraxis": {
           "colorbar": {
            "outlinewidth": 0,
            "ticks": ""
           }
          },
          "colorscale": {
           "diverging": [
            [
             0,
             "#8e0152"
            ],
            [
             0.1,
             "#c51b7d"
            ],
            [
             0.2,
             "#de77ae"
            ],
            [
             0.3,
             "#f1b6da"
            ],
            [
             0.4,
             "#fde0ef"
            ],
            [
             0.5,
             "#f7f7f7"
            ],
            [
             0.6,
             "#e6f5d0"
            ],
            [
             0.7,
             "#b8e186"
            ],
            [
             0.8,
             "#7fbc41"
            ],
            [
             0.9,
             "#4d9221"
            ],
            [
             1,
             "#276419"
            ]
           ],
           "sequential": [
            [
             0,
             "#0d0887"
            ],
            [
             0.1111111111111111,
             "#46039f"
            ],
            [
             0.2222222222222222,
             "#7201a8"
            ],
            [
             0.3333333333333333,
             "#9c179e"
            ],
            [
             0.4444444444444444,
             "#bd3786"
            ],
            [
             0.5555555555555556,
             "#d8576b"
            ],
            [
             0.6666666666666666,
             "#ed7953"
            ],
            [
             0.7777777777777778,
             "#fb9f3a"
            ],
            [
             0.8888888888888888,
             "#fdca26"
            ],
            [
             1,
             "#f0f921"
            ]
           ],
           "sequentialminus": [
            [
             0,
             "#0d0887"
            ],
            [
             0.1111111111111111,
             "#46039f"
            ],
            [
             0.2222222222222222,
             "#7201a8"
            ],
            [
             0.3333333333333333,
             "#9c179e"
            ],
            [
             0.4444444444444444,
             "#bd3786"
            ],
            [
             0.5555555555555556,
             "#d8576b"
            ],
            [
             0.6666666666666666,
             "#ed7953"
            ],
            [
             0.7777777777777778,
             "#fb9f3a"
            ],
            [
             0.8888888888888888,
             "#fdca26"
            ],
            [
             1,
             "#f0f921"
            ]
           ]
          },
          "colorway": [
           "#636efa",
           "#EF553B",
           "#00cc96",
           "#ab63fa",
           "#FFA15A",
           "#19d3f3",
           "#FF6692",
           "#B6E880",
           "#FF97FF",
           "#FECB52"
          ],
          "font": {
           "color": "#2a3f5f"
          },
          "geo": {
           "bgcolor": "white",
           "lakecolor": "white",
           "landcolor": "#E5ECF6",
           "showlakes": true,
           "showland": true,
           "subunitcolor": "white"
          },
          "hoverlabel": {
           "align": "left"
          },
          "hovermode": "closest",
          "mapbox": {
           "style": "light"
          },
          "paper_bgcolor": "white",
          "plot_bgcolor": "#E5ECF6",
          "polar": {
           "angularaxis": {
            "gridcolor": "white",
            "linecolor": "white",
            "ticks": ""
           },
           "bgcolor": "#E5ECF6",
           "radialaxis": {
            "gridcolor": "white",
            "linecolor": "white",
            "ticks": ""
           }
          },
          "scene": {
           "xaxis": {
            "backgroundcolor": "#E5ECF6",
            "gridcolor": "white",
            "gridwidth": 2,
            "linecolor": "white",
            "showbackground": true,
            "ticks": "",
            "zerolinecolor": "white"
           },
           "yaxis": {
            "backgroundcolor": "#E5ECF6",
            "gridcolor": "white",
            "gridwidth": 2,
            "linecolor": "white",
            "showbackground": true,
            "ticks": "",
            "zerolinecolor": "white"
           },
           "zaxis": {
            "backgroundcolor": "#E5ECF6",
            "gridcolor": "white",
            "gridwidth": 2,
            "linecolor": "white",
            "showbackground": true,
            "ticks": "",
            "zerolinecolor": "white"
           }
          },
          "shapedefaults": {
           "line": {
            "color": "#2a3f5f"
           }
          },
          "ternary": {
           "aaxis": {
            "gridcolor": "white",
            "linecolor": "white",
            "ticks": ""
           },
           "baxis": {
            "gridcolor": "white",
            "linecolor": "white",
            "ticks": ""
           },
           "bgcolor": "#E5ECF6",
           "caxis": {
            "gridcolor": "white",
            "linecolor": "white",
            "ticks": ""
           }
          },
          "title": {
           "x": 0.05
          },
          "xaxis": {
           "automargin": true,
           "gridcolor": "white",
           "linecolor": "white",
           "ticks": "",
           "title": {
            "standoff": 15
           },
           "zerolinecolor": "white",
           "zerolinewidth": 2
          },
          "yaxis": {
           "automargin": true,
           "gridcolor": "white",
           "linecolor": "white",
           "ticks": "",
           "title": {
            "standoff": 15
           },
           "zerolinecolor": "white",
           "zerolinewidth": 2
          }
         }
        }
       }
      }
     },
     "metadata": {},
     "output_type": "display_data"
    }
   ],
   "source": [
    "import plotly.express as px\n",
    "px.set_mapbox_access_token('pk.eyJ1IjoiZ3Bhc3NhbnRpbm8yMiIsImEiOiJjbGIybTV1OWwwNXEyM3BvYTc0MXdqYm5sIn0.F0W3QHOO9o5dJysHnj0fpA')\n",
    "\n",
    "fig = px.scatter_mapbox(df_imputed_knn, lat=\"latitude\", lon=\"longitude\", color=\"hdicode\", size=\"hdi_rank_2021\",\n",
    "                  color_continuous_scale='Bluered', size_max=15, hover_name='country')\n",
    "\n",
    "\n",
    "fig.show()\n",
    "\n",
    "\n",
    "fig.write_html(\"./html/chart/map_box_hdi.html\")"
   ]
  },
  {
   "cell_type": "code",
   "execution_count": 11,
   "metadata": {},
   "outputs": [
    {
     "data": {
      "application/vnd.plotly.v1+json": {
       "config": {
        "plotlyServerURL": "https://plot.ly"
       },
       "data": [
        {
         "coloraxis": "coloraxis",
         "geo": "geo",
         "hovertemplate": "locations=%{location}<br>color=%{z}<extra></extra>",
         "locations": [
          "AFG",
          "AGO",
          "ALB",
          "AND",
          "ARE",
          "ARG",
          "ARM",
          "ATG",
          "AUS",
          "AUT",
          "AZE",
          "BDI",
          "BEL",
          "BEN",
          "BFA",
          "BGD",
          "BGR",
          "BHR",
          "BHS",
          "BIH",
          "BLR",
          "BLZ",
          "BOL",
          "BRA",
          "BRB",
          "BRN",
          "BTN",
          "BWA",
          "CAF",
          "CAN",
          "CHE",
          "CHL",
          "CHN",
          "CIV",
          "CMR",
          "COD",
          "COG",
          "COL",
          "COM",
          "CPV",
          "CRI",
          "CUB",
          "CYP",
          "CZE",
          "DEU",
          "DJI",
          "DMA",
          "DNK",
          "DOM",
          "DZA",
          "ECU",
          "EGY",
          "ERI",
          "ESP",
          "EST",
          "ETH",
          "FIN",
          "FJI",
          "FRA",
          "FSM",
          "GAB",
          "GBR",
          "GEO",
          "GHA",
          "GIN",
          "GMB",
          "GNB",
          "GNQ",
          "GRC",
          "GRD",
          "GTM",
          "GUY",
          "HKG",
          "HND",
          "HRV",
          "HTI",
          "HUN",
          "IDN",
          "IND",
          "IRL",
          "IRN",
          "IRQ",
          "ISL",
          "ISR",
          "ITA",
          "JAM",
          "JOR",
          "JPN",
          "KAZ",
          "KEN",
          "KGZ",
          "KHM",
          "KIR",
          "KNA",
          "KOR",
          "KWT",
          "LAO",
          "LBN",
          "LBR",
          "LBY",
          "LCA",
          "LIE",
          "LKA",
          "LSO",
          "LTU",
          "LUX",
          "LVA",
          "MAR",
          "MCO",
          "MDA",
          "MDG",
          "MDV",
          "MEX",
          "MHL",
          "MKD",
          "MLI",
          "MLT",
          "MMR",
          "MNE",
          "MNG",
          "MOZ",
          "MRT",
          "MUS",
          "MWI",
          "MYS",
          "NAM",
          "NER",
          "NGA",
          "NIC",
          "NLD",
          "NOR",
          "NPL",
          "NRU",
          "NZL",
          "OMN",
          "PAK",
          "PAN",
          "PER",
          "PHL",
          "PLW",
          "PNG",
          "POL",
          "PRK",
          "PRT",
          "PRY",
          "PSE",
          "QAT",
          "ROU",
          "RUS",
          "RWA",
          "SAU",
          "SDN",
          "SEN",
          "SGP",
          "SLB",
          "SLE",
          "SLV",
          "SMR",
          "SOM",
          "SRB",
          "SSD",
          "STP",
          "SUR",
          "SVK",
          "SVN",
          "SWE",
          "SWZ",
          "SYC",
          "SYR",
          "TCD",
          "TGO",
          "THA",
          "TJK",
          "TKM",
          "TLS",
          "TON",
          "TTO",
          "TUN",
          "TUR",
          "TUV",
          "TZA",
          "UGA",
          "UKR",
          "URY",
          "USA",
          "UZB",
          "VCT",
          "VEN",
          "VNM",
          "VUT",
          "WSM",
          "YEM",
          "ZAF",
          "ZMB",
          "ZWE",
          "ZZA.VHHD",
          "ZZB.HHD",
          "ZZC.MHD",
          "ZZD.LHD",
          "ZZE.AS",
          "ZZF.EAP",
          "ZZG.ECA",
          "ZZH.LAC",
          "ZZI.SA",
          "ZZJ.SSA",
          "ZZK.WORLD"
         ],
         "marker": {
          "line": {
           "color": "darkgray",
           "width": 0.2
          }
         },
         "name": "",
         "type": "choropleth",
         "z": [
          180,
          148,
          67,
          40,
          26,
          47,
          85,
          71,
          5,
          25,
          91,
          187,
          13,
          166,
          184,
          129,
          68,
          35,
          55,
          74,
          60,
          123,
          118,
          87,
          70,
          51,
          127,
          117,
          188,
          15,
          1,
          42,
          79,
          159,
          151,
          179,
          153,
          88,
          156,
          128,
          58,
          83,
          29,
          32,
          9,
          171,
          102,
          6,
          80,
          91,
          95,
          97,
          176,
          27,
          31,
          175,
          11,
          99,
          28,
          134,
          112,
          18,
          63,
          133,
          182,
          174,
          177,
          145,
          33,
          68,
          135,
          108,
          4,
          137,
          40,
          163,
          46,
          114,
          132,
          8,
          76,
          121,
          3,
          22,
          30,
          110,
          102,
          19,
          56,
          152,
          118,
          146,
          136,
          75,
          19,
          50,
          140,
          112,
          178,
          104,
          106,
          16,
          73,
          168,
          35,
          17,
          39,
          123,
          21.45,
          80,
          173,
          90,
          86,
          131,
          78,
          186,
          23,
          149,
          49,
          96,
          185,
          158,
          63,
          169,
          62,
          139,
          189,
          163,
          126,
          10,
          2,
          143,
          91.1,
          13,
          54,
          161,
          61,
          84,
          116,
          80,
          156,
          34,
          79.2,
          38,
          105,
          106,
          42,
          53,
          52,
          165,
          35,
          172,
          170,
          12,
          155,
          181,
          125,
          44,
          179.15,
          63,
          191,
          138,
          99,
          45,
          23,
          7,
          144,
          72,
          150,
          190,
          162,
          66,
          122,
          91,
          140,
          91,
          57,
          97,
          48,
          130,
          160,
          166,
          77,
          58,
          21,
          101,
          89,
          120,
          115,
          140,
          111,
          183,
          109,
          154,
          146,
          22.5,
          90.55,
          139.2,
          159,
          88.25,
          98.35,
          80.95,
          84.9,
          135.75,
          149.95,
          82.15
         ]
        }
       ],
       "layout": {
        "coloraxis": {
         "colorbar": {
          "title": {
           "text": "color"
          }
         },
         "colorscale": [
          [
           0,
           "rgb(3, 5, 18)"
          ],
          [
           0.09090909090909091,
           "rgb(25, 25, 51)"
          ],
          [
           0.18181818181818182,
           "rgb(44, 42, 87)"
          ],
          [
           0.2727272727272727,
           "rgb(58, 60, 125)"
          ],
          [
           0.36363636363636365,
           "rgb(62, 83, 160)"
          ],
          [
           0.45454545454545453,
           "rgb(62, 109, 178)"
          ],
          [
           0.5454545454545454,
           "rgb(72, 134, 187)"
          ],
          [
           0.6363636363636364,
           "rgb(89, 159, 196)"
          ],
          [
           0.7272727272727273,
           "rgb(114, 184, 205)"
          ],
          [
           0.8181818181818182,
           "rgb(149, 207, 216)"
          ],
          [
           0.9090909090909091,
           "rgb(192, 229, 232)"
          ],
          [
           1,
           "rgb(234, 252, 253)"
          ]
         ]
        },
        "geo": {
         "center": {},
         "domain": {
          "x": [
           0,
           1
          ],
          "y": [
           0,
           1
          ]
         },
         "showcoastlines": false
        },
        "legend": {
         "tracegroupgap": 0
        },
        "margin": {
         "t": 60
        },
        "template": {
         "data": {
          "bar": [
           {
            "error_x": {
             "color": "#2a3f5f"
            },
            "error_y": {
             "color": "#2a3f5f"
            },
            "marker": {
             "line": {
              "color": "#E5ECF6",
              "width": 0.5
             },
             "pattern": {
              "fillmode": "overlay",
              "size": 10,
              "solidity": 0.2
             }
            },
            "type": "bar"
           }
          ],
          "barpolar": [
           {
            "marker": {
             "line": {
              "color": "#E5ECF6",
              "width": 0.5
             },
             "pattern": {
              "fillmode": "overlay",
              "size": 10,
              "solidity": 0.2
             }
            },
            "type": "barpolar"
           }
          ],
          "carpet": [
           {
            "aaxis": {
             "endlinecolor": "#2a3f5f",
             "gridcolor": "white",
             "linecolor": "white",
             "minorgridcolor": "white",
             "startlinecolor": "#2a3f5f"
            },
            "baxis": {
             "endlinecolor": "#2a3f5f",
             "gridcolor": "white",
             "linecolor": "white",
             "minorgridcolor": "white",
             "startlinecolor": "#2a3f5f"
            },
            "type": "carpet"
           }
          ],
          "choropleth": [
           {
            "colorbar": {
             "outlinewidth": 0,
             "ticks": ""
            },
            "type": "choropleth"
           }
          ],
          "contour": [
           {
            "colorbar": {
             "outlinewidth": 0,
             "ticks": ""
            },
            "colorscale": [
             [
              0,
              "#0d0887"
             ],
             [
              0.1111111111111111,
              "#46039f"
             ],
             [
              0.2222222222222222,
              "#7201a8"
             ],
             [
              0.3333333333333333,
              "#9c179e"
             ],
             [
              0.4444444444444444,
              "#bd3786"
             ],
             [
              0.5555555555555556,
              "#d8576b"
             ],
             [
              0.6666666666666666,
              "#ed7953"
             ],
             [
              0.7777777777777778,
              "#fb9f3a"
             ],
             [
              0.8888888888888888,
              "#fdca26"
             ],
             [
              1,
              "#f0f921"
             ]
            ],
            "type": "contour"
           }
          ],
          "contourcarpet": [
           {
            "colorbar": {
             "outlinewidth": 0,
             "ticks": ""
            },
            "type": "contourcarpet"
           }
          ],
          "heatmap": [
           {
            "colorbar": {
             "outlinewidth": 0,
             "ticks": ""
            },
            "colorscale": [
             [
              0,
              "#0d0887"
             ],
             [
              0.1111111111111111,
              "#46039f"
             ],
             [
              0.2222222222222222,
              "#7201a8"
             ],
             [
              0.3333333333333333,
              "#9c179e"
             ],
             [
              0.4444444444444444,
              "#bd3786"
             ],
             [
              0.5555555555555556,
              "#d8576b"
             ],
             [
              0.6666666666666666,
              "#ed7953"
             ],
             [
              0.7777777777777778,
              "#fb9f3a"
             ],
             [
              0.8888888888888888,
              "#fdca26"
             ],
             [
              1,
              "#f0f921"
             ]
            ],
            "type": "heatmap"
           }
          ],
          "heatmapgl": [
           {
            "colorbar": {
             "outlinewidth": 0,
             "ticks": ""
            },
            "colorscale": [
             [
              0,
              "#0d0887"
             ],
             [
              0.1111111111111111,
              "#46039f"
             ],
             [
              0.2222222222222222,
              "#7201a8"
             ],
             [
              0.3333333333333333,
              "#9c179e"
             ],
             [
              0.4444444444444444,
              "#bd3786"
             ],
             [
              0.5555555555555556,
              "#d8576b"
             ],
             [
              0.6666666666666666,
              "#ed7953"
             ],
             [
              0.7777777777777778,
              "#fb9f3a"
             ],
             [
              0.8888888888888888,
              "#fdca26"
             ],
             [
              1,
              "#f0f921"
             ]
            ],
            "type": "heatmapgl"
           }
          ],
          "histogram": [
           {
            "marker": {
             "pattern": {
              "fillmode": "overlay",
              "size": 10,
              "solidity": 0.2
             }
            },
            "type": "histogram"
           }
          ],
          "histogram2d": [
           {
            "colorbar": {
             "outlinewidth": 0,
             "ticks": ""
            },
            "colorscale": [
             [
              0,
              "#0d0887"
             ],
             [
              0.1111111111111111,
              "#46039f"
             ],
             [
              0.2222222222222222,
              "#7201a8"
             ],
             [
              0.3333333333333333,
              "#9c179e"
             ],
             [
              0.4444444444444444,
              "#bd3786"
             ],
             [
              0.5555555555555556,
              "#d8576b"
             ],
             [
              0.6666666666666666,
              "#ed7953"
             ],
             [
              0.7777777777777778,
              "#fb9f3a"
             ],
             [
              0.8888888888888888,
              "#fdca26"
             ],
             [
              1,
              "#f0f921"
             ]
            ],
            "type": "histogram2d"
           }
          ],
          "histogram2dcontour": [
           {
            "colorbar": {
             "outlinewidth": 0,
             "ticks": ""
            },
            "colorscale": [
             [
              0,
              "#0d0887"
             ],
             [
              0.1111111111111111,
              "#46039f"
             ],
             [
              0.2222222222222222,
              "#7201a8"
             ],
             [
              0.3333333333333333,
              "#9c179e"
             ],
             [
              0.4444444444444444,
              "#bd3786"
             ],
             [
              0.5555555555555556,
              "#d8576b"
             ],
             [
              0.6666666666666666,
              "#ed7953"
             ],
             [
              0.7777777777777778,
              "#fb9f3a"
             ],
             [
              0.8888888888888888,
              "#fdca26"
             ],
             [
              1,
              "#f0f921"
             ]
            ],
            "type": "histogram2dcontour"
           }
          ],
          "mesh3d": [
           {
            "colorbar": {
             "outlinewidth": 0,
             "ticks": ""
            },
            "type": "mesh3d"
           }
          ],
          "parcoords": [
           {
            "line": {
             "colorbar": {
              "outlinewidth": 0,
              "ticks": ""
             }
            },
            "type": "parcoords"
           }
          ],
          "pie": [
           {
            "automargin": true,
            "type": "pie"
           }
          ],
          "scatter": [
           {
            "marker": {
             "colorbar": {
              "outlinewidth": 0,
              "ticks": ""
             }
            },
            "type": "scatter"
           }
          ],
          "scatter3d": [
           {
            "line": {
             "colorbar": {
              "outlinewidth": 0,
              "ticks": ""
             }
            },
            "marker": {
             "colorbar": {
              "outlinewidth": 0,
              "ticks": ""
             }
            },
            "type": "scatter3d"
           }
          ],
          "scattercarpet": [
           {
            "marker": {
             "colorbar": {
              "outlinewidth": 0,
              "ticks": ""
             }
            },
            "type": "scattercarpet"
           }
          ],
          "scattergeo": [
           {
            "marker": {
             "colorbar": {
              "outlinewidth": 0,
              "ticks": ""
             }
            },
            "type": "scattergeo"
           }
          ],
          "scattergl": [
           {
            "marker": {
             "colorbar": {
              "outlinewidth": 0,
              "ticks": ""
             }
            },
            "type": "scattergl"
           }
          ],
          "scattermapbox": [
           {
            "marker": {
             "colorbar": {
              "outlinewidth": 0,
              "ticks": ""
             }
            },
            "type": "scattermapbox"
           }
          ],
          "scatterpolar": [
           {
            "marker": {
             "colorbar": {
              "outlinewidth": 0,
              "ticks": ""
             }
            },
            "type": "scatterpolar"
           }
          ],
          "scatterpolargl": [
           {
            "marker": {
             "colorbar": {
              "outlinewidth": 0,
              "ticks": ""
             }
            },
            "type": "scatterpolargl"
           }
          ],
          "scatterternary": [
           {
            "marker": {
             "colorbar": {
              "outlinewidth": 0,
              "ticks": ""
             }
            },
            "type": "scatterternary"
           }
          ],
          "surface": [
           {
            "colorbar": {
             "outlinewidth": 0,
             "ticks": ""
            },
            "colorscale": [
             [
              0,
              "#0d0887"
             ],
             [
              0.1111111111111111,
              "#46039f"
             ],
             [
              0.2222222222222222,
              "#7201a8"
             ],
             [
              0.3333333333333333,
              "#9c179e"
             ],
             [
              0.4444444444444444,
              "#bd3786"
             ],
             [
              0.5555555555555556,
              "#d8576b"
             ],
             [
              0.6666666666666666,
              "#ed7953"
             ],
             [
              0.7777777777777778,
              "#fb9f3a"
             ],
             [
              0.8888888888888888,
              "#fdca26"
             ],
             [
              1,
              "#f0f921"
             ]
            ],
            "type": "surface"
           }
          ],
          "table": [
           {
            "cells": {
             "fill": {
              "color": "#EBF0F8"
             },
             "line": {
              "color": "white"
             }
            },
            "header": {
             "fill": {
              "color": "#C8D4E3"
             },
             "line": {
              "color": "white"
             }
            },
            "type": "table"
           }
          ]
         },
         "layout": {
          "annotationdefaults": {
           "arrowcolor": "#2a3f5f",
           "arrowhead": 0,
           "arrowwidth": 1
          },
          "autotypenumbers": "strict",
          "coloraxis": {
           "colorbar": {
            "outlinewidth": 0,
            "ticks": ""
           }
          },
          "colorscale": {
           "diverging": [
            [
             0,
             "#8e0152"
            ],
            [
             0.1,
             "#c51b7d"
            ],
            [
             0.2,
             "#de77ae"
            ],
            [
             0.3,
             "#f1b6da"
            ],
            [
             0.4,
             "#fde0ef"
            ],
            [
             0.5,
             "#f7f7f7"
            ],
            [
             0.6,
             "#e6f5d0"
            ],
            [
             0.7,
             "#b8e186"
            ],
            [
             0.8,
             "#7fbc41"
            ],
            [
             0.9,
             "#4d9221"
            ],
            [
             1,
             "#276419"
            ]
           ],
           "sequential": [
            [
             0,
             "#0d0887"
            ],
            [
             0.1111111111111111,
             "#46039f"
            ],
            [
             0.2222222222222222,
             "#7201a8"
            ],
            [
             0.3333333333333333,
             "#9c179e"
            ],
            [
             0.4444444444444444,
             "#bd3786"
            ],
            [
             0.5555555555555556,
             "#d8576b"
            ],
            [
             0.6666666666666666,
             "#ed7953"
            ],
            [
             0.7777777777777778,
             "#fb9f3a"
            ],
            [
             0.8888888888888888,
             "#fdca26"
            ],
            [
             1,
             "#f0f921"
            ]
           ],
           "sequentialminus": [
            [
             0,
             "#0d0887"
            ],
            [
             0.1111111111111111,
             "#46039f"
            ],
            [
             0.2222222222222222,
             "#7201a8"
            ],
            [
             0.3333333333333333,
             "#9c179e"
            ],
            [
             0.4444444444444444,
             "#bd3786"
            ],
            [
             0.5555555555555556,
             "#d8576b"
            ],
            [
             0.6666666666666666,
             "#ed7953"
            ],
            [
             0.7777777777777778,
             "#fb9f3a"
            ],
            [
             0.8888888888888888,
             "#fdca26"
            ],
            [
             1,
             "#f0f921"
            ]
           ]
          },
          "colorway": [
           "#636efa",
           "#EF553B",
           "#00cc96",
           "#ab63fa",
           "#FFA15A",
           "#19d3f3",
           "#FF6692",
           "#B6E880",
           "#FF97FF",
           "#FECB52"
          ],
          "font": {
           "color": "#2a3f5f"
          },
          "geo": {
           "bgcolor": "white",
           "lakecolor": "white",
           "landcolor": "#E5ECF6",
           "showlakes": true,
           "showland": true,
           "subunitcolor": "white"
          },
          "hoverlabel": {
           "align": "left"
          },
          "hovermode": "closest",
          "mapbox": {
           "style": "light"
          },
          "paper_bgcolor": "white",
          "plot_bgcolor": "#E5ECF6",
          "polar": {
           "angularaxis": {
            "gridcolor": "white",
            "linecolor": "white",
            "ticks": ""
           },
           "bgcolor": "#E5ECF6",
           "radialaxis": {
            "gridcolor": "white",
            "linecolor": "white",
            "ticks": ""
           }
          },
          "scene": {
           "xaxis": {
            "backgroundcolor": "#E5ECF6",
            "gridcolor": "white",
            "gridwidth": 2,
            "linecolor": "white",
            "showbackground": true,
            "ticks": "",
            "zerolinecolor": "white"
           },
           "yaxis": {
            "backgroundcolor": "#E5ECF6",
            "gridcolor": "white",
            "gridwidth": 2,
            "linecolor": "white",
            "showbackground": true,
            "ticks": "",
            "zerolinecolor": "white"
           },
           "zaxis": {
            "backgroundcolor": "#E5ECF6",
            "gridcolor": "white",
            "gridwidth": 2,
            "linecolor": "white",
            "showbackground": true,
            "ticks": "",
            "zerolinecolor": "white"
           }
          },
          "shapedefaults": {
           "line": {
            "color": "#2a3f5f"
           }
          },
          "ternary": {
           "aaxis": {
            "gridcolor": "white",
            "linecolor": "white",
            "ticks": ""
           },
           "baxis": {
            "gridcolor": "white",
            "linecolor": "white",
            "ticks": ""
           },
           "bgcolor": "#E5ECF6",
           "caxis": {
            "gridcolor": "white",
            "linecolor": "white",
            "ticks": ""
           }
          },
          "title": {
           "x": 0.05
          },
          "xaxis": {
           "automargin": true,
           "gridcolor": "white",
           "linecolor": "white",
           "ticks": "",
           "title": {
            "standoff": 15
           },
           "zerolinecolor": "white",
           "zerolinewidth": 2
          },
          "yaxis": {
           "automargin": true,
           "gridcolor": "white",
           "linecolor": "white",
           "ticks": "",
           "title": {
            "standoff": 15
           },
           "zerolinecolor": "white",
           "zerolinewidth": 2
          }
         }
        }
       }
      }
     },
     "metadata": {},
     "output_type": "display_data"
    }
   ],
   "source": [
    "fig = px.choropleth(locations=df_imputed_knn['iso3'], color=df_imputed_knn['hdi_rank_2021'], color_continuous_scale=\"ice\")\n",
    "\n",
    "fig = fig.update_traces(\n",
    "    marker_line_color='darkgray', marker_line_width=0.2\n",
    ")\n",
    "\n",
    "fig.update_geos(\n",
    "    showcoastlines=False\n",
    ")\n",
    "\n",
    "fig.show()\n",
    "\n",
    "\n",
    "fig.write_html(\"./html/chart/map_box_hdi.html\")"
   ]
  },
  {
   "cell_type": "code",
   "execution_count": 12,
   "metadata": {},
   "outputs": [
    {
     "data": {
      "text/plain": [
       "{1990,\n",
       " 1991,\n",
       " 1992,\n",
       " 1993,\n",
       " 1994,\n",
       " 1995,\n",
       " 1996,\n",
       " 1997,\n",
       " 1998,\n",
       " 1999,\n",
       " 2000,\n",
       " 2001,\n",
       " 2002,\n",
       " 2003,\n",
       " 2004,\n",
       " 2005,\n",
       " 2006,\n",
       " 2007,\n",
       " 2008,\n",
       " 2009,\n",
       " 2010,\n",
       " 2011,\n",
       " 2012,\n",
       " 2013,\n",
       " 2014,\n",
       " 2015,\n",
       " 2016,\n",
       " 2017,\n",
       " 2018,\n",
       " 2019,\n",
       " 2020,\n",
       " 2021}"
      ]
     },
     "execution_count": 12,
     "metadata": {},
     "output_type": "execute_result"
    }
   ],
   "source": [
    "years = list()\n",
    "for col in df_imputed_knn.columns:\n",
    "    time = col[-4:len(col)]\n",
    "    try:\n",
    "        time = int(time)\n",
    "        if time not in years:\n",
    "            years.append(time)\n",
    "    except:\n",
    "        continue\n",
    "        \n",
    "set(years)"
   ]
  },
  {
   "cell_type": "code",
   "execution_count": 13,
   "metadata": {},
   "outputs": [
    {
     "data": {
      "text/plain": [
       "array(['hdicode', 'hdi_ran', 'hd', 'l', 'ey', 'my', 'gnip', 'gdi_grou',\n",
       "       'gd', 'hdi_', 'le_', 'eys_', 'mys_', 'gni_pc_', 'ihd', 'coef_ine',\n",
       "       'los', 'ineq_l', 'ineq_ed', 'ineq_in', 'gii_ran', 'gi', 'mm', 'ab',\n",
       "       'se_', 'pr_', 'lfpr_', 'rankdiff_hdi_phd', 'phd', 'diff_hdi_phd',\n",
       "       'co2_pro', 'm', 'country', 'iso3', 'longitude', 'latitude'],\n",
       "      dtype=object)"
      ]
     },
     "execution_count": 13,
     "metadata": {},
     "output_type": "execute_result"
    }
   ],
   "source": [
    "feature = list()\n",
    "for col in df_imputed_knn.columns:\n",
    "    time = col[-4:len(col)]\n",
    "\n",
    "    try:\n",
    "        time = int(time)\n",
    "        x = col[0:len(col)-4]\n",
    "        if x[-1] == \"_\":\n",
    "            feature.append(x[0:-2])\n",
    "        else:\n",
    "            feature.append(x)\n",
    "    except:\n",
    "        if col[-1] == \"_\":\n",
    "            feature.append(col[0:-2])\n",
    "        else:\n",
    "            feature.append(col)\n",
    "    \n",
    "\n",
    "features = pd.DataFrame({\"feature\": feature})[\"feature\"].unique()\n",
    "features"
   ]
  },
  {
   "cell_type": "code",
   "execution_count": 14,
   "metadata": {},
   "outputs": [
    {
     "name": "stdout",
     "output_type": "stream",
     "text": [
      "hdicode\n",
      "hdi_rank_2021\n",
      "hdi_1990\n",
      "hdi_1991\n",
      "hdi_1992\n",
      "hdi_1993\n",
      "hdi_1994\n",
      "hdi_1995\n",
      "hdi_1996\n",
      "hdi_1997\n",
      "hdi_1998\n",
      "hdi_1999\n",
      "hdi_2000\n",
      "hdi_2001\n",
      "hdi_2002\n",
      "hdi_2003\n",
      "hdi_2004\n",
      "hdi_2005\n",
      "hdi_2006\n",
      "hdi_2007\n",
      "hdi_2008\n",
      "hdi_2009\n",
      "hdi_2010\n",
      "hdi_2011\n",
      "hdi_2012\n",
      "hdi_2013\n",
      "hdi_2014\n",
      "hdi_2015\n",
      "hdi_2016\n",
      "hdi_2017\n",
      "hdi_2018\n",
      "hdi_2019\n",
      "hdi_2020\n",
      "hdi_2021\n",
      "le_1990\n",
      "le_1991\n",
      "le_1992\n",
      "le_1993\n",
      "le_1994\n",
      "le_1995\n",
      "le_1996\n",
      "le_1997\n",
      "le_1998\n",
      "le_1999\n",
      "le_2000\n",
      "le_2001\n",
      "le_2002\n",
      "le_2003\n",
      "le_2004\n",
      "le_2005\n",
      "le_2006\n",
      "le_2007\n",
      "le_2008\n",
      "le_2009\n",
      "le_2010\n",
      "le_2011\n",
      "le_2012\n",
      "le_2013\n",
      "le_2014\n",
      "le_2015\n",
      "le_2016\n",
      "le_2017\n",
      "le_2018\n",
      "le_2019\n",
      "le_2020\n",
      "le_2021\n",
      "eys_1990\n",
      "eys_1991\n",
      "eys_1992\n",
      "eys_1993\n",
      "eys_1994\n",
      "eys_1995\n",
      "eys_1996\n",
      "eys_1997\n",
      "eys_1998\n",
      "eys_1999\n",
      "eys_2000\n",
      "eys_2001\n",
      "eys_2002\n",
      "eys_2003\n",
      "eys_2004\n",
      "eys_2005\n",
      "eys_2006\n",
      "eys_2007\n",
      "eys_2008\n",
      "eys_2009\n",
      "eys_2010\n",
      "eys_2011\n",
      "eys_2012\n",
      "eys_2013\n",
      "eys_2014\n",
      "eys_2015\n",
      "eys_2016\n",
      "eys_2017\n",
      "eys_2018\n",
      "eys_2019\n",
      "eys_2020\n",
      "eys_2021\n",
      "mys_1990\n",
      "mys_1991\n",
      "mys_1992\n",
      "mys_1993\n",
      "mys_1994\n",
      "mys_1995\n",
      "mys_1996\n",
      "mys_1997\n",
      "mys_1998\n",
      "mys_1999\n",
      "mys_2000\n",
      "mys_2001\n",
      "mys_2002\n",
      "mys_2003\n",
      "mys_2004\n",
      "mys_2005\n",
      "mys_2006\n",
      "mys_2007\n",
      "mys_2008\n",
      "mys_2009\n",
      "mys_2010\n",
      "mys_2011\n",
      "mys_2012\n",
      "mys_2013\n",
      "mys_2014\n",
      "mys_2015\n",
      "mys_2016\n",
      "mys_2017\n",
      "mys_2018\n",
      "mys_2019\n",
      "mys_2020\n",
      "mys_2021\n",
      "gnipc_1990\n",
      "gnipc_1991\n",
      "gnipc_1992\n",
      "gnipc_1993\n",
      "gnipc_1994\n",
      "gnipc_1995\n",
      "gnipc_1996\n",
      "gnipc_1997\n",
      "gnipc_1998\n",
      "gnipc_1999\n",
      "gnipc_2000\n",
      "gnipc_2001\n",
      "gnipc_2002\n",
      "gnipc_2003\n",
      "gnipc_2004\n",
      "gnipc_2005\n",
      "gnipc_2006\n",
      "gnipc_2007\n",
      "gnipc_2008\n",
      "gnipc_2009\n",
      "gnipc_2010\n",
      "gnipc_2011\n",
      "gnipc_2012\n",
      "gnipc_2013\n",
      "gnipc_2014\n",
      "gnipc_2015\n",
      "gnipc_2016\n",
      "gnipc_2017\n",
      "gnipc_2018\n",
      "gnipc_2019\n",
      "gnipc_2020\n",
      "gnipc_2021\n",
      "gdi_group_2021\n",
      "gdi_1990\n",
      "gdi_1991\n",
      "gdi_1992\n",
      "gdi_1993\n",
      "gdi_1994\n",
      "gdi_1995\n",
      "gdi_1996\n",
      "gdi_1997\n",
      "gdi_1998\n",
      "gdi_1999\n",
      "gdi_2000\n",
      "gdi_2001\n",
      "gdi_2002\n",
      "gdi_2003\n",
      "gdi_2004\n",
      "gdi_2005\n",
      "gdi_2006\n",
      "gdi_2007\n",
      "gdi_2008\n",
      "gdi_2009\n",
      "gdi_2010\n",
      "gdi_2011\n",
      "gdi_2012\n",
      "gdi_2013\n",
      "gdi_2014\n",
      "gdi_2015\n",
      "gdi_2016\n",
      "gdi_2017\n",
      "gdi_2018\n",
      "gdi_2019\n",
      "gdi_2020\n",
      "gdi_2021\n",
      "hdi_f_1990\n",
      "hdi_f_1991\n",
      "hdi_f_1992\n",
      "hdi_f_1993\n",
      "hdi_f_1994\n",
      "hdi_f_1995\n",
      "hdi_f_1996\n",
      "hdi_f_1997\n",
      "hdi_f_1998\n",
      "hdi_f_1999\n",
      "hdi_f_2000\n",
      "hdi_f_2001\n",
      "hdi_f_2002\n",
      "hdi_f_2003\n",
      "hdi_f_2004\n",
      "hdi_f_2005\n",
      "hdi_f_2006\n",
      "hdi_f_2007\n",
      "hdi_f_2008\n",
      "hdi_f_2009\n",
      "hdi_f_2010\n",
      "hdi_f_2011\n",
      "hdi_f_2012\n",
      "hdi_f_2013\n",
      "hdi_f_2014\n",
      "hdi_f_2015\n",
      "hdi_f_2016\n",
      "hdi_f_2017\n",
      "hdi_f_2018\n",
      "hdi_f_2019\n",
      "hdi_f_2020\n",
      "hdi_f_2021\n",
      "le_f_1990\n",
      "le_f_1991\n",
      "le_f_1992\n",
      "le_f_1993\n",
      "le_f_1994\n",
      "le_f_1995\n",
      "le_f_1996\n",
      "le_f_1997\n",
      "le_f_1998\n",
      "le_f_1999\n",
      "le_f_2000\n",
      "le_f_2001\n",
      "le_f_2002\n",
      "le_f_2003\n",
      "le_f_2004\n",
      "le_f_2005\n",
      "le_f_2006\n",
      "le_f_2007\n",
      "le_f_2008\n",
      "le_f_2009\n",
      "le_f_2010\n",
      "le_f_2011\n",
      "le_f_2012\n",
      "le_f_2013\n",
      "le_f_2014\n",
      "le_f_2015\n",
      "le_f_2016\n",
      "le_f_2017\n",
      "le_f_2018\n",
      "le_f_2019\n",
      "le_f_2020\n",
      "le_f_2021\n",
      "eys_f_1990\n",
      "eys_f_1991\n",
      "eys_f_1992\n",
      "eys_f_1993\n",
      "eys_f_1994\n",
      "eys_f_1995\n",
      "eys_f_1996\n",
      "eys_f_1997\n",
      "eys_f_1998\n",
      "eys_f_1999\n",
      "eys_f_2000\n",
      "eys_f_2001\n",
      "eys_f_2002\n",
      "eys_f_2003\n",
      "eys_f_2004\n",
      "eys_f_2005\n",
      "eys_f_2006\n",
      "eys_f_2007\n",
      "eys_f_2008\n",
      "eys_f_2009\n",
      "eys_f_2010\n",
      "eys_f_2011\n",
      "eys_f_2012\n",
      "eys_f_2013\n",
      "eys_f_2014\n",
      "eys_f_2015\n",
      "eys_f_2016\n",
      "eys_f_2017\n",
      "eys_f_2018\n",
      "eys_f_2019\n",
      "eys_f_2020\n",
      "eys_f_2021\n",
      "mys_f_1990\n",
      "mys_f_1991\n",
      "mys_f_1992\n",
      "mys_f_1993\n",
      "mys_f_1994\n",
      "mys_f_1995\n",
      "mys_f_1996\n",
      "mys_f_1997\n",
      "mys_f_1998\n",
      "mys_f_1999\n",
      "mys_f_2000\n",
      "mys_f_2001\n",
      "mys_f_2002\n",
      "mys_f_2003\n",
      "mys_f_2004\n",
      "mys_f_2005\n",
      "mys_f_2006\n",
      "mys_f_2007\n",
      "mys_f_2008\n",
      "mys_f_2009\n",
      "mys_f_2010\n",
      "mys_f_2011\n",
      "mys_f_2012\n",
      "mys_f_2013\n",
      "mys_f_2014\n",
      "mys_f_2015\n",
      "mys_f_2016\n",
      "mys_f_2017\n",
      "mys_f_2018\n",
      "mys_f_2019\n",
      "mys_f_2020\n",
      "mys_f_2021\n",
      "gni_pc_f_1990\n",
      "gni_pc_f_1991\n",
      "gni_pc_f_1992\n",
      "gni_pc_f_1993\n",
      "gni_pc_f_1994\n",
      "gni_pc_f_1995\n",
      "gni_pc_f_1996\n",
      "gni_pc_f_1997\n",
      "gni_pc_f_1998\n",
      "gni_pc_f_1999\n",
      "gni_pc_f_2000\n",
      "gni_pc_f_2001\n",
      "gni_pc_f_2002\n",
      "gni_pc_f_2003\n",
      "gni_pc_f_2004\n",
      "gni_pc_f_2005\n",
      "gni_pc_f_2006\n",
      "gni_pc_f_2007\n",
      "gni_pc_f_2008\n",
      "gni_pc_f_2009\n",
      "gni_pc_f_2010\n",
      "gni_pc_f_2011\n",
      "gni_pc_f_2012\n",
      "gni_pc_f_2013\n",
      "gni_pc_f_2014\n",
      "gni_pc_f_2015\n",
      "gni_pc_f_2016\n",
      "gni_pc_f_2017\n",
      "gni_pc_f_2018\n",
      "gni_pc_f_2019\n",
      "gni_pc_f_2020\n",
      "gni_pc_f_2021\n",
      "hdi_m_1990\n",
      "hdi_m_1991\n",
      "hdi_m_1992\n",
      "hdi_m_1993\n",
      "hdi_m_1994\n",
      "hdi_m_1995\n",
      "hdi_m_1996\n",
      "hdi_m_1997\n",
      "hdi_m_1998\n",
      "hdi_m_1999\n",
      "hdi_m_2000\n",
      "hdi_m_2001\n",
      "hdi_m_2002\n",
      "hdi_m_2003\n",
      "hdi_m_2004\n",
      "hdi_m_2005\n",
      "hdi_m_2006\n",
      "hdi_m_2007\n",
      "hdi_m_2008\n",
      "hdi_m_2009\n",
      "hdi_m_2010\n",
      "hdi_m_2011\n",
      "hdi_m_2012\n",
      "hdi_m_2013\n",
      "hdi_m_2014\n",
      "hdi_m_2015\n",
      "hdi_m_2016\n",
      "hdi_m_2017\n",
      "hdi_m_2018\n",
      "hdi_m_2019\n",
      "hdi_m_2020\n",
      "hdi_m_2021\n",
      "le_m_1990\n",
      "le_m_1991\n",
      "le_m_1992\n",
      "le_m_1993\n",
      "le_m_1994\n",
      "le_m_1995\n",
      "le_m_1996\n",
      "le_m_1997\n",
      "le_m_1998\n",
      "le_m_1999\n",
      "le_m_2000\n",
      "le_m_2001\n",
      "le_m_2002\n",
      "le_m_2003\n",
      "le_m_2004\n",
      "le_m_2005\n",
      "le_m_2006\n",
      "le_m_2007\n",
      "le_m_2008\n",
      "le_m_2009\n",
      "le_m_2010\n",
      "le_m_2011\n",
      "le_m_2012\n",
      "le_m_2013\n",
      "le_m_2014\n",
      "le_m_2015\n",
      "le_m_2016\n",
      "le_m_2017\n",
      "le_m_2018\n",
      "le_m_2019\n",
      "le_m_2020\n",
      "le_m_2021\n",
      "eys_m_1990\n",
      "eys_m_1991\n",
      "eys_m_1992\n",
      "eys_m_1993\n",
      "eys_m_1994\n",
      "eys_m_1995\n",
      "eys_m_1996\n",
      "eys_m_1997\n",
      "eys_m_1998\n",
      "eys_m_1999\n",
      "eys_m_2000\n",
      "eys_m_2001\n",
      "eys_m_2002\n",
      "eys_m_2003\n",
      "eys_m_2004\n",
      "eys_m_2005\n",
      "eys_m_2006\n",
      "eys_m_2007\n",
      "eys_m_2008\n",
      "eys_m_2009\n",
      "eys_m_2010\n",
      "eys_m_2011\n",
      "eys_m_2012\n",
      "eys_m_2013\n",
      "eys_m_2014\n",
      "eys_m_2015\n",
      "eys_m_2016\n",
      "eys_m_2017\n",
      "eys_m_2018\n",
      "eys_m_2019\n",
      "eys_m_2020\n",
      "eys_m_2021\n",
      "mys_m_1990\n",
      "mys_m_1991\n",
      "mys_m_1992\n",
      "mys_m_1993\n",
      "mys_m_1994\n",
      "mys_m_1995\n",
      "mys_m_1996\n",
      "mys_m_1997\n",
      "mys_m_1998\n",
      "mys_m_1999\n",
      "mys_m_2000\n",
      "mys_m_2001\n",
      "mys_m_2002\n",
      "mys_m_2003\n",
      "mys_m_2004\n",
      "mys_m_2005\n",
      "mys_m_2006\n",
      "mys_m_2007\n",
      "mys_m_2008\n",
      "mys_m_2009\n",
      "mys_m_2010\n",
      "mys_m_2011\n",
      "mys_m_2012\n",
      "mys_m_2013\n",
      "mys_m_2014\n",
      "mys_m_2015\n",
      "mys_m_2016\n",
      "mys_m_2017\n",
      "mys_m_2018\n",
      "mys_m_2019\n",
      "mys_m_2020\n",
      "mys_m_2021\n",
      "gni_pc_m_1990\n",
      "gni_pc_m_1991\n",
      "gni_pc_m_1992\n",
      "gni_pc_m_1993\n",
      "gni_pc_m_1994\n",
      "gni_pc_m_1995\n",
      "gni_pc_m_1996\n",
      "gni_pc_m_1997\n",
      "gni_pc_m_1998\n",
      "gni_pc_m_1999\n",
      "gni_pc_m_2000\n",
      "gni_pc_m_2001\n",
      "gni_pc_m_2002\n",
      "gni_pc_m_2003\n",
      "gni_pc_m_2004\n",
      "gni_pc_m_2005\n",
      "gni_pc_m_2006\n",
      "gni_pc_m_2007\n",
      "gni_pc_m_2008\n",
      "gni_pc_m_2009\n",
      "gni_pc_m_2010\n",
      "gni_pc_m_2011\n",
      "gni_pc_m_2012\n",
      "gni_pc_m_2013\n",
      "gni_pc_m_2014\n",
      "gni_pc_m_2015\n",
      "gni_pc_m_2016\n",
      "gni_pc_m_2017\n",
      "gni_pc_m_2018\n",
      "gni_pc_m_2019\n",
      "gni_pc_m_2020\n",
      "gni_pc_m_2021\n",
      "ihdi_2010\n",
      "ihdi_2011\n",
      "ihdi_2012\n",
      "ihdi_2013\n",
      "ihdi_2014\n",
      "ihdi_2015\n",
      "ihdi_2016\n",
      "ihdi_2017\n",
      "ihdi_2018\n",
      "ihdi_2019\n",
      "ihdi_2020\n",
      "ihdi_2021\n",
      "coef_ineq_2010\n",
      "coef_ineq_2011\n",
      "coef_ineq_2012\n",
      "coef_ineq_2013\n",
      "coef_ineq_2014\n",
      "coef_ineq_2015\n",
      "coef_ineq_2016\n",
      "coef_ineq_2017\n",
      "coef_ineq_2018\n",
      "coef_ineq_2019\n",
      "coef_ineq_2020\n",
      "coef_ineq_2021\n",
      "loss_2010\n",
      "loss_2011\n",
      "loss_2012\n",
      "loss_2013\n",
      "loss_2014\n",
      "loss_2015\n",
      "loss_2016\n",
      "loss_2017\n",
      "loss_2018\n",
      "loss_2019\n",
      "loss_2020\n",
      "loss_2021\n",
      "ineq_le_2010\n",
      "ineq_le_2011\n",
      "ineq_le_2012\n",
      "ineq_le_2013\n",
      "ineq_le_2014\n",
      "ineq_le_2015\n",
      "ineq_le_2016\n",
      "ineq_le_2017\n",
      "ineq_le_2018\n",
      "ineq_le_2019\n",
      "ineq_le_2020\n",
      "ineq_le_2021\n",
      "ineq_edu_2010\n",
      "ineq_edu_2011\n",
      "ineq_edu_2012\n",
      "ineq_edu_2013\n",
      "ineq_edu_2014\n",
      "ineq_edu_2015\n",
      "ineq_edu_2016\n",
      "ineq_edu_2017\n",
      "ineq_edu_2018\n",
      "ineq_edu_2019\n",
      "ineq_edu_2020\n",
      "ineq_edu_2021\n",
      "ineq_inc_2010\n",
      "ineq_inc_2011\n",
      "ineq_inc_2012\n",
      "ineq_inc_2013\n",
      "ineq_inc_2014\n",
      "ineq_inc_2015\n",
      "ineq_inc_2016\n",
      "ineq_inc_2017\n",
      "ineq_inc_2018\n",
      "ineq_inc_2019\n",
      "ineq_inc_2020\n",
      "ineq_inc_2021\n",
      "gii_rank_2021\n",
      "gii_1990\n",
      "gii_1991\n",
      "gii_1992\n",
      "gii_1993\n",
      "gii_1994\n",
      "gii_1995\n",
      "gii_1996\n",
      "gii_1997\n",
      "gii_1998\n",
      "gii_1999\n",
      "gii_2000\n",
      "gii_2001\n",
      "gii_2002\n",
      "gii_2003\n",
      "gii_2004\n",
      "gii_2005\n",
      "gii_2006\n",
      "gii_2007\n",
      "gii_2008\n",
      "gii_2009\n",
      "gii_2010\n",
      "gii_2011\n",
      "gii_2012\n",
      "gii_2013\n",
      "gii_2014\n",
      "gii_2015\n",
      "gii_2016\n",
      "gii_2017\n",
      "gii_2018\n",
      "gii_2019\n",
      "gii_2020\n",
      "gii_2021\n",
      "mmr_1990\n",
      "mmr_1991\n",
      "mmr_1992\n",
      "mmr_1993\n",
      "mmr_1994\n",
      "mmr_1995\n",
      "mmr_1996\n",
      "mmr_1997\n",
      "mmr_1998\n",
      "mmr_1999\n",
      "mmr_2000\n",
      "mmr_2001\n",
      "mmr_2002\n",
      "mmr_2003\n",
      "mmr_2004\n",
      "mmr_2005\n",
      "mmr_2006\n",
      "mmr_2007\n",
      "mmr_2008\n",
      "mmr_2009\n",
      "mmr_2010\n",
      "mmr_2011\n",
      "mmr_2012\n",
      "mmr_2013\n",
      "mmr_2014\n",
      "mmr_2015\n",
      "mmr_2016\n",
      "mmr_2017\n",
      "mmr_2018\n",
      "mmr_2019\n",
      "mmr_2020\n",
      "mmr_2021\n",
      "abr_1990\n",
      "abr_1991\n",
      "abr_1992\n",
      "abr_1993\n",
      "abr_1994\n",
      "abr_1995\n",
      "abr_1996\n",
      "abr_1997\n",
      "abr_1998\n",
      "abr_1999\n",
      "abr_2000\n",
      "abr_2001\n",
      "abr_2002\n",
      "abr_2003\n",
      "abr_2004\n",
      "abr_2005\n",
      "abr_2006\n",
      "abr_2007\n",
      "abr_2008\n",
      "abr_2009\n",
      "abr_2010\n",
      "abr_2011\n",
      "abr_2012\n",
      "abr_2013\n",
      "abr_2014\n",
      "abr_2015\n",
      "abr_2016\n",
      "abr_2017\n",
      "abr_2018\n",
      "abr_2019\n",
      "abr_2020\n",
      "abr_2021\n",
      "se_f_1990\n",
      "se_f_1991\n",
      "se_f_1992\n",
      "se_f_1993\n",
      "se_f_1994\n",
      "se_f_1995\n",
      "se_f_1996\n",
      "se_f_1997\n",
      "se_f_1998\n",
      "se_f_1999\n",
      "se_f_2000\n",
      "se_f_2001\n",
      "se_f_2002\n",
      "se_f_2003\n",
      "se_f_2004\n",
      "se_f_2005\n",
      "se_f_2006\n",
      "se_f_2007\n",
      "se_f_2008\n",
      "se_f_2009\n",
      "se_f_2010\n",
      "se_f_2011\n",
      "se_f_2012\n",
      "se_f_2013\n",
      "se_f_2014\n",
      "se_f_2015\n",
      "se_f_2016\n",
      "se_f_2017\n",
      "se_f_2018\n",
      "se_f_2019\n",
      "se_f_2020\n",
      "se_f_2021\n",
      "se_m_1990\n",
      "se_m_1991\n",
      "se_m_1992\n",
      "se_m_1993\n",
      "se_m_1994\n",
      "se_m_1995\n",
      "se_m_1996\n",
      "se_m_1997\n",
      "se_m_1998\n",
      "se_m_1999\n",
      "se_m_2000\n",
      "se_m_2001\n",
      "se_m_2002\n",
      "se_m_2003\n",
      "se_m_2004\n",
      "se_m_2005\n",
      "se_m_2006\n",
      "se_m_2007\n",
      "se_m_2008\n",
      "se_m_2009\n",
      "se_m_2010\n",
      "se_m_2011\n",
      "se_m_2012\n",
      "se_m_2013\n",
      "se_m_2014\n",
      "se_m_2015\n",
      "se_m_2016\n",
      "se_m_2017\n",
      "se_m_2018\n",
      "se_m_2019\n",
      "se_m_2020\n",
      "se_m_2021\n",
      "pr_f_1990\n",
      "pr_f_1991\n",
      "pr_f_1992\n",
      "pr_f_1993\n",
      "pr_f_1994\n",
      "pr_f_1995\n",
      "pr_f_1996\n",
      "pr_f_1997\n",
      "pr_f_1998\n",
      "pr_f_1999\n",
      "pr_f_2000\n",
      "pr_f_2001\n",
      "pr_f_2002\n",
      "pr_f_2003\n",
      "pr_f_2004\n",
      "pr_f_2005\n",
      "pr_f_2006\n",
      "pr_f_2007\n",
      "pr_f_2008\n",
      "pr_f_2009\n",
      "pr_f_2010\n",
      "pr_f_2011\n",
      "pr_f_2012\n",
      "pr_f_2013\n",
      "pr_f_2014\n",
      "pr_f_2015\n",
      "pr_f_2016\n",
      "pr_f_2017\n",
      "pr_f_2018\n",
      "pr_f_2019\n",
      "pr_f_2020\n",
      "pr_f_2021\n",
      "pr_m_1990\n",
      "pr_m_1991\n",
      "pr_m_1992\n",
      "pr_m_1993\n",
      "pr_m_1994\n",
      "pr_m_1995\n",
      "pr_m_1996\n",
      "pr_m_1997\n",
      "pr_m_1998\n",
      "pr_m_1999\n",
      "pr_m_2000\n",
      "pr_m_2001\n",
      "pr_m_2002\n",
      "pr_m_2003\n",
      "pr_m_2004\n",
      "pr_m_2005\n",
      "pr_m_2006\n",
      "pr_m_2007\n",
      "pr_m_2008\n",
      "pr_m_2009\n",
      "pr_m_2010\n",
      "pr_m_2011\n",
      "pr_m_2012\n",
      "pr_m_2013\n",
      "pr_m_2014\n",
      "pr_m_2015\n",
      "pr_m_2016\n",
      "pr_m_2017\n",
      "pr_m_2018\n",
      "pr_m_2019\n",
      "pr_m_2020\n",
      "pr_m_2021\n",
      "lfpr_f_1990\n",
      "lfpr_f_1991\n",
      "lfpr_f_1992\n",
      "lfpr_f_1993\n",
      "lfpr_f_1994\n",
      "lfpr_f_1995\n",
      "lfpr_f_1996\n",
      "lfpr_f_1997\n",
      "lfpr_f_1998\n",
      "lfpr_f_1999\n",
      "lfpr_f_2000\n",
      "lfpr_f_2001\n",
      "lfpr_f_2002\n",
      "lfpr_f_2003\n",
      "lfpr_f_2004\n",
      "lfpr_f_2005\n",
      "lfpr_f_2006\n",
      "lfpr_f_2007\n",
      "lfpr_f_2008\n",
      "lfpr_f_2009\n",
      "lfpr_f_2010\n",
      "lfpr_f_2011\n",
      "lfpr_f_2012\n",
      "lfpr_f_2013\n",
      "lfpr_f_2014\n",
      "lfpr_f_2015\n",
      "lfpr_f_2016\n",
      "lfpr_f_2017\n",
      "lfpr_f_2018\n",
      "lfpr_f_2019\n",
      "lfpr_f_2020\n",
      "lfpr_f_2021\n",
      "lfpr_m_1990\n",
      "lfpr_m_1991\n",
      "lfpr_m_1992\n",
      "lfpr_m_1993\n",
      "lfpr_m_1994\n",
      "lfpr_m_1995\n",
      "lfpr_m_1996\n",
      "lfpr_m_1997\n",
      "lfpr_m_1998\n",
      "lfpr_m_1999\n",
      "lfpr_m_2000\n",
      "lfpr_m_2001\n",
      "lfpr_m_2002\n",
      "lfpr_m_2003\n",
      "lfpr_m_2004\n",
      "lfpr_m_2005\n",
      "lfpr_m_2006\n",
      "lfpr_m_2007\n",
      "lfpr_m_2008\n",
      "lfpr_m_2009\n",
      "lfpr_m_2010\n",
      "lfpr_m_2011\n",
      "lfpr_m_2012\n",
      "lfpr_m_2013\n",
      "lfpr_m_2014\n",
      "lfpr_m_2015\n",
      "lfpr_m_2016\n",
      "lfpr_m_2017\n",
      "lfpr_m_2018\n",
      "lfpr_m_2019\n",
      "lfpr_m_2020\n",
      "lfpr_m_2021\n",
      "rankdiff_hdi_phdi_2021\n",
      "phdi_1990\n",
      "phdi_1991\n",
      "phdi_1992\n",
      "phdi_1993\n",
      "phdi_1994\n",
      "phdi_1995\n",
      "phdi_1996\n",
      "phdi_1997\n",
      "phdi_1998\n",
      "phdi_1999\n",
      "phdi_2000\n",
      "phdi_2001\n",
      "phdi_2002\n",
      "phdi_2003\n",
      "phdi_2004\n",
      "phdi_2005\n",
      "phdi_2006\n",
      "phdi_2007\n",
      "phdi_2008\n",
      "phdi_2009\n",
      "phdi_2010\n",
      "phdi_2011\n",
      "phdi_2012\n",
      "phdi_2013\n",
      "phdi_2014\n",
      "phdi_2015\n",
      "phdi_2016\n",
      "phdi_2017\n",
      "phdi_2018\n",
      "phdi_2019\n",
      "phdi_2020\n",
      "phdi_2021\n",
      "diff_hdi_phdi_1990\n",
      "diff_hdi_phdi_1991\n",
      "diff_hdi_phdi_1992\n",
      "diff_hdi_phdi_1993\n",
      "diff_hdi_phdi_1994\n",
      "diff_hdi_phdi_1995\n",
      "diff_hdi_phdi_1996\n",
      "diff_hdi_phdi_1997\n",
      "diff_hdi_phdi_1998\n",
      "diff_hdi_phdi_1999\n",
      "diff_hdi_phdi_2000\n",
      "diff_hdi_phdi_2001\n",
      "diff_hdi_phdi_2002\n",
      "diff_hdi_phdi_2003\n",
      "diff_hdi_phdi_2004\n",
      "diff_hdi_phdi_2005\n",
      "diff_hdi_phdi_2006\n",
      "diff_hdi_phdi_2007\n",
      "diff_hdi_phdi_2008\n",
      "diff_hdi_phdi_2009\n",
      "diff_hdi_phdi_2010\n",
      "diff_hdi_phdi_2011\n",
      "diff_hdi_phdi_2012\n",
      "diff_hdi_phdi_2013\n",
      "diff_hdi_phdi_2014\n",
      "diff_hdi_phdi_2015\n",
      "diff_hdi_phdi_2016\n",
      "diff_hdi_phdi_2017\n",
      "diff_hdi_phdi_2018\n",
      "diff_hdi_phdi_2019\n",
      "diff_hdi_phdi_2020\n",
      "diff_hdi_phdi_2021\n",
      "co2_prod_1990\n",
      "co2_prod_1991\n",
      "co2_prod_1992\n",
      "co2_prod_1993\n",
      "co2_prod_1994\n",
      "co2_prod_1995\n",
      "co2_prod_1996\n",
      "co2_prod_1997\n",
      "co2_prod_1998\n",
      "co2_prod_1999\n",
      "co2_prod_2000\n",
      "co2_prod_2001\n",
      "co2_prod_2002\n",
      "co2_prod_2003\n",
      "co2_prod_2004\n",
      "co2_prod_2005\n",
      "co2_prod_2006\n",
      "co2_prod_2007\n",
      "co2_prod_2008\n",
      "co2_prod_2009\n",
      "co2_prod_2010\n",
      "co2_prod_2011\n",
      "co2_prod_2012\n",
      "co2_prod_2013\n",
      "co2_prod_2014\n",
      "co2_prod_2015\n",
      "co2_prod_2016\n",
      "co2_prod_2017\n",
      "co2_prod_2018\n",
      "co2_prod_2019\n",
      "co2_prod_2020\n",
      "co2_prod_2021\n",
      "mf_1990\n",
      "mf_1991\n",
      "mf_1992\n",
      "mf_1993\n",
      "mf_1994\n",
      "mf_1995\n",
      "mf_1996\n",
      "mf_1997\n",
      "mf_1998\n",
      "mf_1999\n",
      "mf_2000\n",
      "mf_2001\n",
      "mf_2002\n",
      "mf_2003\n",
      "mf_2004\n",
      "mf_2005\n",
      "mf_2006\n",
      "mf_2007\n",
      "mf_2008\n",
      "mf_2009\n",
      "mf_2010\n",
      "mf_2011\n",
      "mf_2012\n",
      "mf_2013\n",
      "mf_2014\n",
      "mf_2015\n",
      "mf_2016\n",
      "mf_2017\n",
      "mf_2018\n",
      "mf_2019\n",
      "mf_2020\n",
      "mf_2021\n",
      "country\n",
      "iso3\n",
      "longitude\n",
      "latitude\n"
     ]
    }
   ],
   "source": [
    "for c in df_imputed_knn.columns:\n",
    "    print(c)"
   ]
  },
  {
   "cell_type": "code",
   "execution_count": 44,
   "metadata": {},
   "outputs": [
    {
     "data": {
      "application/vnd.plotly.v1+json": {
       "config": {
        "plotlyServerURL": "https://plot.ly"
       },
       "data": [
        {
         "colorscale": [
          [
           0,
           "rgb(3, 5, 18)"
          ],
          [
           0.09090909090909091,
           "rgb(25, 25, 51)"
          ],
          [
           0.18181818181818182,
           "rgb(44, 42, 87)"
          ],
          [
           0.2727272727272727,
           "rgb(58, 60, 125)"
          ],
          [
           0.36363636363636365,
           "rgb(62, 83, 160)"
          ],
          [
           0.45454545454545453,
           "rgb(62, 109, 178)"
          ],
          [
           0.5454545454545454,
           "rgb(72, 134, 187)"
          ],
          [
           0.6363636363636364,
           "rgb(89, 159, 196)"
          ],
          [
           0.7272727272727273,
           "rgb(114, 184, 205)"
          ],
          [
           0.8181818181818182,
           "rgb(149, 207, 216)"
          ],
          [
           0.9090909090909091,
           "rgb(192, 229, 232)"
          ],
          [
           1,
           "rgb(234, 252, 253)"
          ]
         ],
         "locations": [
          "AFG",
          "AGO",
          "ALB",
          "AND",
          "ARE",
          "ARG",
          "ARM",
          "ATG",
          "AUS",
          "AUT",
          "AZE",
          "BDI",
          "BEL",
          "BEN",
          "BFA",
          "BGD",
          "BGR",
          "BHR",
          "BHS",
          "BIH",
          "BLR",
          "BLZ",
          "BOL",
          "BRA",
          "BRB",
          "BRN",
          "BTN",
          "BWA",
          "CAF",
          "CAN",
          "CHE",
          "CHL",
          "CHN",
          "CIV",
          "CMR",
          "COD",
          "COG",
          "COL",
          "COM",
          "CPV",
          "CRI",
          "CUB",
          "CYP",
          "CZE",
          "DEU",
          "DJI",
          "DMA",
          "DNK",
          "DOM",
          "DZA",
          "ECU",
          "EGY",
          "ERI",
          "ESP",
          "EST",
          "ETH",
          "FIN",
          "FJI",
          "FRA",
          "FSM",
          "GAB",
          "GBR",
          "GEO",
          "GHA",
          "GIN",
          "GMB",
          "GNB",
          "GNQ",
          "GRC",
          "GRD",
          "GTM",
          "GUY",
          "HKG",
          "HND",
          "HRV",
          "HTI",
          "HUN",
          "IDN",
          "IND",
          "IRL",
          "IRN",
          "IRQ",
          "ISL",
          "ISR",
          "ITA",
          "JAM",
          "JOR",
          "JPN",
          "KAZ",
          "KEN",
          "KGZ",
          "KHM",
          "KIR",
          "KNA",
          "KOR",
          "KWT",
          "LAO",
          "LBN",
          "LBR",
          "LBY",
          "LCA",
          "LIE",
          "LKA",
          "LSO",
          "LTU",
          "LUX",
          "LVA",
          "MAR",
          "MCO",
          "MDA",
          "MDG",
          "MDV",
          "MEX",
          "MHL",
          "MKD",
          "MLI",
          "MLT",
          "MMR",
          "MNE",
          "MNG",
          "MOZ",
          "MRT",
          "MUS",
          "MWI",
          "MYS",
          "NAM",
          "NER",
          "NGA",
          "NIC",
          "NLD",
          "NOR",
          "NPL",
          "NRU",
          "NZL",
          "OMN",
          "PAK",
          "PAN",
          "PER",
          "PHL",
          "PLW",
          "PNG",
          "POL",
          "PRK",
          "PRT",
          "PRY",
          "PSE",
          "QAT",
          "ROU",
          "RUS",
          "RWA",
          "SAU",
          "SDN",
          "SEN",
          "SGP",
          "SLB",
          "SLE",
          "SLV",
          "SMR",
          "SOM",
          "SRB",
          "SSD",
          "STP",
          "SUR",
          "SVK",
          "SVN",
          "SWE",
          "SWZ",
          "SYC",
          "SYR",
          "TCD",
          "TGO",
          "THA",
          "TJK",
          "TKM",
          "TLS",
          "TON",
          "TTO",
          "TUN",
          "TUR",
          "TUV",
          "TZA",
          "UGA",
          "UKR",
          "URY",
          "USA",
          "UZB",
          "VCT",
          "VEN",
          "VNM",
          "VUT",
          "WSM",
          "YEM",
          "ZAF",
          "ZMB",
          "ZWE",
          "ZZA.VHHD",
          "ZZB.HHD",
          "ZZC.MHD",
          "ZZD.LHD",
          "ZZE.AS",
          "ZZF.EAP",
          "ZZG.ECA",
          "ZZH.LAC",
          "ZZI.SA",
          "ZZJ.SSA",
          "ZZK.WORLD"
         ],
         "marker": {
          "line": {
           "color": "darkgray",
           "width": 0.2
          }
         },
         "type": "choropleth",
         "z": [
          180,
          148,
          67,
          40,
          26,
          47,
          85,
          71,
          5,
          25,
          91,
          187,
          13,
          166,
          184,
          129,
          68,
          35,
          55,
          74,
          60,
          123,
          118,
          87,
          70,
          51,
          127,
          117,
          188,
          15,
          1,
          42,
          79,
          159,
          151,
          179,
          153,
          88,
          156,
          128,
          58,
          83,
          29,
          32,
          9,
          171,
          102,
          6,
          80,
          91,
          95,
          97,
          176,
          27,
          31,
          175,
          11,
          99,
          28,
          134,
          112,
          18,
          63,
          133,
          182,
          174,
          177,
          145,
          33,
          68,
          135,
          108,
          4,
          137,
          40,
          163,
          46,
          114,
          132,
          8,
          76,
          121,
          3,
          22,
          30,
          110,
          102,
          19,
          56,
          152,
          118,
          146,
          136,
          75,
          19,
          50,
          140,
          112,
          178,
          104,
          106,
          16,
          73,
          168,
          35,
          17,
          39,
          123,
          21.45,
          80,
          173,
          90,
          86,
          131,
          78,
          186,
          23,
          149,
          49,
          96,
          185,
          158,
          63,
          169,
          62,
          139,
          189,
          163,
          126,
          10,
          2,
          143,
          91.1,
          13,
          54,
          161,
          61,
          84,
          116,
          80,
          156,
          34,
          79.2,
          38,
          105,
          106,
          42,
          53,
          52,
          165,
          35,
          172,
          170,
          12,
          155,
          181,
          125,
          44,
          179.15,
          63,
          191,
          138,
          99,
          45,
          23,
          7,
          144,
          72,
          150,
          190,
          162,
          66,
          122,
          91,
          140,
          91,
          57,
          97,
          48,
          130,
          160,
          166,
          77,
          58,
          21,
          101,
          89,
          120,
          115,
          140,
          111,
          183,
          109,
          154,
          146,
          22.5,
          90.55,
          139.2,
          159,
          88.25,
          98.35,
          80.95,
          84.9,
          135.75,
          149.95,
          82.15
         ]
        }
       ],
       "layout": {
        "geo": {
         "countrycolor": "rgb(204, 204, 204)",
         "landcolor": "rgb(243, 243, 243)",
         "projection": {
          "type": "orthographic"
         },
         "showcountries": true,
         "showland": true
        },
        "legend": {
         "orientation": "h",
         "x": 1,
         "xanchor": "left",
         "y": 1.02,
         "yanchor": "bottom"
        },
        "margin": {
         "b": 0,
         "l": 0,
         "r": 0,
         "t": 0
        },
        "sliders": [
         {
          "active": 0,
          "currentvalue": {
           "prefix": "Longitude: "
          },
          "pad": {
           "t": 0
          },
          "steps": [
           {
            "args": [
             "geo.projection.rotation.lon",
             -180
            ],
            "label": "-180",
            "method": "relayout"
           },
           {
            "args": [
             "geo.projection.rotation.lon",
             -178
            ],
            "label": "-178",
            "method": "relayout"
           },
           {
            "args": [
             "geo.projection.rotation.lon",
             -176
            ],
            "label": "-176",
            "method": "relayout"
           },
           {
            "args": [
             "geo.projection.rotation.lon",
             -174
            ],
            "label": "-174",
            "method": "relayout"
           },
           {
            "args": [
             "geo.projection.rotation.lon",
             -172
            ],
            "label": "-172",
            "method": "relayout"
           },
           {
            "args": [
             "geo.projection.rotation.lon",
             -170
            ],
            "label": "-170",
            "method": "relayout"
           },
           {
            "args": [
             "geo.projection.rotation.lon",
             -168
            ],
            "label": "-168",
            "method": "relayout"
           },
           {
            "args": [
             "geo.projection.rotation.lon",
             -166
            ],
            "label": "-166",
            "method": "relayout"
           },
           {
            "args": [
             "geo.projection.rotation.lon",
             -164
            ],
            "label": "-164",
            "method": "relayout"
           },
           {
            "args": [
             "geo.projection.rotation.lon",
             -162
            ],
            "label": "-162",
            "method": "relayout"
           },
           {
            "args": [
             "geo.projection.rotation.lon",
             -160
            ],
            "label": "-160",
            "method": "relayout"
           },
           {
            "args": [
             "geo.projection.rotation.lon",
             -158
            ],
            "label": "-158",
            "method": "relayout"
           },
           {
            "args": [
             "geo.projection.rotation.lon",
             -156
            ],
            "label": "-156",
            "method": "relayout"
           },
           {
            "args": [
             "geo.projection.rotation.lon",
             -154
            ],
            "label": "-154",
            "method": "relayout"
           },
           {
            "args": [
             "geo.projection.rotation.lon",
             -152
            ],
            "label": "-152",
            "method": "relayout"
           },
           {
            "args": [
             "geo.projection.rotation.lon",
             -150
            ],
            "label": "-150",
            "method": "relayout"
           },
           {
            "args": [
             "geo.projection.rotation.lon",
             -148
            ],
            "label": "-148",
            "method": "relayout"
           },
           {
            "args": [
             "geo.projection.rotation.lon",
             -146
            ],
            "label": "-146",
            "method": "relayout"
           },
           {
            "args": [
             "geo.projection.rotation.lon",
             -144
            ],
            "label": "-144",
            "method": "relayout"
           },
           {
            "args": [
             "geo.projection.rotation.lon",
             -142
            ],
            "label": "-142",
            "method": "relayout"
           },
           {
            "args": [
             "geo.projection.rotation.lon",
             -140
            ],
            "label": "-140",
            "method": "relayout"
           },
           {
            "args": [
             "geo.projection.rotation.lon",
             -138
            ],
            "label": "-138",
            "method": "relayout"
           },
           {
            "args": [
             "geo.projection.rotation.lon",
             -136
            ],
            "label": "-136",
            "method": "relayout"
           },
           {
            "args": [
             "geo.projection.rotation.lon",
             -134
            ],
            "label": "-134",
            "method": "relayout"
           },
           {
            "args": [
             "geo.projection.rotation.lon",
             -132
            ],
            "label": "-132",
            "method": "relayout"
           },
           {
            "args": [
             "geo.projection.rotation.lon",
             -130
            ],
            "label": "-130",
            "method": "relayout"
           },
           {
            "args": [
             "geo.projection.rotation.lon",
             -128
            ],
            "label": "-128",
            "method": "relayout"
           },
           {
            "args": [
             "geo.projection.rotation.lon",
             -126
            ],
            "label": "-126",
            "method": "relayout"
           },
           {
            "args": [
             "geo.projection.rotation.lon",
             -124
            ],
            "label": "-124",
            "method": "relayout"
           },
           {
            "args": [
             "geo.projection.rotation.lon",
             -122
            ],
            "label": "-122",
            "method": "relayout"
           },
           {
            "args": [
             "geo.projection.rotation.lon",
             -120
            ],
            "label": "-120",
            "method": "relayout"
           },
           {
            "args": [
             "geo.projection.rotation.lon",
             -118
            ],
            "label": "-118",
            "method": "relayout"
           },
           {
            "args": [
             "geo.projection.rotation.lon",
             -116
            ],
            "label": "-116",
            "method": "relayout"
           },
           {
            "args": [
             "geo.projection.rotation.lon",
             -114
            ],
            "label": "-114",
            "method": "relayout"
           },
           {
            "args": [
             "geo.projection.rotation.lon",
             -112
            ],
            "label": "-112",
            "method": "relayout"
           },
           {
            "args": [
             "geo.projection.rotation.lon",
             -110
            ],
            "label": "-110",
            "method": "relayout"
           },
           {
            "args": [
             "geo.projection.rotation.lon",
             -108
            ],
            "label": "-108",
            "method": "relayout"
           },
           {
            "args": [
             "geo.projection.rotation.lon",
             -106
            ],
            "label": "-106",
            "method": "relayout"
           },
           {
            "args": [
             "geo.projection.rotation.lon",
             -104
            ],
            "label": "-104",
            "method": "relayout"
           },
           {
            "args": [
             "geo.projection.rotation.lon",
             -102
            ],
            "label": "-102",
            "method": "relayout"
           },
           {
            "args": [
             "geo.projection.rotation.lon",
             -100
            ],
            "label": "-100",
            "method": "relayout"
           },
           {
            "args": [
             "geo.projection.rotation.lon",
             -98
            ],
            "label": "-98",
            "method": "relayout"
           },
           {
            "args": [
             "geo.projection.rotation.lon",
             -96
            ],
            "label": "-96",
            "method": "relayout"
           },
           {
            "args": [
             "geo.projection.rotation.lon",
             -94
            ],
            "label": "-94",
            "method": "relayout"
           },
           {
            "args": [
             "geo.projection.rotation.lon",
             -92
            ],
            "label": "-92",
            "method": "relayout"
           },
           {
            "args": [
             "geo.projection.rotation.lon",
             -90
            ],
            "label": "-90",
            "method": "relayout"
           },
           {
            "args": [
             "geo.projection.rotation.lon",
             -88
            ],
            "label": "-88",
            "method": "relayout"
           },
           {
            "args": [
             "geo.projection.rotation.lon",
             -86
            ],
            "label": "-86",
            "method": "relayout"
           },
           {
            "args": [
             "geo.projection.rotation.lon",
             -84
            ],
            "label": "-84",
            "method": "relayout"
           },
           {
            "args": [
             "geo.projection.rotation.lon",
             -82
            ],
            "label": "-82",
            "method": "relayout"
           },
           {
            "args": [
             "geo.projection.rotation.lon",
             -80
            ],
            "label": "-80",
            "method": "relayout"
           },
           {
            "args": [
             "geo.projection.rotation.lon",
             -78
            ],
            "label": "-78",
            "method": "relayout"
           },
           {
            "args": [
             "geo.projection.rotation.lon",
             -76
            ],
            "label": "-76",
            "method": "relayout"
           },
           {
            "args": [
             "geo.projection.rotation.lon",
             -74
            ],
            "label": "-74",
            "method": "relayout"
           },
           {
            "args": [
             "geo.projection.rotation.lon",
             -72
            ],
            "label": "-72",
            "method": "relayout"
           },
           {
            "args": [
             "geo.projection.rotation.lon",
             -70
            ],
            "label": "-70",
            "method": "relayout"
           },
           {
            "args": [
             "geo.projection.rotation.lon",
             -68
            ],
            "label": "-68",
            "method": "relayout"
           },
           {
            "args": [
             "geo.projection.rotation.lon",
             -66
            ],
            "label": "-66",
            "method": "relayout"
           },
           {
            "args": [
             "geo.projection.rotation.lon",
             -64
            ],
            "label": "-64",
            "method": "relayout"
           },
           {
            "args": [
             "geo.projection.rotation.lon",
             -62
            ],
            "label": "-62",
            "method": "relayout"
           },
           {
            "args": [
             "geo.projection.rotation.lon",
             -60
            ],
            "label": "-60",
            "method": "relayout"
           },
           {
            "args": [
             "geo.projection.rotation.lon",
             -58
            ],
            "label": "-58",
            "method": "relayout"
           },
           {
            "args": [
             "geo.projection.rotation.lon",
             -56
            ],
            "label": "-56",
            "method": "relayout"
           },
           {
            "args": [
             "geo.projection.rotation.lon",
             -54
            ],
            "label": "-54",
            "method": "relayout"
           },
           {
            "args": [
             "geo.projection.rotation.lon",
             -52
            ],
            "label": "-52",
            "method": "relayout"
           },
           {
            "args": [
             "geo.projection.rotation.lon",
             -50
            ],
            "label": "-50",
            "method": "relayout"
           },
           {
            "args": [
             "geo.projection.rotation.lon",
             -48
            ],
            "label": "-48",
            "method": "relayout"
           },
           {
            "args": [
             "geo.projection.rotation.lon",
             -46
            ],
            "label": "-46",
            "method": "relayout"
           },
           {
            "args": [
             "geo.projection.rotation.lon",
             -44
            ],
            "label": "-44",
            "method": "relayout"
           },
           {
            "args": [
             "geo.projection.rotation.lon",
             -42
            ],
            "label": "-42",
            "method": "relayout"
           },
           {
            "args": [
             "geo.projection.rotation.lon",
             -40
            ],
            "label": "-40",
            "method": "relayout"
           },
           {
            "args": [
             "geo.projection.rotation.lon",
             -38
            ],
            "label": "-38",
            "method": "relayout"
           },
           {
            "args": [
             "geo.projection.rotation.lon",
             -36
            ],
            "label": "-36",
            "method": "relayout"
           },
           {
            "args": [
             "geo.projection.rotation.lon",
             -34
            ],
            "label": "-34",
            "method": "relayout"
           },
           {
            "args": [
             "geo.projection.rotation.lon",
             -32
            ],
            "label": "-32",
            "method": "relayout"
           },
           {
            "args": [
             "geo.projection.rotation.lon",
             -30
            ],
            "label": "-30",
            "method": "relayout"
           },
           {
            "args": [
             "geo.projection.rotation.lon",
             -28
            ],
            "label": "-28",
            "method": "relayout"
           },
           {
            "args": [
             "geo.projection.rotation.lon",
             -26
            ],
            "label": "-26",
            "method": "relayout"
           },
           {
            "args": [
             "geo.projection.rotation.lon",
             -24
            ],
            "label": "-24",
            "method": "relayout"
           },
           {
            "args": [
             "geo.projection.rotation.lon",
             -22
            ],
            "label": "-22",
            "method": "relayout"
           },
           {
            "args": [
             "geo.projection.rotation.lon",
             -20
            ],
            "label": "-20",
            "method": "relayout"
           },
           {
            "args": [
             "geo.projection.rotation.lon",
             -18
            ],
            "label": "-18",
            "method": "relayout"
           },
           {
            "args": [
             "geo.projection.rotation.lon",
             -16
            ],
            "label": "-16",
            "method": "relayout"
           },
           {
            "args": [
             "geo.projection.rotation.lon",
             -14
            ],
            "label": "-14",
            "method": "relayout"
           },
           {
            "args": [
             "geo.projection.rotation.lon",
             -12
            ],
            "label": "-12",
            "method": "relayout"
           },
           {
            "args": [
             "geo.projection.rotation.lon",
             -10
            ],
            "label": "-10",
            "method": "relayout"
           },
           {
            "args": [
             "geo.projection.rotation.lon",
             -8
            ],
            "label": "-8",
            "method": "relayout"
           },
           {
            "args": [
             "geo.projection.rotation.lon",
             -6
            ],
            "label": "-6",
            "method": "relayout"
           },
           {
            "args": [
             "geo.projection.rotation.lon",
             -4
            ],
            "label": "-4",
            "method": "relayout"
           },
           {
            "args": [
             "geo.projection.rotation.lon",
             -2
            ],
            "label": "-2",
            "method": "relayout"
           },
           {
            "args": [
             "geo.projection.rotation.lon",
             0
            ],
            "label": "0",
            "method": "relayout"
           },
           {
            "args": [
             "geo.projection.rotation.lon",
             2
            ],
            "label": "2",
            "method": "relayout"
           },
           {
            "args": [
             "geo.projection.rotation.lon",
             4
            ],
            "label": "4",
            "method": "relayout"
           },
           {
            "args": [
             "geo.projection.rotation.lon",
             6
            ],
            "label": "6",
            "method": "relayout"
           },
           {
            "args": [
             "geo.projection.rotation.lon",
             8
            ],
            "label": "8",
            "method": "relayout"
           },
           {
            "args": [
             "geo.projection.rotation.lon",
             10
            ],
            "label": "10",
            "method": "relayout"
           },
           {
            "args": [
             "geo.projection.rotation.lon",
             12
            ],
            "label": "12",
            "method": "relayout"
           },
           {
            "args": [
             "geo.projection.rotation.lon",
             14
            ],
            "label": "14",
            "method": "relayout"
           },
           {
            "args": [
             "geo.projection.rotation.lon",
             16
            ],
            "label": "16",
            "method": "relayout"
           },
           {
            "args": [
             "geo.projection.rotation.lon",
             18
            ],
            "label": "18",
            "method": "relayout"
           },
           {
            "args": [
             "geo.projection.rotation.lon",
             20
            ],
            "label": "20",
            "method": "relayout"
           },
           {
            "args": [
             "geo.projection.rotation.lon",
             22
            ],
            "label": "22",
            "method": "relayout"
           },
           {
            "args": [
             "geo.projection.rotation.lon",
             24
            ],
            "label": "24",
            "method": "relayout"
           },
           {
            "args": [
             "geo.projection.rotation.lon",
             26
            ],
            "label": "26",
            "method": "relayout"
           },
           {
            "args": [
             "geo.projection.rotation.lon",
             28
            ],
            "label": "28",
            "method": "relayout"
           },
           {
            "args": [
             "geo.projection.rotation.lon",
             30
            ],
            "label": "30",
            "method": "relayout"
           },
           {
            "args": [
             "geo.projection.rotation.lon",
             32
            ],
            "label": "32",
            "method": "relayout"
           },
           {
            "args": [
             "geo.projection.rotation.lon",
             34
            ],
            "label": "34",
            "method": "relayout"
           },
           {
            "args": [
             "geo.projection.rotation.lon",
             36
            ],
            "label": "36",
            "method": "relayout"
           },
           {
            "args": [
             "geo.projection.rotation.lon",
             38
            ],
            "label": "38",
            "method": "relayout"
           },
           {
            "args": [
             "geo.projection.rotation.lon",
             40
            ],
            "label": "40",
            "method": "relayout"
           },
           {
            "args": [
             "geo.projection.rotation.lon",
             42
            ],
            "label": "42",
            "method": "relayout"
           },
           {
            "args": [
             "geo.projection.rotation.lon",
             44
            ],
            "label": "44",
            "method": "relayout"
           },
           {
            "args": [
             "geo.projection.rotation.lon",
             46
            ],
            "label": "46",
            "method": "relayout"
           },
           {
            "args": [
             "geo.projection.rotation.lon",
             48
            ],
            "label": "48",
            "method": "relayout"
           },
           {
            "args": [
             "geo.projection.rotation.lon",
             50
            ],
            "label": "50",
            "method": "relayout"
           },
           {
            "args": [
             "geo.projection.rotation.lon",
             52
            ],
            "label": "52",
            "method": "relayout"
           },
           {
            "args": [
             "geo.projection.rotation.lon",
             54
            ],
            "label": "54",
            "method": "relayout"
           },
           {
            "args": [
             "geo.projection.rotation.lon",
             56
            ],
            "label": "56",
            "method": "relayout"
           },
           {
            "args": [
             "geo.projection.rotation.lon",
             58
            ],
            "label": "58",
            "method": "relayout"
           },
           {
            "args": [
             "geo.projection.rotation.lon",
             60
            ],
            "label": "60",
            "method": "relayout"
           },
           {
            "args": [
             "geo.projection.rotation.lon",
             62
            ],
            "label": "62",
            "method": "relayout"
           },
           {
            "args": [
             "geo.projection.rotation.lon",
             64
            ],
            "label": "64",
            "method": "relayout"
           },
           {
            "args": [
             "geo.projection.rotation.lon",
             66
            ],
            "label": "66",
            "method": "relayout"
           },
           {
            "args": [
             "geo.projection.rotation.lon",
             68
            ],
            "label": "68",
            "method": "relayout"
           },
           {
            "args": [
             "geo.projection.rotation.lon",
             70
            ],
            "label": "70",
            "method": "relayout"
           },
           {
            "args": [
             "geo.projection.rotation.lon",
             72
            ],
            "label": "72",
            "method": "relayout"
           },
           {
            "args": [
             "geo.projection.rotation.lon",
             74
            ],
            "label": "74",
            "method": "relayout"
           },
           {
            "args": [
             "geo.projection.rotation.lon",
             76
            ],
            "label": "76",
            "method": "relayout"
           },
           {
            "args": [
             "geo.projection.rotation.lon",
             78
            ],
            "label": "78",
            "method": "relayout"
           },
           {
            "args": [
             "geo.projection.rotation.lon",
             80
            ],
            "label": "80",
            "method": "relayout"
           },
           {
            "args": [
             "geo.projection.rotation.lon",
             82
            ],
            "label": "82",
            "method": "relayout"
           },
           {
            "args": [
             "geo.projection.rotation.lon",
             84
            ],
            "label": "84",
            "method": "relayout"
           },
           {
            "args": [
             "geo.projection.rotation.lon",
             86
            ],
            "label": "86",
            "method": "relayout"
           },
           {
            "args": [
             "geo.projection.rotation.lon",
             88
            ],
            "label": "88",
            "method": "relayout"
           },
           {
            "args": [
             "geo.projection.rotation.lon",
             90
            ],
            "label": "90",
            "method": "relayout"
           },
           {
            "args": [
             "geo.projection.rotation.lon",
             92
            ],
            "label": "92",
            "method": "relayout"
           },
           {
            "args": [
             "geo.projection.rotation.lon",
             94
            ],
            "label": "94",
            "method": "relayout"
           },
           {
            "args": [
             "geo.projection.rotation.lon",
             96
            ],
            "label": "96",
            "method": "relayout"
           },
           {
            "args": [
             "geo.projection.rotation.lon",
             98
            ],
            "label": "98",
            "method": "relayout"
           },
           {
            "args": [
             "geo.projection.rotation.lon",
             100
            ],
            "label": "100",
            "method": "relayout"
           },
           {
            "args": [
             "geo.projection.rotation.lon",
             102
            ],
            "label": "102",
            "method": "relayout"
           },
           {
            "args": [
             "geo.projection.rotation.lon",
             104
            ],
            "label": "104",
            "method": "relayout"
           },
           {
            "args": [
             "geo.projection.rotation.lon",
             106
            ],
            "label": "106",
            "method": "relayout"
           },
           {
            "args": [
             "geo.projection.rotation.lon",
             108
            ],
            "label": "108",
            "method": "relayout"
           },
           {
            "args": [
             "geo.projection.rotation.lon",
             110
            ],
            "label": "110",
            "method": "relayout"
           },
           {
            "args": [
             "geo.projection.rotation.lon",
             112
            ],
            "label": "112",
            "method": "relayout"
           },
           {
            "args": [
             "geo.projection.rotation.lon",
             114
            ],
            "label": "114",
            "method": "relayout"
           },
           {
            "args": [
             "geo.projection.rotation.lon",
             116
            ],
            "label": "116",
            "method": "relayout"
           },
           {
            "args": [
             "geo.projection.rotation.lon",
             118
            ],
            "label": "118",
            "method": "relayout"
           },
           {
            "args": [
             "geo.projection.rotation.lon",
             120
            ],
            "label": "120",
            "method": "relayout"
           },
           {
            "args": [
             "geo.projection.rotation.lon",
             122
            ],
            "label": "122",
            "method": "relayout"
           },
           {
            "args": [
             "geo.projection.rotation.lon",
             124
            ],
            "label": "124",
            "method": "relayout"
           },
           {
            "args": [
             "geo.projection.rotation.lon",
             126
            ],
            "label": "126",
            "method": "relayout"
           },
           {
            "args": [
             "geo.projection.rotation.lon",
             128
            ],
            "label": "128",
            "method": "relayout"
           },
           {
            "args": [
             "geo.projection.rotation.lon",
             130
            ],
            "label": "130",
            "method": "relayout"
           },
           {
            "args": [
             "geo.projection.rotation.lon",
             132
            ],
            "label": "132",
            "method": "relayout"
           },
           {
            "args": [
             "geo.projection.rotation.lon",
             134
            ],
            "label": "134",
            "method": "relayout"
           },
           {
            "args": [
             "geo.projection.rotation.lon",
             136
            ],
            "label": "136",
            "method": "relayout"
           },
           {
            "args": [
             "geo.projection.rotation.lon",
             138
            ],
            "label": "138",
            "method": "relayout"
           },
           {
            "args": [
             "geo.projection.rotation.lon",
             140
            ],
            "label": "140",
            "method": "relayout"
           },
           {
            "args": [
             "geo.projection.rotation.lon",
             142
            ],
            "label": "142",
            "method": "relayout"
           },
           {
            "args": [
             "geo.projection.rotation.lon",
             144
            ],
            "label": "144",
            "method": "relayout"
           },
           {
            "args": [
             "geo.projection.rotation.lon",
             146
            ],
            "label": "146",
            "method": "relayout"
           },
           {
            "args": [
             "geo.projection.rotation.lon",
             148
            ],
            "label": "148",
            "method": "relayout"
           },
           {
            "args": [
             "geo.projection.rotation.lon",
             150
            ],
            "label": "150",
            "method": "relayout"
           },
           {
            "args": [
             "geo.projection.rotation.lon",
             152
            ],
            "label": "152",
            "method": "relayout"
           },
           {
            "args": [
             "geo.projection.rotation.lon",
             154
            ],
            "label": "154",
            "method": "relayout"
           },
           {
            "args": [
             "geo.projection.rotation.lon",
             156
            ],
            "label": "156",
            "method": "relayout"
           },
           {
            "args": [
             "geo.projection.rotation.lon",
             158
            ],
            "label": "158",
            "method": "relayout"
           },
           {
            "args": [
             "geo.projection.rotation.lon",
             160
            ],
            "label": "160",
            "method": "relayout"
           },
           {
            "args": [
             "geo.projection.rotation.lon",
             162
            ],
            "label": "162",
            "method": "relayout"
           },
           {
            "args": [
             "geo.projection.rotation.lon",
             164
            ],
            "label": "164",
            "method": "relayout"
           },
           {
            "args": [
             "geo.projection.rotation.lon",
             166
            ],
            "label": "166",
            "method": "relayout"
           },
           {
            "args": [
             "geo.projection.rotation.lon",
             168
            ],
            "label": "168",
            "method": "relayout"
           },
           {
            "args": [
             "geo.projection.rotation.lon",
             170
            ],
            "label": "170",
            "method": "relayout"
           },
           {
            "args": [
             "geo.projection.rotation.lon",
             172
            ],
            "label": "172",
            "method": "relayout"
           },
           {
            "args": [
             "geo.projection.rotation.lon",
             174
            ],
            "label": "174",
            "method": "relayout"
           },
           {
            "args": [
             "geo.projection.rotation.lon",
             176
            ],
            "label": "176",
            "method": "relayout"
           },
           {
            "args": [
             "geo.projection.rotation.lon",
             178
            ],
            "label": "178",
            "method": "relayout"
           }
          ]
         }
        ],
        "template": {
         "data": {
          "bar": [
           {
            "error_x": {
             "color": "#2a3f5f"
            },
            "error_y": {
             "color": "#2a3f5f"
            },
            "marker": {
             "line": {
              "color": "#E5ECF6",
              "width": 0.5
             },
             "pattern": {
              "fillmode": "overlay",
              "size": 10,
              "solidity": 0.2
             }
            },
            "type": "bar"
           }
          ],
          "barpolar": [
           {
            "marker": {
             "line": {
              "color": "#E5ECF6",
              "width": 0.5
             },
             "pattern": {
              "fillmode": "overlay",
              "size": 10,
              "solidity": 0.2
             }
            },
            "type": "barpolar"
           }
          ],
          "carpet": [
           {
            "aaxis": {
             "endlinecolor": "#2a3f5f",
             "gridcolor": "white",
             "linecolor": "white",
             "minorgridcolor": "white",
             "startlinecolor": "#2a3f5f"
            },
            "baxis": {
             "endlinecolor": "#2a3f5f",
             "gridcolor": "white",
             "linecolor": "white",
             "minorgridcolor": "white",
             "startlinecolor": "#2a3f5f"
            },
            "type": "carpet"
           }
          ],
          "choropleth": [
           {
            "colorbar": {
             "outlinewidth": 0,
             "ticks": ""
            },
            "type": "choropleth"
           }
          ],
          "contour": [
           {
            "colorbar": {
             "outlinewidth": 0,
             "ticks": ""
            },
            "colorscale": [
             [
              0,
              "#0d0887"
             ],
             [
              0.1111111111111111,
              "#46039f"
             ],
             [
              0.2222222222222222,
              "#7201a8"
             ],
             [
              0.3333333333333333,
              "#9c179e"
             ],
             [
              0.4444444444444444,
              "#bd3786"
             ],
             [
              0.5555555555555556,
              "#d8576b"
             ],
             [
              0.6666666666666666,
              "#ed7953"
             ],
             [
              0.7777777777777778,
              "#fb9f3a"
             ],
             [
              0.8888888888888888,
              "#fdca26"
             ],
             [
              1,
              "#f0f921"
             ]
            ],
            "type": "contour"
           }
          ],
          "contourcarpet": [
           {
            "colorbar": {
             "outlinewidth": 0,
             "ticks": ""
            },
            "type": "contourcarpet"
           }
          ],
          "heatmap": [
           {
            "colorbar": {
             "outlinewidth": 0,
             "ticks": ""
            },
            "colorscale": [
             [
              0,
              "#0d0887"
             ],
             [
              0.1111111111111111,
              "#46039f"
             ],
             [
              0.2222222222222222,
              "#7201a8"
             ],
             [
              0.3333333333333333,
              "#9c179e"
             ],
             [
              0.4444444444444444,
              "#bd3786"
             ],
             [
              0.5555555555555556,
              "#d8576b"
             ],
             [
              0.6666666666666666,
              "#ed7953"
             ],
             [
              0.7777777777777778,
              "#fb9f3a"
             ],
             [
              0.8888888888888888,
              "#fdca26"
             ],
             [
              1,
              "#f0f921"
             ]
            ],
            "type": "heatmap"
           }
          ],
          "heatmapgl": [
           {
            "colorbar": {
             "outlinewidth": 0,
             "ticks": ""
            },
            "colorscale": [
             [
              0,
              "#0d0887"
             ],
             [
              0.1111111111111111,
              "#46039f"
             ],
             [
              0.2222222222222222,
              "#7201a8"
             ],
             [
              0.3333333333333333,
              "#9c179e"
             ],
             [
              0.4444444444444444,
              "#bd3786"
             ],
             [
              0.5555555555555556,
              "#d8576b"
             ],
             [
              0.6666666666666666,
              "#ed7953"
             ],
             [
              0.7777777777777778,
              "#fb9f3a"
             ],
             [
              0.8888888888888888,
              "#fdca26"
             ],
             [
              1,
              "#f0f921"
             ]
            ],
            "type": "heatmapgl"
           }
          ],
          "histogram": [
           {
            "marker": {
             "pattern": {
              "fillmode": "overlay",
              "size": 10,
              "solidity": 0.2
             }
            },
            "type": "histogram"
           }
          ],
          "histogram2d": [
           {
            "colorbar": {
             "outlinewidth": 0,
             "ticks": ""
            },
            "colorscale": [
             [
              0,
              "#0d0887"
             ],
             [
              0.1111111111111111,
              "#46039f"
             ],
             [
              0.2222222222222222,
              "#7201a8"
             ],
             [
              0.3333333333333333,
              "#9c179e"
             ],
             [
              0.4444444444444444,
              "#bd3786"
             ],
             [
              0.5555555555555556,
              "#d8576b"
             ],
             [
              0.6666666666666666,
              "#ed7953"
             ],
             [
              0.7777777777777778,
              "#fb9f3a"
             ],
             [
              0.8888888888888888,
              "#fdca26"
             ],
             [
              1,
              "#f0f921"
             ]
            ],
            "type": "histogram2d"
           }
          ],
          "histogram2dcontour": [
           {
            "colorbar": {
             "outlinewidth": 0,
             "ticks": ""
            },
            "colorscale": [
             [
              0,
              "#0d0887"
             ],
             [
              0.1111111111111111,
              "#46039f"
             ],
             [
              0.2222222222222222,
              "#7201a8"
             ],
             [
              0.3333333333333333,
              "#9c179e"
             ],
             [
              0.4444444444444444,
              "#bd3786"
             ],
             [
              0.5555555555555556,
              "#d8576b"
             ],
             [
              0.6666666666666666,
              "#ed7953"
             ],
             [
              0.7777777777777778,
              "#fb9f3a"
             ],
             [
              0.8888888888888888,
              "#fdca26"
             ],
             [
              1,
              "#f0f921"
             ]
            ],
            "type": "histogram2dcontour"
           }
          ],
          "mesh3d": [
           {
            "colorbar": {
             "outlinewidth": 0,
             "ticks": ""
            },
            "type": "mesh3d"
           }
          ],
          "parcoords": [
           {
            "line": {
             "colorbar": {
              "outlinewidth": 0,
              "ticks": ""
             }
            },
            "type": "parcoords"
           }
          ],
          "pie": [
           {
            "automargin": true,
            "type": "pie"
           }
          ],
          "scatter": [
           {
            "marker": {
             "colorbar": {
              "outlinewidth": 0,
              "ticks": ""
             }
            },
            "type": "scatter"
           }
          ],
          "scatter3d": [
           {
            "line": {
             "colorbar": {
              "outlinewidth": 0,
              "ticks": ""
             }
            },
            "marker": {
             "colorbar": {
              "outlinewidth": 0,
              "ticks": ""
             }
            },
            "type": "scatter3d"
           }
          ],
          "scattercarpet": [
           {
            "marker": {
             "colorbar": {
              "outlinewidth": 0,
              "ticks": ""
             }
            },
            "type": "scattercarpet"
           }
          ],
          "scattergeo": [
           {
            "marker": {
             "colorbar": {
              "outlinewidth": 0,
              "ticks": ""
             }
            },
            "type": "scattergeo"
           }
          ],
          "scattergl": [
           {
            "marker": {
             "colorbar": {
              "outlinewidth": 0,
              "ticks": ""
             }
            },
            "type": "scattergl"
           }
          ],
          "scattermapbox": [
           {
            "marker": {
             "colorbar": {
              "outlinewidth": 0,
              "ticks": ""
             }
            },
            "type": "scattermapbox"
           }
          ],
          "scatterpolar": [
           {
            "marker": {
             "colorbar": {
              "outlinewidth": 0,
              "ticks": ""
             }
            },
            "type": "scatterpolar"
           }
          ],
          "scatterpolargl": [
           {
            "marker": {
             "colorbar": {
              "outlinewidth": 0,
              "ticks": ""
             }
            },
            "type": "scatterpolargl"
           }
          ],
          "scatterternary": [
           {
            "marker": {
             "colorbar": {
              "outlinewidth": 0,
              "ticks": ""
             }
            },
            "type": "scatterternary"
           }
          ],
          "surface": [
           {
            "colorbar": {
             "outlinewidth": 0,
             "ticks": ""
            },
            "colorscale": [
             [
              0,
              "#0d0887"
             ],
             [
              0.1111111111111111,
              "#46039f"
             ],
             [
              0.2222222222222222,
              "#7201a8"
             ],
             [
              0.3333333333333333,
              "#9c179e"
             ],
             [
              0.4444444444444444,
              "#bd3786"
             ],
             [
              0.5555555555555556,
              "#d8576b"
             ],
             [
              0.6666666666666666,
              "#ed7953"
             ],
             [
              0.7777777777777778,
              "#fb9f3a"
             ],
             [
              0.8888888888888888,
              "#fdca26"
             ],
             [
              1,
              "#f0f921"
             ]
            ],
            "type": "surface"
           }
          ],
          "table": [
           {
            "cells": {
             "fill": {
              "color": "#EBF0F8"
             },
             "line": {
              "color": "white"
             }
            },
            "header": {
             "fill": {
              "color": "#C8D4E3"
             },
             "line": {
              "color": "white"
             }
            },
            "type": "table"
           }
          ]
         },
         "layout": {
          "annotationdefaults": {
           "arrowcolor": "#2a3f5f",
           "arrowhead": 0,
           "arrowwidth": 1
          },
          "autotypenumbers": "strict",
          "coloraxis": {
           "colorbar": {
            "outlinewidth": 0,
            "ticks": ""
           }
          },
          "colorscale": {
           "diverging": [
            [
             0,
             "#8e0152"
            ],
            [
             0.1,
             "#c51b7d"
            ],
            [
             0.2,
             "#de77ae"
            ],
            [
             0.3,
             "#f1b6da"
            ],
            [
             0.4,
             "#fde0ef"
            ],
            [
             0.5,
             "#f7f7f7"
            ],
            [
             0.6,
             "#e6f5d0"
            ],
            [
             0.7,
             "#b8e186"
            ],
            [
             0.8,
             "#7fbc41"
            ],
            [
             0.9,
             "#4d9221"
            ],
            [
             1,
             "#276419"
            ]
           ],
           "sequential": [
            [
             0,
             "#0d0887"
            ],
            [
             0.1111111111111111,
             "#46039f"
            ],
            [
             0.2222222222222222,
             "#7201a8"
            ],
            [
             0.3333333333333333,
             "#9c179e"
            ],
            [
             0.4444444444444444,
             "#bd3786"
            ],
            [
             0.5555555555555556,
             "#d8576b"
            ],
            [
             0.6666666666666666,
             "#ed7953"
            ],
            [
             0.7777777777777778,
             "#fb9f3a"
            ],
            [
             0.8888888888888888,
             "#fdca26"
            ],
            [
             1,
             "#f0f921"
            ]
           ],
           "sequentialminus": [
            [
             0,
             "#0d0887"
            ],
            [
             0.1111111111111111,
             "#46039f"
            ],
            [
             0.2222222222222222,
             "#7201a8"
            ],
            [
             0.3333333333333333,
             "#9c179e"
            ],
            [
             0.4444444444444444,
             "#bd3786"
            ],
            [
             0.5555555555555556,
             "#d8576b"
            ],
            [
             0.6666666666666666,
             "#ed7953"
            ],
            [
             0.7777777777777778,
             "#fb9f3a"
            ],
            [
             0.8888888888888888,
             "#fdca26"
            ],
            [
             1,
             "#f0f921"
            ]
           ]
          },
          "colorway": [
           "#636efa",
           "#EF553B",
           "#00cc96",
           "#ab63fa",
           "#FFA15A",
           "#19d3f3",
           "#FF6692",
           "#B6E880",
           "#FF97FF",
           "#FECB52"
          ],
          "font": {
           "color": "#2a3f5f"
          },
          "geo": {
           "bgcolor": "white",
           "lakecolor": "white",
           "landcolor": "#E5ECF6",
           "showlakes": true,
           "showland": true,
           "subunitcolor": "white"
          },
          "hoverlabel": {
           "align": "left"
          },
          "hovermode": "closest",
          "mapbox": {
           "style": "light"
          },
          "paper_bgcolor": "white",
          "plot_bgcolor": "#E5ECF6",
          "polar": {
           "angularaxis": {
            "gridcolor": "white",
            "linecolor": "white",
            "ticks": ""
           },
           "bgcolor": "#E5ECF6",
           "radialaxis": {
            "gridcolor": "white",
            "linecolor": "white",
            "ticks": ""
           }
          },
          "scene": {
           "xaxis": {
            "backgroundcolor": "#E5ECF6",
            "gridcolor": "white",
            "gridwidth": 2,
            "linecolor": "white",
            "showbackground": true,
            "ticks": "",
            "zerolinecolor": "white"
           },
           "yaxis": {
            "backgroundcolor": "#E5ECF6",
            "gridcolor": "white",
            "gridwidth": 2,
            "linecolor": "white",
            "showbackground": true,
            "ticks": "",
            "zerolinecolor": "white"
           },
           "zaxis": {
            "backgroundcolor": "#E5ECF6",
            "gridcolor": "white",
            "gridwidth": 2,
            "linecolor": "white",
            "showbackground": true,
            "ticks": "",
            "zerolinecolor": "white"
           }
          },
          "shapedefaults": {
           "line": {
            "color": "#2a3f5f"
           }
          },
          "ternary": {
           "aaxis": {
            "gridcolor": "white",
            "linecolor": "white",
            "ticks": ""
           },
           "baxis": {
            "gridcolor": "white",
            "linecolor": "white",
            "ticks": ""
           },
           "bgcolor": "#E5ECF6",
           "caxis": {
            "gridcolor": "white",
            "linecolor": "white",
            "ticks": ""
           }
          },
          "title": {
           "x": 0.05
          },
          "xaxis": {
           "automargin": true,
           "gridcolor": "white",
           "linecolor": "white",
           "ticks": "",
           "title": {
            "standoff": 15
           },
           "zerolinecolor": "white",
           "zerolinewidth": 2
          },
          "yaxis": {
           "automargin": true,
           "gridcolor": "white",
           "linecolor": "white",
           "ticks": "",
           "title": {
            "standoff": 15
           },
           "zerolinecolor": "white",
           "zerolinewidth": 2
          }
         }
        },
        "updatemenus": [
         {
          "buttons": [
           {
            "args": [
             null,
             {
              "frame": {
               "duration": 50,
               "redraw": false
              },
              "fromcurrent": true,
              "mode": "immediate",
              "transition": {
               "duration": 0
              }
             }
            ],
            "label": "Play",
            "method": "animate"
           }
          ],
          "pad": {
           "r": 10,
           "t": 45
          },
          "showactive": true,
          "type": "buttons",
          "x": 0.8,
          "xanchor": "left",
          "y": 1,
          "yanchor": "bottom"
         }
        ]
       }
      }
     },
     "metadata": {},
     "output_type": "display_data"
    }
   ],
   "source": [
    "import plotly.graph_objects as go\n",
    "\n",
    "fig = go.Figure(go.Choropleth(locations=df_imputed_knn['iso3'], z=df_imputed_knn['hdi_rank_2021'], colorscale =\"ice\"))\n",
    "\n",
    "fig.update_geos(projection_type=\"orthographic\")\n",
    "fig.update_layout(margin={\"r\":0,\"t\":0,\"l\":0,\"b\":0})\n",
    "\n",
    "fig = fig.update_traces(marker_line_color='darkgray', marker_line_width=0.2)\n",
    "\n",
    "fig.update_geos(showcoastlines=False)\n",
    "\n",
    "fig.update_layout(legend=dict(\n",
    "    orientation=\"h\",\n",
    "    yanchor=\"bottom\",\n",
    "    y=1.02,\n",
    "    xanchor=\"left\",\n",
    "    x=1\n",
    "))\n",
    "\n",
    "sliders = []\n",
    "frames = []\n",
    "\n",
    "lon_range = np.arange(-180, 180, 2)\n",
    "\n",
    "sliders.append(\n",
    "    dict(\n",
    "        active=0,\n",
    "        currentvalue={\"prefix\": \"Longitude: \"},\n",
    "        pad={\"t\": 0},\n",
    "        steps=[{\n",
    "            'method': 'relayout',\n",
    "            'label': str(i),\n",
    "            'args': ['geo.projection.rotation.lon', i]} for i in lon_range]\n",
    "    )\n",
    ")\n",
    "\n",
    "\n",
    "fig.update_layout(\n",
    "        geo=go.layout.Geo(\n",
    "            projection_type='orthographic',\n",
    "            showland=True,\n",
    "            showcountries=True,\n",
    "            landcolor='rgb(243, 243, 243)',\n",
    "            countrycolor='rgb(204, 204, 204)'\n",
    "        ),\n",
    "        \n",
    "        sliders=sliders,\n",
    "        updatemenus=[dict(type='buttons',\n",
    "                          showactive=True,\n",
    "                          y=1,\n",
    "                          x=0.8,\n",
    "                          xanchor='left',\n",
    "                          yanchor='bottom',\n",
    "                          pad=dict(t=45, r=10),\n",
    "                          buttons=[dict(label='Play',\n",
    "                                        method='animate',\n",
    "                                        args=[None, dict(frame=dict(duration=50, redraw=False),\n",
    "                                                         transition=dict(duration=0),\n",
    "                                                         fromcurrent=True,\n",
    "                                                         mode='immediate'\n",
    "                                                         )]\n",
    "                                        )\n",
    "                                   ]\n",
    "                          )\n",
    "                     ]\n",
    "    )\n",
    "\n",
    "fig.show()\n",
    "\n",
    "fig.write_html(\"./html/chart/map_box_hdi.html\")"
   ]
  }
 ],
 "metadata": {
  "interpreter": {
   "hash": "883bf3196445a25e6ef0b83fe1b0217ce28953988b66f135da5aaeedac26c0c3"
  },
  "kernelspec": {
   "display_name": "Python 3.10.1 64-bit",
   "language": "python",
   "name": "python3"
  },
  "language_info": {
   "codemirror_mode": {
    "name": "ipython",
    "version": 3
   },
   "file_extension": ".py",
   "mimetype": "text/x-python",
   "name": "python",
   "nbconvert_exporter": "python",
   "pygments_lexer": "ipython3",
   "version": "3.10.1"
  },
  "orig_nbformat": 4,
  "vscode": {
   "interpreter": {
    "hash": "133d3c84286f79a11b2033d04d3aa9483a855a7bc98ab5ebe5d33354226dae07"
   }
  }
 },
 "nbformat": 4,
 "nbformat_minor": 2
}
