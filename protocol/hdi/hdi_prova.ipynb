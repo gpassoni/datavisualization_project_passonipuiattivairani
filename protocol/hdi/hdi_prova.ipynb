{
 "cells": [
  {
   "cell_type": "code",
   "execution_count": 1,
   "metadata": {},
   "outputs": [],
   "source": [
    "import pandas as pd\n",
    "import requests\n",
    "import urllib.parse\n",
    "import pandas as pd\n",
    "import pandas as pd\n",
    "import plotly.express as px\n",
    "from sklearn.impute import KNNImputer\n",
    "from sklearn.preprocessing import OrdinalEncoder"
   ]
  },
  {
   "cell_type": "code",
   "execution_count": 2,
   "metadata": {},
   "outputs": [],
   "source": [
    "df = pd.read_csv(\"./statics/HDR21-22_Composite_indices_complete_time_series.csv\")"
   ]
  },
  {
   "cell_type": "code",
   "execution_count": 3,
   "metadata": {},
   "outputs": [],
   "source": [
    "ord_enc = OrdinalEncoder()\n",
    "df[\"hdicode\"] = ord_enc.fit_transform(df[[\"hdicode\"]])"
   ]
  },
  {
   "cell_type": "code",
   "execution_count": 4,
   "metadata": {},
   "outputs": [
    {
     "data": {
      "text/html": [
       "<div>\n",
       "<style scoped>\n",
       "    .dataframe tbody tr th:only-of-type {\n",
       "        vertical-align: middle;\n",
       "    }\n",
       "\n",
       "    .dataframe tbody tr th {\n",
       "        vertical-align: top;\n",
       "    }\n",
       "\n",
       "    .dataframe thead th {\n",
       "        text-align: right;\n",
       "    }\n",
       "</style>\n",
       "<table border=\"1\" class=\"dataframe\">\n",
       "  <thead>\n",
       "    <tr style=\"text-align: right;\">\n",
       "      <th></th>\n",
       "      <th>hdicode</th>\n",
       "      <th>hdi_rank_2021</th>\n",
       "      <th>hdi_1990</th>\n",
       "      <th>hdi_1991</th>\n",
       "      <th>hdi_1992</th>\n",
       "      <th>hdi_1993</th>\n",
       "      <th>hdi_1994</th>\n",
       "      <th>hdi_1995</th>\n",
       "      <th>hdi_1996</th>\n",
       "      <th>hdi_1997</th>\n",
       "      <th>...</th>\n",
       "      <th>mf_2012</th>\n",
       "      <th>mf_2013</th>\n",
       "      <th>mf_2014</th>\n",
       "      <th>mf_2015</th>\n",
       "      <th>mf_2016</th>\n",
       "      <th>mf_2017</th>\n",
       "      <th>mf_2018</th>\n",
       "      <th>mf_2019</th>\n",
       "      <th>mf_2020</th>\n",
       "      <th>mf_2021</th>\n",
       "    </tr>\n",
       "  </thead>\n",
       "  <tbody>\n",
       "    <tr>\n",
       "      <th>0</th>\n",
       "      <td>1.0</td>\n",
       "      <td>180.0</td>\n",
       "      <td>0.273</td>\n",
       "      <td>0.279</td>\n",
       "      <td>0.287</td>\n",
       "      <td>0.297</td>\n",
       "      <td>0.292</td>\n",
       "      <td>0.310</td>\n",
       "      <td>0.319</td>\n",
       "      <td>0.323</td>\n",
       "      <td>...</td>\n",
       "      <td>1.860000</td>\n",
       "      <td>1.880000</td>\n",
       "      <td>1.660000</td>\n",
       "      <td>1.620000</td>\n",
       "      <td>1.660000</td>\n",
       "      <td>1.410000</td>\n",
       "      <td>1.320000</td>\n",
       "      <td>1.380000</td>\n",
       "      <td>1.380000</td>\n",
       "      <td>1.380000</td>\n",
       "    </tr>\n",
       "    <tr>\n",
       "      <th>1</th>\n",
       "      <td>2.0</td>\n",
       "      <td>148.0</td>\n",
       "      <td>NaN</td>\n",
       "      <td>NaN</td>\n",
       "      <td>NaN</td>\n",
       "      <td>NaN</td>\n",
       "      <td>NaN</td>\n",
       "      <td>NaN</td>\n",
       "      <td>NaN</td>\n",
       "      <td>NaN</td>\n",
       "      <td>...</td>\n",
       "      <td>4.090000</td>\n",
       "      <td>4.530000</td>\n",
       "      <td>3.970000</td>\n",
       "      <td>3.590000</td>\n",
       "      <td>2.790000</td>\n",
       "      <td>2.640000</td>\n",
       "      <td>2.280000</td>\n",
       "      <td>2.180000</td>\n",
       "      <td>2.180000</td>\n",
       "      <td>2.180000</td>\n",
       "    </tr>\n",
       "    <tr>\n",
       "      <th>2</th>\n",
       "      <td>0.0</td>\n",
       "      <td>67.0</td>\n",
       "      <td>0.647</td>\n",
       "      <td>0.629</td>\n",
       "      <td>0.614</td>\n",
       "      <td>0.617</td>\n",
       "      <td>0.624</td>\n",
       "      <td>0.634</td>\n",
       "      <td>0.645</td>\n",
       "      <td>0.642</td>\n",
       "      <td>...</td>\n",
       "      <td>12.440000</td>\n",
       "      <td>11.490000</td>\n",
       "      <td>13.140000</td>\n",
       "      <td>12.610000</td>\n",
       "      <td>14.390000</td>\n",
       "      <td>14.460000</td>\n",
       "      <td>12.850000</td>\n",
       "      <td>12.960000</td>\n",
       "      <td>12.960000</td>\n",
       "      <td>12.960000</td>\n",
       "    </tr>\n",
       "    <tr>\n",
       "      <th>3</th>\n",
       "      <td>3.0</td>\n",
       "      <td>40.0</td>\n",
       "      <td>NaN</td>\n",
       "      <td>NaN</td>\n",
       "      <td>NaN</td>\n",
       "      <td>NaN</td>\n",
       "      <td>NaN</td>\n",
       "      <td>NaN</td>\n",
       "      <td>NaN</td>\n",
       "      <td>NaN</td>\n",
       "      <td>...</td>\n",
       "      <td>NaN</td>\n",
       "      <td>NaN</td>\n",
       "      <td>NaN</td>\n",
       "      <td>NaN</td>\n",
       "      <td>NaN</td>\n",
       "      <td>NaN</td>\n",
       "      <td>NaN</td>\n",
       "      <td>NaN</td>\n",
       "      <td>NaN</td>\n",
       "      <td>NaN</td>\n",
       "    </tr>\n",
       "    <tr>\n",
       "      <th>4</th>\n",
       "      <td>3.0</td>\n",
       "      <td>26.0</td>\n",
       "      <td>0.728</td>\n",
       "      <td>0.739</td>\n",
       "      <td>0.742</td>\n",
       "      <td>0.748</td>\n",
       "      <td>0.755</td>\n",
       "      <td>0.762</td>\n",
       "      <td>0.767</td>\n",
       "      <td>0.773</td>\n",
       "      <td>...</td>\n",
       "      <td>49.560000</td>\n",
       "      <td>49.680000</td>\n",
       "      <td>55.490000</td>\n",
       "      <td>59.760000</td>\n",
       "      <td>64.950000</td>\n",
       "      <td>75.610000</td>\n",
       "      <td>65.970000</td>\n",
       "      <td>68.950000</td>\n",
       "      <td>68.950000</td>\n",
       "      <td>68.950000</td>\n",
       "    </tr>\n",
       "    <tr>\n",
       "      <th>...</th>\n",
       "      <td>...</td>\n",
       "      <td>...</td>\n",
       "      <td>...</td>\n",
       "      <td>...</td>\n",
       "      <td>...</td>\n",
       "      <td>...</td>\n",
       "      <td>...</td>\n",
       "      <td>...</td>\n",
       "      <td>...</td>\n",
       "      <td>...</td>\n",
       "      <td>...</td>\n",
       "      <td>...</td>\n",
       "      <td>...</td>\n",
       "      <td>...</td>\n",
       "      <td>...</td>\n",
       "      <td>...</td>\n",
       "      <td>...</td>\n",
       "      <td>...</td>\n",
       "      <td>...</td>\n",
       "      <td>...</td>\n",
       "      <td>...</td>\n",
       "    </tr>\n",
       "    <tr>\n",
       "      <th>201</th>\n",
       "      <td>NaN</td>\n",
       "      <td>NaN</td>\n",
       "      <td>0.664</td>\n",
       "      <td>0.661</td>\n",
       "      <td>0.654</td>\n",
       "      <td>0.652</td>\n",
       "      <td>0.647</td>\n",
       "      <td>0.652</td>\n",
       "      <td>0.656</td>\n",
       "      <td>0.662</td>\n",
       "      <td>...</td>\n",
       "      <td>13.107171</td>\n",
       "      <td>14.172082</td>\n",
       "      <td>14.189127</td>\n",
       "      <td>14.523162</td>\n",
       "      <td>13.791770</td>\n",
       "      <td>13.618078</td>\n",
       "      <td>13.914030</td>\n",
       "      <td>14.087293</td>\n",
       "      <td>14.091826</td>\n",
       "      <td>14.096719</td>\n",
       "    </tr>\n",
       "    <tr>\n",
       "      <th>202</th>\n",
       "      <td>NaN</td>\n",
       "      <td>NaN</td>\n",
       "      <td>0.633</td>\n",
       "      <td>0.638</td>\n",
       "      <td>0.643</td>\n",
       "      <td>0.648</td>\n",
       "      <td>0.654</td>\n",
       "      <td>0.658</td>\n",
       "      <td>0.665</td>\n",
       "      <td>0.672</td>\n",
       "      <td>...</td>\n",
       "      <td>14.114108</td>\n",
       "      <td>14.493145</td>\n",
       "      <td>14.080904</td>\n",
       "      <td>14.146026</td>\n",
       "      <td>13.325144</td>\n",
       "      <td>13.604555</td>\n",
       "      <td>13.151315</td>\n",
       "      <td>13.296195</td>\n",
       "      <td>13.290914</td>\n",
       "      <td>13.284745</td>\n",
       "    </tr>\n",
       "    <tr>\n",
       "      <th>203</th>\n",
       "      <td>NaN</td>\n",
       "      <td>NaN</td>\n",
       "      <td>0.442</td>\n",
       "      <td>0.447</td>\n",
       "      <td>0.453</td>\n",
       "      <td>0.457</td>\n",
       "      <td>0.462</td>\n",
       "      <td>0.467</td>\n",
       "      <td>0.474</td>\n",
       "      <td>0.480</td>\n",
       "      <td>...</td>\n",
       "      <td>4.699407</td>\n",
       "      <td>4.584935</td>\n",
       "      <td>4.486500</td>\n",
       "      <td>4.610546</td>\n",
       "      <td>4.624886</td>\n",
       "      <td>4.740263</td>\n",
       "      <td>5.000024</td>\n",
       "      <td>5.110230</td>\n",
       "      <td>5.106447</td>\n",
       "      <td>5.102134</td>\n",
       "    </tr>\n",
       "    <tr>\n",
       "      <th>204</th>\n",
       "      <td>NaN</td>\n",
       "      <td>NaN</td>\n",
       "      <td>0.407</td>\n",
       "      <td>0.410</td>\n",
       "      <td>0.410</td>\n",
       "      <td>0.411</td>\n",
       "      <td>0.413</td>\n",
       "      <td>0.420</td>\n",
       "      <td>0.423</td>\n",
       "      <td>0.427</td>\n",
       "      <td>...</td>\n",
       "      <td>3.437760</td>\n",
       "      <td>3.530479</td>\n",
       "      <td>3.491150</td>\n",
       "      <td>3.494860</td>\n",
       "      <td>3.415511</td>\n",
       "      <td>3.256156</td>\n",
       "      <td>3.145930</td>\n",
       "      <td>3.151076</td>\n",
       "      <td>3.146092</td>\n",
       "      <td>3.140740</td>\n",
       "    </tr>\n",
       "    <tr>\n",
       "      <th>205</th>\n",
       "      <td>NaN</td>\n",
       "      <td>NaN</td>\n",
       "      <td>0.601</td>\n",
       "      <td>0.604</td>\n",
       "      <td>0.607</td>\n",
       "      <td>0.610</td>\n",
       "      <td>0.614</td>\n",
       "      <td>0.619</td>\n",
       "      <td>0.624</td>\n",
       "      <td>0.629</td>\n",
       "      <td>...</td>\n",
       "      <td>12.186601</td>\n",
       "      <td>12.474065</td>\n",
       "      <td>12.520563</td>\n",
       "      <td>12.372667</td>\n",
       "      <td>12.277707</td>\n",
       "      <td>12.277878</td>\n",
       "      <td>12.220286</td>\n",
       "      <td>12.375236</td>\n",
       "      <td>12.325166</td>\n",
       "      <td>12.271920</td>\n",
       "    </tr>\n",
       "  </tbody>\n",
       "</table>\n",
       "<p>206 rows × 1005 columns</p>\n",
       "</div>"
      ],
      "text/plain": [
       "     hdicode  hdi_rank_2021  hdi_1990  hdi_1991  hdi_1992  hdi_1993  hdi_1994  \\\n",
       "0        1.0          180.0     0.273     0.279     0.287     0.297     0.292   \n",
       "1        2.0          148.0       NaN       NaN       NaN       NaN       NaN   \n",
       "2        0.0           67.0     0.647     0.629     0.614     0.617     0.624   \n",
       "3        3.0           40.0       NaN       NaN       NaN       NaN       NaN   \n",
       "4        3.0           26.0     0.728     0.739     0.742     0.748     0.755   \n",
       "..       ...            ...       ...       ...       ...       ...       ...   \n",
       "201      NaN            NaN     0.664     0.661     0.654     0.652     0.647   \n",
       "202      NaN            NaN     0.633     0.638     0.643     0.648     0.654   \n",
       "203      NaN            NaN     0.442     0.447     0.453     0.457     0.462   \n",
       "204      NaN            NaN     0.407     0.410     0.410     0.411     0.413   \n",
       "205      NaN            NaN     0.601     0.604     0.607     0.610     0.614   \n",
       "\n",
       "     hdi_1995  hdi_1996  hdi_1997  ...    mf_2012    mf_2013    mf_2014  \\\n",
       "0       0.310     0.319     0.323  ...   1.860000   1.880000   1.660000   \n",
       "1         NaN       NaN       NaN  ...   4.090000   4.530000   3.970000   \n",
       "2       0.634     0.645     0.642  ...  12.440000  11.490000  13.140000   \n",
       "3         NaN       NaN       NaN  ...        NaN        NaN        NaN   \n",
       "4       0.762     0.767     0.773  ...  49.560000  49.680000  55.490000   \n",
       "..        ...       ...       ...  ...        ...        ...        ...   \n",
       "201     0.652     0.656     0.662  ...  13.107171  14.172082  14.189127   \n",
       "202     0.658     0.665     0.672  ...  14.114108  14.493145  14.080904   \n",
       "203     0.467     0.474     0.480  ...   4.699407   4.584935   4.486500   \n",
       "204     0.420     0.423     0.427  ...   3.437760   3.530479   3.491150   \n",
       "205     0.619     0.624     0.629  ...  12.186601  12.474065  12.520563   \n",
       "\n",
       "       mf_2015    mf_2016    mf_2017    mf_2018    mf_2019    mf_2020  \\\n",
       "0     1.620000   1.660000   1.410000   1.320000   1.380000   1.380000   \n",
       "1     3.590000   2.790000   2.640000   2.280000   2.180000   2.180000   \n",
       "2    12.610000  14.390000  14.460000  12.850000  12.960000  12.960000   \n",
       "3          NaN        NaN        NaN        NaN        NaN        NaN   \n",
       "4    59.760000  64.950000  75.610000  65.970000  68.950000  68.950000   \n",
       "..         ...        ...        ...        ...        ...        ...   \n",
       "201  14.523162  13.791770  13.618078  13.914030  14.087293  14.091826   \n",
       "202  14.146026  13.325144  13.604555  13.151315  13.296195  13.290914   \n",
       "203   4.610546   4.624886   4.740263   5.000024   5.110230   5.106447   \n",
       "204   3.494860   3.415511   3.256156   3.145930   3.151076   3.146092   \n",
       "205  12.372667  12.277707  12.277878  12.220286  12.375236  12.325166   \n",
       "\n",
       "       mf_2021  \n",
       "0     1.380000  \n",
       "1     2.180000  \n",
       "2    12.960000  \n",
       "3          NaN  \n",
       "4    68.950000  \n",
       "..         ...  \n",
       "201  14.096719  \n",
       "202  13.284745  \n",
       "203   5.102134  \n",
       "204   3.140740  \n",
       "205  12.271920  \n",
       "\n",
       "[206 rows x 1005 columns]"
      ]
     },
     "execution_count": 4,
     "metadata": {},
     "output_type": "execute_result"
    }
   ],
   "source": [
    "country = df['country']\n",
    "iso = df[\"iso3\"]\n",
    "\n",
    "df.drop([\"iso3\", \"country\", \"region\"], axis=1, inplace = True)\n",
    "df"
   ]
  },
  {
   "cell_type": "code",
   "execution_count": 5,
   "metadata": {},
   "outputs": [],
   "source": [
    "from sklearn.impute import KNNImputer\n",
    "\n",
    "knn_imp = KNNImputer(n_neighbors=20)\n",
    "# fit and transform the imputer on the dataset \n",
    "df_imputed_knn= pd.DataFrame(knn_imp.fit_transform(df),columns=df.columns)"
   ]
  },
  {
   "cell_type": "code",
   "execution_count": 6,
   "metadata": {},
   "outputs": [
    {
     "data": {
      "text/html": [
       "<div>\n",
       "<style scoped>\n",
       "    .dataframe tbody tr th:only-of-type {\n",
       "        vertical-align: middle;\n",
       "    }\n",
       "\n",
       "    .dataframe tbody tr th {\n",
       "        vertical-align: top;\n",
       "    }\n",
       "\n",
       "    .dataframe thead th {\n",
       "        text-align: right;\n",
       "    }\n",
       "</style>\n",
       "<table border=\"1\" class=\"dataframe\">\n",
       "  <thead>\n",
       "    <tr style=\"text-align: right;\">\n",
       "      <th></th>\n",
       "      <th>hdicode</th>\n",
       "      <th>hdi_rank_2021</th>\n",
       "      <th>hdi_1990</th>\n",
       "      <th>hdi_1991</th>\n",
       "      <th>hdi_1992</th>\n",
       "      <th>hdi_1993</th>\n",
       "      <th>hdi_1994</th>\n",
       "      <th>hdi_1995</th>\n",
       "      <th>hdi_1996</th>\n",
       "      <th>hdi_1997</th>\n",
       "      <th>...</th>\n",
       "      <th>mf_2014</th>\n",
       "      <th>mf_2015</th>\n",
       "      <th>mf_2016</th>\n",
       "      <th>mf_2017</th>\n",
       "      <th>mf_2018</th>\n",
       "      <th>mf_2019</th>\n",
       "      <th>mf_2020</th>\n",
       "      <th>mf_2021</th>\n",
       "      <th>country</th>\n",
       "      <th>iso3</th>\n",
       "    </tr>\n",
       "  </thead>\n",
       "  <tbody>\n",
       "    <tr>\n",
       "      <th>0</th>\n",
       "      <td>Low</td>\n",
       "      <td>180.00</td>\n",
       "      <td>0.27300</td>\n",
       "      <td>0.27900</td>\n",
       "      <td>0.28700</td>\n",
       "      <td>0.29700</td>\n",
       "      <td>0.2920</td>\n",
       "      <td>0.31000</td>\n",
       "      <td>0.31900</td>\n",
       "      <td>0.3230</td>\n",
       "      <td>...</td>\n",
       "      <td>1.660000</td>\n",
       "      <td>1.620000</td>\n",
       "      <td>1.660000</td>\n",
       "      <td>1.410000</td>\n",
       "      <td>1.320000</td>\n",
       "      <td>1.380000</td>\n",
       "      <td>1.380000</td>\n",
       "      <td>1.380000</td>\n",
       "      <td>Afghanistan</td>\n",
       "      <td>AFG</td>\n",
       "    </tr>\n",
       "    <tr>\n",
       "      <th>1</th>\n",
       "      <td>Medium</td>\n",
       "      <td>148.00</td>\n",
       "      <td>0.51685</td>\n",
       "      <td>0.52020</td>\n",
       "      <td>0.52175</td>\n",
       "      <td>0.52455</td>\n",
       "      <td>0.5299</td>\n",
       "      <td>0.54200</td>\n",
       "      <td>0.54795</td>\n",
       "      <td>0.5513</td>\n",
       "      <td>...</td>\n",
       "      <td>3.970000</td>\n",
       "      <td>3.590000</td>\n",
       "      <td>2.790000</td>\n",
       "      <td>2.640000</td>\n",
       "      <td>2.280000</td>\n",
       "      <td>2.180000</td>\n",
       "      <td>2.180000</td>\n",
       "      <td>2.180000</td>\n",
       "      <td>Angola</td>\n",
       "      <td>AGO</td>\n",
       "    </tr>\n",
       "    <tr>\n",
       "      <th>2</th>\n",
       "      <td>High</td>\n",
       "      <td>67.00</td>\n",
       "      <td>0.64700</td>\n",
       "      <td>0.62900</td>\n",
       "      <td>0.61400</td>\n",
       "      <td>0.61700</td>\n",
       "      <td>0.6240</td>\n",
       "      <td>0.63400</td>\n",
       "      <td>0.64500</td>\n",
       "      <td>0.6420</td>\n",
       "      <td>...</td>\n",
       "      <td>13.140000</td>\n",
       "      <td>12.610000</td>\n",
       "      <td>14.390000</td>\n",
       "      <td>14.460000</td>\n",
       "      <td>12.850000</td>\n",
       "      <td>12.960000</td>\n",
       "      <td>12.960000</td>\n",
       "      <td>12.960000</td>\n",
       "      <td>Albania</td>\n",
       "      <td>ALB</td>\n",
       "    </tr>\n",
       "    <tr>\n",
       "      <th>3</th>\n",
       "      <td>Very High</td>\n",
       "      <td>40.00</td>\n",
       "      <td>0.80920</td>\n",
       "      <td>0.81415</td>\n",
       "      <td>0.82010</td>\n",
       "      <td>0.82630</td>\n",
       "      <td>0.8348</td>\n",
       "      <td>0.83875</td>\n",
       "      <td>0.84425</td>\n",
       "      <td>0.8499</td>\n",
       "      <td>...</td>\n",
       "      <td>29.524000</td>\n",
       "      <td>29.033000</td>\n",
       "      <td>29.550500</td>\n",
       "      <td>30.422000</td>\n",
       "      <td>28.991500</td>\n",
       "      <td>28.891500</td>\n",
       "      <td>28.891500</td>\n",
       "      <td>28.891500</td>\n",
       "      <td>Andorra</td>\n",
       "      <td>AND</td>\n",
       "    </tr>\n",
       "    <tr>\n",
       "      <th>4</th>\n",
       "      <td>Very High</td>\n",
       "      <td>26.00</td>\n",
       "      <td>0.72800</td>\n",
       "      <td>0.73900</td>\n",
       "      <td>0.74200</td>\n",
       "      <td>0.74800</td>\n",
       "      <td>0.7550</td>\n",
       "      <td>0.76200</td>\n",
       "      <td>0.76700</td>\n",
       "      <td>0.7730</td>\n",
       "      <td>...</td>\n",
       "      <td>55.490000</td>\n",
       "      <td>59.760000</td>\n",
       "      <td>64.950000</td>\n",
       "      <td>75.610000</td>\n",
       "      <td>65.970000</td>\n",
       "      <td>68.950000</td>\n",
       "      <td>68.950000</td>\n",
       "      <td>68.950000</td>\n",
       "      <td>United Arab Emirates</td>\n",
       "      <td>ARE</td>\n",
       "    </tr>\n",
       "    <tr>\n",
       "      <th>...</th>\n",
       "      <td>...</td>\n",
       "      <td>...</td>\n",
       "      <td>...</td>\n",
       "      <td>...</td>\n",
       "      <td>...</td>\n",
       "      <td>...</td>\n",
       "      <td>...</td>\n",
       "      <td>...</td>\n",
       "      <td>...</td>\n",
       "      <td>...</td>\n",
       "      <td>...</td>\n",
       "      <td>...</td>\n",
       "      <td>...</td>\n",
       "      <td>...</td>\n",
       "      <td>...</td>\n",
       "      <td>...</td>\n",
       "      <td>...</td>\n",
       "      <td>...</td>\n",
       "      <td>...</td>\n",
       "      <td>...</td>\n",
       "      <td>...</td>\n",
       "    </tr>\n",
       "    <tr>\n",
       "      <th>201</th>\n",
       "      <td>High</td>\n",
       "      <td>80.95</td>\n",
       "      <td>0.66400</td>\n",
       "      <td>0.66100</td>\n",
       "      <td>0.65400</td>\n",
       "      <td>0.65200</td>\n",
       "      <td>0.6470</td>\n",
       "      <td>0.65200</td>\n",
       "      <td>0.65600</td>\n",
       "      <td>0.6620</td>\n",
       "      <td>...</td>\n",
       "      <td>14.189127</td>\n",
       "      <td>14.523162</td>\n",
       "      <td>13.791770</td>\n",
       "      <td>13.618078</td>\n",
       "      <td>13.914030</td>\n",
       "      <td>14.087293</td>\n",
       "      <td>14.091826</td>\n",
       "      <td>14.096719</td>\n",
       "      <td>Europe and Central Asia</td>\n",
       "      <td>ZZG.ECA</td>\n",
       "    </tr>\n",
       "    <tr>\n",
       "      <th>202</th>\n",
       "      <td>High</td>\n",
       "      <td>84.90</td>\n",
       "      <td>0.63300</td>\n",
       "      <td>0.63800</td>\n",
       "      <td>0.64300</td>\n",
       "      <td>0.64800</td>\n",
       "      <td>0.6540</td>\n",
       "      <td>0.65800</td>\n",
       "      <td>0.66500</td>\n",
       "      <td>0.6720</td>\n",
       "      <td>...</td>\n",
       "      <td>14.080904</td>\n",
       "      <td>14.146026</td>\n",
       "      <td>13.325144</td>\n",
       "      <td>13.604555</td>\n",
       "      <td>13.151315</td>\n",
       "      <td>13.296195</td>\n",
       "      <td>13.290914</td>\n",
       "      <td>13.284745</td>\n",
       "      <td>Latin America and the Caribbean</td>\n",
       "      <td>ZZH.LAC</td>\n",
       "    </tr>\n",
       "    <tr>\n",
       "      <th>203</th>\n",
       "      <td>Low</td>\n",
       "      <td>135.75</td>\n",
       "      <td>0.44200</td>\n",
       "      <td>0.44700</td>\n",
       "      <td>0.45300</td>\n",
       "      <td>0.45700</td>\n",
       "      <td>0.4620</td>\n",
       "      <td>0.46700</td>\n",
       "      <td>0.47400</td>\n",
       "      <td>0.4800</td>\n",
       "      <td>...</td>\n",
       "      <td>4.486500</td>\n",
       "      <td>4.610546</td>\n",
       "      <td>4.624886</td>\n",
       "      <td>4.740263</td>\n",
       "      <td>5.000024</td>\n",
       "      <td>5.110230</td>\n",
       "      <td>5.106447</td>\n",
       "      <td>5.102134</td>\n",
       "      <td>South Asia</td>\n",
       "      <td>ZZI.SA</td>\n",
       "    </tr>\n",
       "    <tr>\n",
       "      <th>204</th>\n",
       "      <td>Low</td>\n",
       "      <td>149.95</td>\n",
       "      <td>0.40700</td>\n",
       "      <td>0.41000</td>\n",
       "      <td>0.41000</td>\n",
       "      <td>0.41100</td>\n",
       "      <td>0.4130</td>\n",
       "      <td>0.42000</td>\n",
       "      <td>0.42300</td>\n",
       "      <td>0.4270</td>\n",
       "      <td>...</td>\n",
       "      <td>3.491150</td>\n",
       "      <td>3.494860</td>\n",
       "      <td>3.415511</td>\n",
       "      <td>3.256156</td>\n",
       "      <td>3.145930</td>\n",
       "      <td>3.151076</td>\n",
       "      <td>3.146092</td>\n",
       "      <td>3.140740</td>\n",
       "      <td>Sub-Saharan Africa</td>\n",
       "      <td>ZZJ.SSA</td>\n",
       "    </tr>\n",
       "    <tr>\n",
       "      <th>205</th>\n",
       "      <td>High</td>\n",
       "      <td>82.15</td>\n",
       "      <td>0.60100</td>\n",
       "      <td>0.60400</td>\n",
       "      <td>0.60700</td>\n",
       "      <td>0.61000</td>\n",
       "      <td>0.6140</td>\n",
       "      <td>0.61900</td>\n",
       "      <td>0.62400</td>\n",
       "      <td>0.6290</td>\n",
       "      <td>...</td>\n",
       "      <td>12.520563</td>\n",
       "      <td>12.372667</td>\n",
       "      <td>12.277707</td>\n",
       "      <td>12.277878</td>\n",
       "      <td>12.220286</td>\n",
       "      <td>12.375236</td>\n",
       "      <td>12.325166</td>\n",
       "      <td>12.271920</td>\n",
       "      <td>World</td>\n",
       "      <td>ZZK.WORLD</td>\n",
       "    </tr>\n",
       "  </tbody>\n",
       "</table>\n",
       "<p>206 rows × 1007 columns</p>\n",
       "</div>"
      ],
      "text/plain": [
       "       hdicode  hdi_rank_2021  hdi_1990  hdi_1991  hdi_1992  hdi_1993  \\\n",
       "0          Low         180.00   0.27300   0.27900   0.28700   0.29700   \n",
       "1       Medium         148.00   0.51685   0.52020   0.52175   0.52455   \n",
       "2         High          67.00   0.64700   0.62900   0.61400   0.61700   \n",
       "3    Very High          40.00   0.80920   0.81415   0.82010   0.82630   \n",
       "4    Very High          26.00   0.72800   0.73900   0.74200   0.74800   \n",
       "..         ...            ...       ...       ...       ...       ...   \n",
       "201       High          80.95   0.66400   0.66100   0.65400   0.65200   \n",
       "202       High          84.90   0.63300   0.63800   0.64300   0.64800   \n",
       "203        Low         135.75   0.44200   0.44700   0.45300   0.45700   \n",
       "204        Low         149.95   0.40700   0.41000   0.41000   0.41100   \n",
       "205       High          82.15   0.60100   0.60400   0.60700   0.61000   \n",
       "\n",
       "     hdi_1994  hdi_1995  hdi_1996  hdi_1997  ...    mf_2014    mf_2015  \\\n",
       "0      0.2920   0.31000   0.31900    0.3230  ...   1.660000   1.620000   \n",
       "1      0.5299   0.54200   0.54795    0.5513  ...   3.970000   3.590000   \n",
       "2      0.6240   0.63400   0.64500    0.6420  ...  13.140000  12.610000   \n",
       "3      0.8348   0.83875   0.84425    0.8499  ...  29.524000  29.033000   \n",
       "4      0.7550   0.76200   0.76700    0.7730  ...  55.490000  59.760000   \n",
       "..        ...       ...       ...       ...  ...        ...        ...   \n",
       "201    0.6470   0.65200   0.65600    0.6620  ...  14.189127  14.523162   \n",
       "202    0.6540   0.65800   0.66500    0.6720  ...  14.080904  14.146026   \n",
       "203    0.4620   0.46700   0.47400    0.4800  ...   4.486500   4.610546   \n",
       "204    0.4130   0.42000   0.42300    0.4270  ...   3.491150   3.494860   \n",
       "205    0.6140   0.61900   0.62400    0.6290  ...  12.520563  12.372667   \n",
       "\n",
       "       mf_2016    mf_2017    mf_2018    mf_2019    mf_2020    mf_2021  \\\n",
       "0     1.660000   1.410000   1.320000   1.380000   1.380000   1.380000   \n",
       "1     2.790000   2.640000   2.280000   2.180000   2.180000   2.180000   \n",
       "2    14.390000  14.460000  12.850000  12.960000  12.960000  12.960000   \n",
       "3    29.550500  30.422000  28.991500  28.891500  28.891500  28.891500   \n",
       "4    64.950000  75.610000  65.970000  68.950000  68.950000  68.950000   \n",
       "..         ...        ...        ...        ...        ...        ...   \n",
       "201  13.791770  13.618078  13.914030  14.087293  14.091826  14.096719   \n",
       "202  13.325144  13.604555  13.151315  13.296195  13.290914  13.284745   \n",
       "203   4.624886   4.740263   5.000024   5.110230   5.106447   5.102134   \n",
       "204   3.415511   3.256156   3.145930   3.151076   3.146092   3.140740   \n",
       "205  12.277707  12.277878  12.220286  12.375236  12.325166  12.271920   \n",
       "\n",
       "                             country       iso3  \n",
       "0                        Afghanistan        AFG  \n",
       "1                             Angola        AGO  \n",
       "2                            Albania        ALB  \n",
       "3                            Andorra        AND  \n",
       "4               United Arab Emirates        ARE  \n",
       "..                               ...        ...  \n",
       "201          Europe and Central Asia    ZZG.ECA  \n",
       "202  Latin America and the Caribbean    ZZH.LAC  \n",
       "203                       South Asia     ZZI.SA  \n",
       "204               Sub-Saharan Africa    ZZJ.SSA  \n",
       "205                            World  ZZK.WORLD  \n",
       "\n",
       "[206 rows x 1007 columns]"
      ]
     },
     "execution_count": 6,
     "metadata": {},
     "output_type": "execute_result"
    }
   ],
   "source": [
    "df_imputed_knn['country'] = country\n",
    "df_imputed_knn['iso3'] = iso\n",
    "df_imputed_knn['hdicode'] = ord_enc.inverse_transform(df_imputed_knn[['hdicode']])\n",
    "df_imputed_knn\n"
   ]
  },
  {
   "cell_type": "code",
   "execution_count": 7,
   "metadata": {},
   "outputs": [],
   "source": [
    "url = 'https://nominatim.openstreetmap.org/search/' + urllib.parse.quote(\"Hong Kong, China (SAR)\") +'?format=json'\n",
    "response = requests.get(url).json()"
   ]
  },
  {
   "cell_type": "code",
   "execution_count": 8,
   "metadata": {},
   "outputs": [
    {
     "data": {
      "text/html": [
       "<div>\n",
       "<style scoped>\n",
       "    .dataframe tbody tr th:only-of-type {\n",
       "        vertical-align: middle;\n",
       "    }\n",
       "\n",
       "    .dataframe tbody tr th {\n",
       "        vertical-align: top;\n",
       "    }\n",
       "\n",
       "    .dataframe thead th {\n",
       "        text-align: right;\n",
       "    }\n",
       "</style>\n",
       "<table border=\"1\" class=\"dataframe\">\n",
       "  <thead>\n",
       "    <tr style=\"text-align: right;\">\n",
       "      <th></th>\n",
       "      <th>hdicode</th>\n",
       "      <th>hdi_rank_2021</th>\n",
       "      <th>hdi_1990</th>\n",
       "      <th>hdi_1991</th>\n",
       "      <th>hdi_1992</th>\n",
       "      <th>hdi_1993</th>\n",
       "      <th>hdi_1994</th>\n",
       "      <th>hdi_1995</th>\n",
       "      <th>hdi_1996</th>\n",
       "      <th>hdi_1997</th>\n",
       "      <th>...</th>\n",
       "      <th>mf_2014</th>\n",
       "      <th>mf_2015</th>\n",
       "      <th>mf_2016</th>\n",
       "      <th>mf_2017</th>\n",
       "      <th>mf_2018</th>\n",
       "      <th>mf_2019</th>\n",
       "      <th>mf_2020</th>\n",
       "      <th>mf_2021</th>\n",
       "      <th>country</th>\n",
       "      <th>iso3</th>\n",
       "    </tr>\n",
       "  </thead>\n",
       "  <tbody>\n",
       "    <tr>\n",
       "      <th>0</th>\n",
       "      <td>Low</td>\n",
       "      <td>180.00</td>\n",
       "      <td>0.27300</td>\n",
       "      <td>0.27900</td>\n",
       "      <td>0.28700</td>\n",
       "      <td>0.29700</td>\n",
       "      <td>0.2920</td>\n",
       "      <td>0.31000</td>\n",
       "      <td>0.31900</td>\n",
       "      <td>0.3230</td>\n",
       "      <td>...</td>\n",
       "      <td>1.660000</td>\n",
       "      <td>1.620000</td>\n",
       "      <td>1.660000</td>\n",
       "      <td>1.410000</td>\n",
       "      <td>1.320000</td>\n",
       "      <td>1.380000</td>\n",
       "      <td>1.380000</td>\n",
       "      <td>1.380000</td>\n",
       "      <td>Afghanistan</td>\n",
       "      <td>AFG</td>\n",
       "    </tr>\n",
       "    <tr>\n",
       "      <th>1</th>\n",
       "      <td>Medium</td>\n",
       "      <td>148.00</td>\n",
       "      <td>0.51685</td>\n",
       "      <td>0.52020</td>\n",
       "      <td>0.52175</td>\n",
       "      <td>0.52455</td>\n",
       "      <td>0.5299</td>\n",
       "      <td>0.54200</td>\n",
       "      <td>0.54795</td>\n",
       "      <td>0.5513</td>\n",
       "      <td>...</td>\n",
       "      <td>3.970000</td>\n",
       "      <td>3.590000</td>\n",
       "      <td>2.790000</td>\n",
       "      <td>2.640000</td>\n",
       "      <td>2.280000</td>\n",
       "      <td>2.180000</td>\n",
       "      <td>2.180000</td>\n",
       "      <td>2.180000</td>\n",
       "      <td>Angola</td>\n",
       "      <td>AGO</td>\n",
       "    </tr>\n",
       "    <tr>\n",
       "      <th>2</th>\n",
       "      <td>High</td>\n",
       "      <td>67.00</td>\n",
       "      <td>0.64700</td>\n",
       "      <td>0.62900</td>\n",
       "      <td>0.61400</td>\n",
       "      <td>0.61700</td>\n",
       "      <td>0.6240</td>\n",
       "      <td>0.63400</td>\n",
       "      <td>0.64500</td>\n",
       "      <td>0.6420</td>\n",
       "      <td>...</td>\n",
       "      <td>13.140000</td>\n",
       "      <td>12.610000</td>\n",
       "      <td>14.390000</td>\n",
       "      <td>14.460000</td>\n",
       "      <td>12.850000</td>\n",
       "      <td>12.960000</td>\n",
       "      <td>12.960000</td>\n",
       "      <td>12.960000</td>\n",
       "      <td>Albania</td>\n",
       "      <td>ALB</td>\n",
       "    </tr>\n",
       "    <tr>\n",
       "      <th>3</th>\n",
       "      <td>Very High</td>\n",
       "      <td>40.00</td>\n",
       "      <td>0.80920</td>\n",
       "      <td>0.81415</td>\n",
       "      <td>0.82010</td>\n",
       "      <td>0.82630</td>\n",
       "      <td>0.8348</td>\n",
       "      <td>0.83875</td>\n",
       "      <td>0.84425</td>\n",
       "      <td>0.8499</td>\n",
       "      <td>...</td>\n",
       "      <td>29.524000</td>\n",
       "      <td>29.033000</td>\n",
       "      <td>29.550500</td>\n",
       "      <td>30.422000</td>\n",
       "      <td>28.991500</td>\n",
       "      <td>28.891500</td>\n",
       "      <td>28.891500</td>\n",
       "      <td>28.891500</td>\n",
       "      <td>Andorra</td>\n",
       "      <td>AND</td>\n",
       "    </tr>\n",
       "    <tr>\n",
       "      <th>4</th>\n",
       "      <td>Very High</td>\n",
       "      <td>26.00</td>\n",
       "      <td>0.72800</td>\n",
       "      <td>0.73900</td>\n",
       "      <td>0.74200</td>\n",
       "      <td>0.74800</td>\n",
       "      <td>0.7550</td>\n",
       "      <td>0.76200</td>\n",
       "      <td>0.76700</td>\n",
       "      <td>0.7730</td>\n",
       "      <td>...</td>\n",
       "      <td>55.490000</td>\n",
       "      <td>59.760000</td>\n",
       "      <td>64.950000</td>\n",
       "      <td>75.610000</td>\n",
       "      <td>65.970000</td>\n",
       "      <td>68.950000</td>\n",
       "      <td>68.950000</td>\n",
       "      <td>68.950000</td>\n",
       "      <td>United Arab Emirates</td>\n",
       "      <td>ARE</td>\n",
       "    </tr>\n",
       "    <tr>\n",
       "      <th>...</th>\n",
       "      <td>...</td>\n",
       "      <td>...</td>\n",
       "      <td>...</td>\n",
       "      <td>...</td>\n",
       "      <td>...</td>\n",
       "      <td>...</td>\n",
       "      <td>...</td>\n",
       "      <td>...</td>\n",
       "      <td>...</td>\n",
       "      <td>...</td>\n",
       "      <td>...</td>\n",
       "      <td>...</td>\n",
       "      <td>...</td>\n",
       "      <td>...</td>\n",
       "      <td>...</td>\n",
       "      <td>...</td>\n",
       "      <td>...</td>\n",
       "      <td>...</td>\n",
       "      <td>...</td>\n",
       "      <td>...</td>\n",
       "      <td>...</td>\n",
       "    </tr>\n",
       "    <tr>\n",
       "      <th>201</th>\n",
       "      <td>High</td>\n",
       "      <td>80.95</td>\n",
       "      <td>0.66400</td>\n",
       "      <td>0.66100</td>\n",
       "      <td>0.65400</td>\n",
       "      <td>0.65200</td>\n",
       "      <td>0.6470</td>\n",
       "      <td>0.65200</td>\n",
       "      <td>0.65600</td>\n",
       "      <td>0.6620</td>\n",
       "      <td>...</td>\n",
       "      <td>14.189127</td>\n",
       "      <td>14.523162</td>\n",
       "      <td>13.791770</td>\n",
       "      <td>13.618078</td>\n",
       "      <td>13.914030</td>\n",
       "      <td>14.087293</td>\n",
       "      <td>14.091826</td>\n",
       "      <td>14.096719</td>\n",
       "      <td>Europe and Central Asia</td>\n",
       "      <td>ZZG.ECA</td>\n",
       "    </tr>\n",
       "    <tr>\n",
       "      <th>202</th>\n",
       "      <td>High</td>\n",
       "      <td>84.90</td>\n",
       "      <td>0.63300</td>\n",
       "      <td>0.63800</td>\n",
       "      <td>0.64300</td>\n",
       "      <td>0.64800</td>\n",
       "      <td>0.6540</td>\n",
       "      <td>0.65800</td>\n",
       "      <td>0.66500</td>\n",
       "      <td>0.6720</td>\n",
       "      <td>...</td>\n",
       "      <td>14.080904</td>\n",
       "      <td>14.146026</td>\n",
       "      <td>13.325144</td>\n",
       "      <td>13.604555</td>\n",
       "      <td>13.151315</td>\n",
       "      <td>13.296195</td>\n",
       "      <td>13.290914</td>\n",
       "      <td>13.284745</td>\n",
       "      <td>Latin America and the Caribbean</td>\n",
       "      <td>ZZH.LAC</td>\n",
       "    </tr>\n",
       "    <tr>\n",
       "      <th>203</th>\n",
       "      <td>Low</td>\n",
       "      <td>135.75</td>\n",
       "      <td>0.44200</td>\n",
       "      <td>0.44700</td>\n",
       "      <td>0.45300</td>\n",
       "      <td>0.45700</td>\n",
       "      <td>0.4620</td>\n",
       "      <td>0.46700</td>\n",
       "      <td>0.47400</td>\n",
       "      <td>0.4800</td>\n",
       "      <td>...</td>\n",
       "      <td>4.486500</td>\n",
       "      <td>4.610546</td>\n",
       "      <td>4.624886</td>\n",
       "      <td>4.740263</td>\n",
       "      <td>5.000024</td>\n",
       "      <td>5.110230</td>\n",
       "      <td>5.106447</td>\n",
       "      <td>5.102134</td>\n",
       "      <td>South Asia</td>\n",
       "      <td>ZZI.SA</td>\n",
       "    </tr>\n",
       "    <tr>\n",
       "      <th>204</th>\n",
       "      <td>Low</td>\n",
       "      <td>149.95</td>\n",
       "      <td>0.40700</td>\n",
       "      <td>0.41000</td>\n",
       "      <td>0.41000</td>\n",
       "      <td>0.41100</td>\n",
       "      <td>0.4130</td>\n",
       "      <td>0.42000</td>\n",
       "      <td>0.42300</td>\n",
       "      <td>0.4270</td>\n",
       "      <td>...</td>\n",
       "      <td>3.491150</td>\n",
       "      <td>3.494860</td>\n",
       "      <td>3.415511</td>\n",
       "      <td>3.256156</td>\n",
       "      <td>3.145930</td>\n",
       "      <td>3.151076</td>\n",
       "      <td>3.146092</td>\n",
       "      <td>3.140740</td>\n",
       "      <td>Sub-Saharan Africa</td>\n",
       "      <td>ZZJ.SSA</td>\n",
       "    </tr>\n",
       "    <tr>\n",
       "      <th>205</th>\n",
       "      <td>High</td>\n",
       "      <td>82.15</td>\n",
       "      <td>0.60100</td>\n",
       "      <td>0.60400</td>\n",
       "      <td>0.60700</td>\n",
       "      <td>0.61000</td>\n",
       "      <td>0.6140</td>\n",
       "      <td>0.61900</td>\n",
       "      <td>0.62400</td>\n",
       "      <td>0.6290</td>\n",
       "      <td>...</td>\n",
       "      <td>12.520563</td>\n",
       "      <td>12.372667</td>\n",
       "      <td>12.277707</td>\n",
       "      <td>12.277878</td>\n",
       "      <td>12.220286</td>\n",
       "      <td>12.375236</td>\n",
       "      <td>12.325166</td>\n",
       "      <td>12.271920</td>\n",
       "      <td>World</td>\n",
       "      <td>ZZK.WORLD</td>\n",
       "    </tr>\n",
       "  </tbody>\n",
       "</table>\n",
       "<p>206 rows × 1007 columns</p>\n",
       "</div>"
      ],
      "text/plain": [
       "       hdicode  hdi_rank_2021  hdi_1990  hdi_1991  hdi_1992  hdi_1993  \\\n",
       "0          Low         180.00   0.27300   0.27900   0.28700   0.29700   \n",
       "1       Medium         148.00   0.51685   0.52020   0.52175   0.52455   \n",
       "2         High          67.00   0.64700   0.62900   0.61400   0.61700   \n",
       "3    Very High          40.00   0.80920   0.81415   0.82010   0.82630   \n",
       "4    Very High          26.00   0.72800   0.73900   0.74200   0.74800   \n",
       "..         ...            ...       ...       ...       ...       ...   \n",
       "201       High          80.95   0.66400   0.66100   0.65400   0.65200   \n",
       "202       High          84.90   0.63300   0.63800   0.64300   0.64800   \n",
       "203        Low         135.75   0.44200   0.44700   0.45300   0.45700   \n",
       "204        Low         149.95   0.40700   0.41000   0.41000   0.41100   \n",
       "205       High          82.15   0.60100   0.60400   0.60700   0.61000   \n",
       "\n",
       "     hdi_1994  hdi_1995  hdi_1996  hdi_1997  ...    mf_2014    mf_2015  \\\n",
       "0      0.2920   0.31000   0.31900    0.3230  ...   1.660000   1.620000   \n",
       "1      0.5299   0.54200   0.54795    0.5513  ...   3.970000   3.590000   \n",
       "2      0.6240   0.63400   0.64500    0.6420  ...  13.140000  12.610000   \n",
       "3      0.8348   0.83875   0.84425    0.8499  ...  29.524000  29.033000   \n",
       "4      0.7550   0.76200   0.76700    0.7730  ...  55.490000  59.760000   \n",
       "..        ...       ...       ...       ...  ...        ...        ...   \n",
       "201    0.6470   0.65200   0.65600    0.6620  ...  14.189127  14.523162   \n",
       "202    0.6540   0.65800   0.66500    0.6720  ...  14.080904  14.146026   \n",
       "203    0.4620   0.46700   0.47400    0.4800  ...   4.486500   4.610546   \n",
       "204    0.4130   0.42000   0.42300    0.4270  ...   3.491150   3.494860   \n",
       "205    0.6140   0.61900   0.62400    0.6290  ...  12.520563  12.372667   \n",
       "\n",
       "       mf_2016    mf_2017    mf_2018    mf_2019    mf_2020    mf_2021  \\\n",
       "0     1.660000   1.410000   1.320000   1.380000   1.380000   1.380000   \n",
       "1     2.790000   2.640000   2.280000   2.180000   2.180000   2.180000   \n",
       "2    14.390000  14.460000  12.850000  12.960000  12.960000  12.960000   \n",
       "3    29.550500  30.422000  28.991500  28.891500  28.891500  28.891500   \n",
       "4    64.950000  75.610000  65.970000  68.950000  68.950000  68.950000   \n",
       "..         ...        ...        ...        ...        ...        ...   \n",
       "201  13.791770  13.618078  13.914030  14.087293  14.091826  14.096719   \n",
       "202  13.325144  13.604555  13.151315  13.296195  13.290914  13.284745   \n",
       "203   4.624886   4.740263   5.000024   5.110230   5.106447   5.102134   \n",
       "204   3.415511   3.256156   3.145930   3.151076   3.146092   3.140740   \n",
       "205  12.277707  12.277878  12.220286  12.375236  12.325166  12.271920   \n",
       "\n",
       "                             country       iso3  \n",
       "0                        Afghanistan        AFG  \n",
       "1                             Angola        AGO  \n",
       "2                            Albania        ALB  \n",
       "3                            Andorra        AND  \n",
       "4               United Arab Emirates        ARE  \n",
       "..                               ...        ...  \n",
       "201          Europe and Central Asia    ZZG.ECA  \n",
       "202  Latin America and the Caribbean    ZZH.LAC  \n",
       "203                       South Asia     ZZI.SA  \n",
       "204               Sub-Saharan Africa    ZZJ.SSA  \n",
       "205                            World  ZZK.WORLD  \n",
       "\n",
       "[206 rows x 1007 columns]"
      ]
     },
     "execution_count": 8,
     "metadata": {},
     "output_type": "execute_result"
    }
   ],
   "source": [
    "df_imputed_knn"
   ]
  },
  {
   "cell_type": "code",
   "execution_count": 9,
   "metadata": {},
   "outputs": [
    {
     "data": {
      "application/vnd.plotly.v1+json": {
       "config": {
        "plotlyServerURL": "https://plot.ly"
       },
       "data": [
        {
         "colorbar": {
          "orientation": "v",
          "x": 0
         },
         "colorscale": [
          [
           0,
           "rgb(234, 252, 253)"
          ],
          [
           0.09090909090909091,
           "rgb(192, 229, 232)"
          ],
          [
           0.18181818181818182,
           "rgb(149, 207, 216)"
          ],
          [
           0.2727272727272727,
           "rgb(114, 184, 205)"
          ],
          [
           0.36363636363636365,
           "rgb(89, 159, 196)"
          ],
          [
           0.45454545454545453,
           "rgb(72, 134, 187)"
          ],
          [
           0.5454545454545454,
           "rgb(62, 109, 178)"
          ],
          [
           0.6363636363636364,
           "rgb(62, 83, 160)"
          ],
          [
           0.7272727272727273,
           "rgb(58, 60, 125)"
          ],
          [
           0.8181818181818182,
           "rgb(44, 42, 87)"
          ],
          [
           0.9090909090909091,
           "rgb(25, 25, 51)"
          ],
          [
           1,
           "rgb(3, 5, 18)"
          ]
         ],
         "locations": [
          "AFG",
          "AGO",
          "ALB",
          "AND",
          "ARE",
          "ARG",
          "ARM",
          "ATG",
          "AUS",
          "AUT",
          "AZE",
          "BDI",
          "BEL",
          "BEN",
          "BFA",
          "BGD",
          "BGR",
          "BHR",
          "BHS",
          "BIH",
          "BLR",
          "BLZ",
          "BOL",
          "BRA",
          "BRB",
          "BRN",
          "BTN",
          "BWA",
          "CAF",
          "CAN",
          "CHE",
          "CHL",
          "CHN",
          "CIV",
          "CMR",
          "COD",
          "COG",
          "COL",
          "COM",
          "CPV",
          "CRI",
          "CUB",
          "CYP",
          "CZE",
          "DEU",
          "DJI",
          "DMA",
          "DNK",
          "DOM",
          "DZA",
          "ECU",
          "EGY",
          "ERI",
          "ESP",
          "EST",
          "ETH",
          "FIN",
          "FJI",
          "FRA",
          "FSM",
          "GAB",
          "GBR",
          "GEO",
          "GHA",
          "GIN",
          "GMB",
          "GNB",
          "GNQ",
          "GRC",
          "GRD",
          "GTM",
          "GUY",
          "HKG",
          "HND",
          "HRV",
          "HTI",
          "HUN",
          "IDN",
          "IND",
          "IRL",
          "IRN",
          "IRQ",
          "ISL",
          "ISR",
          "ITA",
          "JAM",
          "JOR",
          "JPN",
          "KAZ",
          "KEN",
          "KGZ",
          "KHM",
          "KIR",
          "KNA",
          "KOR",
          "KWT",
          "LAO",
          "LBN",
          "LBR",
          "LBY",
          "LCA",
          "LIE",
          "LKA",
          "LSO",
          "LTU",
          "LUX",
          "LVA",
          "MAR",
          "MCO",
          "MDA",
          "MDG",
          "MDV",
          "MEX",
          "MHL",
          "MKD",
          "MLI",
          "MLT",
          "MMR",
          "MNE",
          "MNG",
          "MOZ",
          "MRT",
          "MUS",
          "MWI",
          "MYS",
          "NAM",
          "NER",
          "NGA",
          "NIC",
          "NLD",
          "NOR",
          "NPL",
          "NRU",
          "NZL",
          "OMN",
          "PAK",
          "PAN",
          "PER",
          "PHL",
          "PLW",
          "PNG",
          "POL",
          "PRK",
          "PRT",
          "PRY",
          "PSE",
          "QAT",
          "ROU",
          "RUS",
          "RWA",
          "SAU",
          "SDN",
          "SEN",
          "SGP",
          "SLB",
          "SLE",
          "SLV",
          "SMR",
          "SOM",
          "SRB",
          "SSD",
          "STP",
          "SUR",
          "SVK",
          "SVN",
          "SWE",
          "SWZ",
          "SYC",
          "SYR",
          "TCD",
          "TGO",
          "THA",
          "TJK",
          "TKM",
          "TLS",
          "TON",
          "TTO",
          "TUN",
          "TUR",
          "TUV",
          "TZA",
          "UGA",
          "UKR",
          "URY",
          "USA",
          "UZB",
          "VCT",
          "VEN",
          "VNM",
          "VUT",
          "WSM",
          "YEM",
          "ZAF",
          "ZMB",
          "ZWE",
          "ZZA.VHHD",
          "ZZB.HHD",
          "ZZC.MHD",
          "ZZD.LHD",
          "ZZE.AS",
          "ZZF.EAP",
          "ZZG.ECA",
          "ZZH.LAC",
          "ZZI.SA",
          "ZZJ.SSA",
          "ZZK.WORLD"
         ],
         "marker": {
          "line": {
           "color": "darkgray",
           "width": 0.2
          }
         },
         "type": "choropleth",
         "z": [
          0.478,
          0.586,
          0.796,
          0.858,
          0.911,
          0.842,
          0.759,
          0.788,
          0.951,
          0.916,
          0.745,
          0.426,
          0.937,
          0.525,
          0.449,
          0.661,
          0.795,
          0.875,
          0.812,
          0.78,
          0.808,
          0.683,
          0.692,
          0.754,
          0.79,
          0.829,
          0.666,
          0.693,
          0.404,
          0.936,
          0.962,
          0.855,
          0.768,
          0.55,
          0.576,
          0.479,
          0.571,
          0.752,
          0.558,
          0.662,
          0.809,
          0.764,
          0.896,
          0.889,
          0.942,
          0.509,
          0.72,
          0.948,
          0.767,
          0.745,
          0.74,
          0.731,
          0.492,
          0.905,
          0.89,
          0.498,
          0.94,
          0.73,
          0.903,
          0.628,
          0.706,
          0.929,
          0.802,
          0.632,
          0.465,
          0.5,
          0.483,
          0.596,
          0.887,
          0.795,
          0.627,
          0.714,
          0.952,
          0.621,
          0.858,
          0.535,
          0.846,
          0.705,
          0.633,
          0.945,
          0.774,
          0.686,
          0.959,
          0.919,
          0.895,
          0.709,
          0.72,
          0.925,
          0.811,
          0.575,
          0.692,
          0.593,
          0.624,
          0.777,
          0.925,
          0.831,
          0.607,
          0.706,
          0.481,
          0.718,
          0.715,
          0.935,
          0.782,
          0.514,
          0.875,
          0.93,
          0.863,
          0.683,
          0.9152000000000001,
          0.767,
          0.501,
          0.747,
          0.758,
          0.639,
          0.77,
          0.428,
          0.918,
          0.585,
          0.832,
          0.739,
          0.446,
          0.556,
          0.802,
          0.512,
          0.803,
          0.615,
          0.4,
          0.535,
          0.667,
          0.941,
          0.961,
          0.602,
          0.75,
          0.937,
          0.816,
          0.544,
          0.805,
          0.762,
          0.699,
          0.767,
          0.558,
          0.876,
          0.77765,
          0.866,
          0.717,
          0.715,
          0.855,
          0.821,
          0.822,
          0.534,
          0.875,
          0.508,
          0.511,
          0.939,
          0.564,
          0.477,
          0.675,
          0.853,
          0.4659000000000001,
          0.802,
          0.385,
          0.618,
          0.73,
          0.848,
          0.918,
          0.947,
          0.597,
          0.785,
          0.577,
          0.394,
          0.539,
          0.8,
          0.685,
          0.745,
          0.607,
          0.745,
          0.81,
          0.731,
          0.838,
          0.641,
          0.549,
          0.525,
          0.773,
          0.809,
          0.921,
          0.727,
          0.751,
          0.691,
          0.703,
          0.607,
          0.707,
          0.455,
          0.713,
          0.565,
          0.593,
          0.896,
          0.754,
          0.636,
          0.518,
          0.708,
          0.749,
          0.796,
          0.754,
          0.632,
          0.547,
          0.732
         ]
        }
       ],
       "layout": {
        "geo": {
         "countrycolor": "rgb(204, 204, 204)",
         "landcolor": "rgb(243, 243, 243, 0)",
         "projection": {
          "type": "orthographic"
         },
         "showcoastlines": false,
         "showcountries": true,
         "showland": true
        },
        "margin": {
         "b": 0,
         "l": 0,
         "r": 0,
         "t": 0
        },
        "template": {
         "data": {
          "bar": [
           {
            "error_x": {
             "color": "#2a3f5f"
            },
            "error_y": {
             "color": "#2a3f5f"
            },
            "marker": {
             "line": {
              "color": "#E5ECF6",
              "width": 0.5
             },
             "pattern": {
              "fillmode": "overlay",
              "size": 10,
              "solidity": 0.2
             }
            },
            "type": "bar"
           }
          ],
          "barpolar": [
           {
            "marker": {
             "line": {
              "color": "#E5ECF6",
              "width": 0.5
             },
             "pattern": {
              "fillmode": "overlay",
              "size": 10,
              "solidity": 0.2
             }
            },
            "type": "barpolar"
           }
          ],
          "carpet": [
           {
            "aaxis": {
             "endlinecolor": "#2a3f5f",
             "gridcolor": "white",
             "linecolor": "white",
             "minorgridcolor": "white",
             "startlinecolor": "#2a3f5f"
            },
            "baxis": {
             "endlinecolor": "#2a3f5f",
             "gridcolor": "white",
             "linecolor": "white",
             "minorgridcolor": "white",
             "startlinecolor": "#2a3f5f"
            },
            "type": "carpet"
           }
          ],
          "choropleth": [
           {
            "colorbar": {
             "outlinewidth": 0,
             "ticks": ""
            },
            "type": "choropleth"
           }
          ],
          "contour": [
           {
            "colorbar": {
             "outlinewidth": 0,
             "ticks": ""
            },
            "colorscale": [
             [
              0,
              "#0d0887"
             ],
             [
              0.1111111111111111,
              "#46039f"
             ],
             [
              0.2222222222222222,
              "#7201a8"
             ],
             [
              0.3333333333333333,
              "#9c179e"
             ],
             [
              0.4444444444444444,
              "#bd3786"
             ],
             [
              0.5555555555555556,
              "#d8576b"
             ],
             [
              0.6666666666666666,
              "#ed7953"
             ],
             [
              0.7777777777777778,
              "#fb9f3a"
             ],
             [
              0.8888888888888888,
              "#fdca26"
             ],
             [
              1,
              "#f0f921"
             ]
            ],
            "type": "contour"
           }
          ],
          "contourcarpet": [
           {
            "colorbar": {
             "outlinewidth": 0,
             "ticks": ""
            },
            "type": "contourcarpet"
           }
          ],
          "heatmap": [
           {
            "colorbar": {
             "outlinewidth": 0,
             "ticks": ""
            },
            "colorscale": [
             [
              0,
              "#0d0887"
             ],
             [
              0.1111111111111111,
              "#46039f"
             ],
             [
              0.2222222222222222,
              "#7201a8"
             ],
             [
              0.3333333333333333,
              "#9c179e"
             ],
             [
              0.4444444444444444,
              "#bd3786"
             ],
             [
              0.5555555555555556,
              "#d8576b"
             ],
             [
              0.6666666666666666,
              "#ed7953"
             ],
             [
              0.7777777777777778,
              "#fb9f3a"
             ],
             [
              0.8888888888888888,
              "#fdca26"
             ],
             [
              1,
              "#f0f921"
             ]
            ],
            "type": "heatmap"
           }
          ],
          "heatmapgl": [
           {
            "colorbar": {
             "outlinewidth": 0,
             "ticks": ""
            },
            "colorscale": [
             [
              0,
              "#0d0887"
             ],
             [
              0.1111111111111111,
              "#46039f"
             ],
             [
              0.2222222222222222,
              "#7201a8"
             ],
             [
              0.3333333333333333,
              "#9c179e"
             ],
             [
              0.4444444444444444,
              "#bd3786"
             ],
             [
              0.5555555555555556,
              "#d8576b"
             ],
             [
              0.6666666666666666,
              "#ed7953"
             ],
             [
              0.7777777777777778,
              "#fb9f3a"
             ],
             [
              0.8888888888888888,
              "#fdca26"
             ],
             [
              1,
              "#f0f921"
             ]
            ],
            "type": "heatmapgl"
           }
          ],
          "histogram": [
           {
            "marker": {
             "pattern": {
              "fillmode": "overlay",
              "size": 10,
              "solidity": 0.2
             }
            },
            "type": "histogram"
           }
          ],
          "histogram2d": [
           {
            "colorbar": {
             "outlinewidth": 0,
             "ticks": ""
            },
            "colorscale": [
             [
              0,
              "#0d0887"
             ],
             [
              0.1111111111111111,
              "#46039f"
             ],
             [
              0.2222222222222222,
              "#7201a8"
             ],
             [
              0.3333333333333333,
              "#9c179e"
             ],
             [
              0.4444444444444444,
              "#bd3786"
             ],
             [
              0.5555555555555556,
              "#d8576b"
             ],
             [
              0.6666666666666666,
              "#ed7953"
             ],
             [
              0.7777777777777778,
              "#fb9f3a"
             ],
             [
              0.8888888888888888,
              "#fdca26"
             ],
             [
              1,
              "#f0f921"
             ]
            ],
            "type": "histogram2d"
           }
          ],
          "histogram2dcontour": [
           {
            "colorbar": {
             "outlinewidth": 0,
             "ticks": ""
            },
            "colorscale": [
             [
              0,
              "#0d0887"
             ],
             [
              0.1111111111111111,
              "#46039f"
             ],
             [
              0.2222222222222222,
              "#7201a8"
             ],
             [
              0.3333333333333333,
              "#9c179e"
             ],
             [
              0.4444444444444444,
              "#bd3786"
             ],
             [
              0.5555555555555556,
              "#d8576b"
             ],
             [
              0.6666666666666666,
              "#ed7953"
             ],
             [
              0.7777777777777778,
              "#fb9f3a"
             ],
             [
              0.8888888888888888,
              "#fdca26"
             ],
             [
              1,
              "#f0f921"
             ]
            ],
            "type": "histogram2dcontour"
           }
          ],
          "mesh3d": [
           {
            "colorbar": {
             "outlinewidth": 0,
             "ticks": ""
            },
            "type": "mesh3d"
           }
          ],
          "parcoords": [
           {
            "line": {
             "colorbar": {
              "outlinewidth": 0,
              "ticks": ""
             }
            },
            "type": "parcoords"
           }
          ],
          "pie": [
           {
            "automargin": true,
            "type": "pie"
           }
          ],
          "scatter": [
           {
            "marker": {
             "colorbar": {
              "outlinewidth": 0,
              "ticks": ""
             }
            },
            "type": "scatter"
           }
          ],
          "scatter3d": [
           {
            "line": {
             "colorbar": {
              "outlinewidth": 0,
              "ticks": ""
             }
            },
            "marker": {
             "colorbar": {
              "outlinewidth": 0,
              "ticks": ""
             }
            },
            "type": "scatter3d"
           }
          ],
          "scattercarpet": [
           {
            "marker": {
             "colorbar": {
              "outlinewidth": 0,
              "ticks": ""
             }
            },
            "type": "scattercarpet"
           }
          ],
          "scattergeo": [
           {
            "marker": {
             "colorbar": {
              "outlinewidth": 0,
              "ticks": ""
             }
            },
            "type": "scattergeo"
           }
          ],
          "scattergl": [
           {
            "marker": {
             "colorbar": {
              "outlinewidth": 0,
              "ticks": ""
             }
            },
            "type": "scattergl"
           }
          ],
          "scattermapbox": [
           {
            "marker": {
             "colorbar": {
              "outlinewidth": 0,
              "ticks": ""
             }
            },
            "type": "scattermapbox"
           }
          ],
          "scatterpolar": [
           {
            "marker": {
             "colorbar": {
              "outlinewidth": 0,
              "ticks": ""
             }
            },
            "type": "scatterpolar"
           }
          ],
          "scatterpolargl": [
           {
            "marker": {
             "colorbar": {
              "outlinewidth": 0,
              "ticks": ""
             }
            },
            "type": "scatterpolargl"
           }
          ],
          "scatterternary": [
           {
            "marker": {
             "colorbar": {
              "outlinewidth": 0,
              "ticks": ""
             }
            },
            "type": "scatterternary"
           }
          ],
          "surface": [
           {
            "colorbar": {
             "outlinewidth": 0,
             "ticks": ""
            },
            "colorscale": [
             [
              0,
              "#0d0887"
             ],
             [
              0.1111111111111111,
              "#46039f"
             ],
             [
              0.2222222222222222,
              "#7201a8"
             ],
             [
              0.3333333333333333,
              "#9c179e"
             ],
             [
              0.4444444444444444,
              "#bd3786"
             ],
             [
              0.5555555555555556,
              "#d8576b"
             ],
             [
              0.6666666666666666,
              "#ed7953"
             ],
             [
              0.7777777777777778,
              "#fb9f3a"
             ],
             [
              0.8888888888888888,
              "#fdca26"
             ],
             [
              1,
              "#f0f921"
             ]
            ],
            "type": "surface"
           }
          ],
          "table": [
           {
            "cells": {
             "fill": {
              "color": "#EBF0F8"
             },
             "line": {
              "color": "white"
             }
            },
            "header": {
             "fill": {
              "color": "#C8D4E3"
             },
             "line": {
              "color": "white"
             }
            },
            "type": "table"
           }
          ]
         },
         "layout": {
          "annotationdefaults": {
           "arrowcolor": "#2a3f5f",
           "arrowhead": 0,
           "arrowwidth": 1
          },
          "autotypenumbers": "strict",
          "coloraxis": {
           "colorbar": {
            "outlinewidth": 0,
            "ticks": ""
           }
          },
          "colorscale": {
           "diverging": [
            [
             0,
             "#8e0152"
            ],
            [
             0.1,
             "#c51b7d"
            ],
            [
             0.2,
             "#de77ae"
            ],
            [
             0.3,
             "#f1b6da"
            ],
            [
             0.4,
             "#fde0ef"
            ],
            [
             0.5,
             "#f7f7f7"
            ],
            [
             0.6,
             "#e6f5d0"
            ],
            [
             0.7,
             "#b8e186"
            ],
            [
             0.8,
             "#7fbc41"
            ],
            [
             0.9,
             "#4d9221"
            ],
            [
             1,
             "#276419"
            ]
           ],
           "sequential": [
            [
             0,
             "#0d0887"
            ],
            [
             0.1111111111111111,
             "#46039f"
            ],
            [
             0.2222222222222222,
             "#7201a8"
            ],
            [
             0.3333333333333333,
             "#9c179e"
            ],
            [
             0.4444444444444444,
             "#bd3786"
            ],
            [
             0.5555555555555556,
             "#d8576b"
            ],
            [
             0.6666666666666666,
             "#ed7953"
            ],
            [
             0.7777777777777778,
             "#fb9f3a"
            ],
            [
             0.8888888888888888,
             "#fdca26"
            ],
            [
             1,
             "#f0f921"
            ]
           ],
           "sequentialminus": [
            [
             0,
             "#0d0887"
            ],
            [
             0.1111111111111111,
             "#46039f"
            ],
            [
             0.2222222222222222,
             "#7201a8"
            ],
            [
             0.3333333333333333,
             "#9c179e"
            ],
            [
             0.4444444444444444,
             "#bd3786"
            ],
            [
             0.5555555555555556,
             "#d8576b"
            ],
            [
             0.6666666666666666,
             "#ed7953"
            ],
            [
             0.7777777777777778,
             "#fb9f3a"
            ],
            [
             0.8888888888888888,
             "#fdca26"
            ],
            [
             1,
             "#f0f921"
            ]
           ]
          },
          "colorway": [
           "#636efa",
           "#EF553B",
           "#00cc96",
           "#ab63fa",
           "#FFA15A",
           "#19d3f3",
           "#FF6692",
           "#B6E880",
           "#FF97FF",
           "#FECB52"
          ],
          "font": {
           "color": "#2a3f5f"
          },
          "geo": {
           "bgcolor": "white",
           "lakecolor": "white",
           "landcolor": "#E5ECF6",
           "showlakes": true,
           "showland": true,
           "subunitcolor": "white"
          },
          "hoverlabel": {
           "align": "left"
          },
          "hovermode": "closest",
          "mapbox": {
           "style": "light"
          },
          "paper_bgcolor": "white",
          "plot_bgcolor": "#E5ECF6",
          "polar": {
           "angularaxis": {
            "gridcolor": "white",
            "linecolor": "white",
            "ticks": ""
           },
           "bgcolor": "#E5ECF6",
           "radialaxis": {
            "gridcolor": "white",
            "linecolor": "white",
            "ticks": ""
           }
          },
          "scene": {
           "xaxis": {
            "backgroundcolor": "#E5ECF6",
            "gridcolor": "white",
            "gridwidth": 2,
            "linecolor": "white",
            "showbackground": true,
            "ticks": "",
            "zerolinecolor": "white"
           },
           "yaxis": {
            "backgroundcolor": "#E5ECF6",
            "gridcolor": "white",
            "gridwidth": 2,
            "linecolor": "white",
            "showbackground": true,
            "ticks": "",
            "zerolinecolor": "white"
           },
           "zaxis": {
            "backgroundcolor": "#E5ECF6",
            "gridcolor": "white",
            "gridwidth": 2,
            "linecolor": "white",
            "showbackground": true,
            "ticks": "",
            "zerolinecolor": "white"
           }
          },
          "shapedefaults": {
           "line": {
            "color": "#2a3f5f"
           }
          },
          "ternary": {
           "aaxis": {
            "gridcolor": "white",
            "linecolor": "white",
            "ticks": ""
           },
           "baxis": {
            "gridcolor": "white",
            "linecolor": "white",
            "ticks": ""
           },
           "bgcolor": "#E5ECF6",
           "caxis": {
            "gridcolor": "white",
            "linecolor": "white",
            "ticks": ""
           }
          },
          "title": {
           "x": 0.05
          },
          "xaxis": {
           "automargin": true,
           "gridcolor": "white",
           "linecolor": "white",
           "ticks": "",
           "title": {
            "standoff": 15
           },
           "zerolinecolor": "white",
           "zerolinewidth": 2
          },
          "yaxis": {
           "automargin": true,
           "gridcolor": "white",
           "linecolor": "white",
           "ticks": "",
           "title": {
            "standoff": 15
           },
           "zerolinecolor": "white",
           "zerolinewidth": 2
          }
         }
        }
       }
      }
     },
     "metadata": {},
     "output_type": "display_data"
    }
   ],
   "source": [
    "import plotly.graph_objects as go\n",
    "import plotly.io as pio\n",
    "\n",
    "fig = go.Figure(go.Choropleth(locations=df_imputed_knn['iso3'], z=df_imputed_knn['hdi_2021'].astype(float), colorscale=\"ice_r\"))\n",
    "\n",
    "        \n",
    "fig.update_traces(marker_line_color='darkgray', marker_line_width=0.2, colorbar=dict(\n",
    "            orientation=\"v\",\n",
    "            x=0\n",
    "        ))\n",
    "\n",
    "fig.update_layout()\n",
    "\n",
    "fig.update_layout(\n",
    "        geo=go.layout.Geo(\n",
    "            projection_type='orthographic',\n",
    "            showland=True,\n",
    "            showcoastlines=False,\n",
    "            showcountries=True,\n",
    "            landcolor='rgb(243, 243, 243, 0)',\n",
    "            countrycolor='rgb(204, 204, 204)'\n",
    "        ),\n",
    "        margin={\"r\":0,\"t\":0,\"l\":0,\"b\":0},\n",
    "        \n",
    "    )\n",
    "\n",
    "fig.show()\n",
    "fig.write_html(\"./html/chart/map_box_hdi.html\")"
   ]
  },
  {
   "cell_type": "code",
   "execution_count": 10,
   "metadata": {},
   "outputs": [],
   "source": [
    "import json\n",
    "\n",
    "df = df_imputed_knn[['country', \"iso3\"]]\n",
    "iso = {}\n",
    "for i in range(df.shape[0]):\n",
    "    iso[df[\"iso3\"][i]] = df[\"country\"][i]\n",
    "\n",
    "with open('./html/json_files/to_country.json', 'w') as country:\n",
    "    json.dump(iso, country)"
   ]
  }
 ],
 "metadata": {
  "kernelspec": {
   "display_name": "Python 3",
   "language": "python",
   "name": "python3"
  },
  "language_info": {
   "codemirror_mode": {
    "name": "ipython",
    "version": 3
   },
   "file_extension": ".py",
   "mimetype": "text/x-python",
   "name": "python",
   "nbconvert_exporter": "python",
   "pygments_lexer": "ipython3",
   "version": "3.10.2 (tags/v3.10.2:a58ebcc, Jan 17 2022, 14:12:15) [MSC v.1929 64 bit (AMD64)]"
  },
  "orig_nbformat": 4,
  "vscode": {
   "interpreter": {
    "hash": "8429e9b7edb7ce11841f0fa6bb8be30b1b26b9693a3bb94cacc2f1255dd47035"
   }
  }
 },
 "nbformat": 4,
 "nbformat_minor": 2
}
